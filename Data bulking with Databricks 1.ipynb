{
 "cells": [
  {
   "cell_type": "markdown",
   "metadata": {
    "application/vnd.databricks.v1+cell": {
     "cellMetadata": {},
     "inputWidgets": {},
     "nuid": "e16349b8-2404-41cd-933e-7d4a426d479f",
     "showTitle": false,
     "tableResultSettingsMap": {},
     "title": ""
    }
   },
   "source": [
    "# Time To Move Data with Spark"
   ]
  },
  {
   "cell_type": "markdown",
   "metadata": {
    "application/vnd.databricks.v1+cell": {
     "cellMetadata": {},
     "inputWidgets": {},
     "nuid": "c6026e70-1634-4438-80f3-cf5cacbf244f",
     "showTitle": false,
     "tableResultSettingsMap": {},
     "title": ""
    }
   },
   "source": [
    "#### First Let'st create connection to our SQL Db & our Blob Storage"
   ]
  },
  {
   "cell_type": "code",
   "execution_count": 0,
   "metadata": {
    "application/vnd.databricks.v1+cell": {
     "cellMetadata": {
      "byteLimit": 2048000,
      "rowLimit": 10000
     },
     "inputWidgets": {},
     "nuid": "4b6b6211-71ba-45d6-954c-50c55b343653",
     "showTitle": false,
     "tableResultSettingsMap": {},
     "title": ""
    }
   },
   "outputs": [
    {
     "output_type": "stream",
     "name": "stdout",
     "output_type": "stream",
     "text": [
      "Process Started\nConnection to db succesfully\n/mnt/americanagg-container is already mounted.\n"
     ]
    }
   ],
   "source": [
    "print('Process Started')\n",
    "\n",
    "# Define the JDBC connection properties using your provided connection string\n",
    "jdbc_url = \"jdbc:sqlserver://databaseserver.database.windows.net:1433;database=yourdatabasename\"\n",
    "connection_properties = {\n",
    "    \"user\": \"databaseusername\",  # Your username\n",
    "    \"password\": \"password\",  # Replace with your actual password\n",
    "    \"driver\": \"com.microsoft.sqlserver.jdbc.SQLServerDriver\",\n",
    "    \"encrypt\": \"true\",\n",
    "    \"trustServerCertificate\": \"false\",\n",
    "    \"hostNameInCertificate\": \"*.database.windows.net\",\n",
    "    \"loginTimeout\": \"30\"\n",
    "}\n",
    "print(\"Connection to db succesfully\")\n",
    "\n",
    "# Define your Azure Storage account name and key\n",
    "storage_account_name = \"storagename\"\n",
    "storage_account_key = \"youraccountkey\"\n",
    "container_name = \"containername\"  \n",
    "\n",
    "# Define your mount point\n",
    "mount_point = f\"/mnt/{container_name}\"\n",
    "\n",
    "# Check if the storage is already mounted\n",
    "if any(mount.mountPoint == mount_point for mount in dbutils.fs.mounts()):\n",
    "    print(f\"{mount_point} is already mounted.\")\n",
    "else:\n",
    "    dbutils.fs.mount(\n",
    "      source = f\"wasbs://{container_name}@{storage_account_name}.blob.core.windows.net\",\n",
    "      mount_point = mount_point,\n",
    "      extra_configs = {f\"fs.azure.account.key.{storage_account_name}.blob.core.windows.net\": storage_account_key}\n",
    "    )\n",
    "    print(f\"Mounted {mount_point} successfully.\")"
   ]
  },
  {
   "cell_type": "markdown",
   "metadata": {
    "application/vnd.databricks.v1+cell": {
     "cellMetadata": {},
     "inputWidgets": {},
     "nuid": "addf75e8-8453-42aa-9272-b54c795cfe0e",
     "showTitle": false,
     "tableResultSettingsMap": {},
     "title": ""
    }
   },
   "source": [
    "#### Function Time\n",
    "With this Function aim to read the our file from blob Storage"
   ]
  },
  {
   "cell_type": "code",
   "execution_count": 0,
   "metadata": {
    "application/vnd.databricks.v1+cell": {
     "cellMetadata": {
      "byteLimit": 2048000,
      "rowLimit": 10000
     },
     "inputWidgets": {},
     "nuid": "280cc31b-0fd6-4514-be80-b927d2a0bcc4",
     "showTitle": false,
     "tableResultSettingsMap": {},
     "title": ""
    }
   },
   "outputs": [
    {
     "output_type": "stream",
     "name": "stdout",
     "output_type": "stream",
     "text": [
      "File successfully read\n"
     ]
    }
   ],
   "source": [
    "def read_csv(csv_file_path):\n",
    "    df = spark.read.format(\"csv\").option(\"header\", \"true\").load(csv_file_path)\n",
    "    return df\n",
    "\n",
    "# File path to the CSV file\n",
    "try:\n",
    "    file_path = \"/mnt/americanagg-container/Business Conditions Major.csv\"\n",
    "    z = read_csv(file_path)\n",
    "    print('File successfully read')\n",
    "except Exception as e:\n",
    "    print(f'Error reading file: {e}')"
   ]
  },
  {
   "cell_type": "markdown",
   "metadata": {
    "application/vnd.databricks.v1+cell": {
     "cellMetadata": {},
     "inputWidgets": {},
     "nuid": "b8d7a231-0304-4b16-91b6-1904c61be971",
     "showTitle": false,
     "tableResultSettingsMap": {},
     "title": ""
    }
   },
   "source": [
    "# Spark Magic\n",
    "With a simple lines of code spark will bulk the information into our SQL db\n",
    "\n",
    "### NOTE:\n",
    "The number of columns and names should match the table in sql server,spark itself will figure it out how to insert the data."
   ]
  },
  {
   "cell_type": "code",
   "execution_count": 0,
   "metadata": {
    "application/vnd.databricks.v1+cell": {
     "cellMetadata": {
      "byteLimit": 2048000,
      "rowLimit": 10000
     },
     "inputWidgets": {},
     "nuid": "67606e19-2875-4246-b98b-2e23fdbf8485",
     "showTitle": false,
     "tableResultSettingsMap": {},
     "title": ""
    }
   },
   "outputs": [
    {
     "output_type": "stream",
     "name": "stdout",
     "output_type": "stream",
     "text": [
      "data succesfully Inserted\n"
     ]
    }
   ],
   "source": [
    "table_name = \"[yourtablename]\"\n",
    "z.write.jdbc(url=jdbc_url, table=table_name, mode=\"append\", properties=connection_properties)\n",
    "print(\"data succesfully Inserted\")"
   ]
  }
 ],
 "metadata": {
  "application/vnd.databricks.v1+notebook": {
   "computePreferences": null,
   "dashboards": [],
   "environmentMetadata": null,
   "language": "python",
   "notebookMetadata": {
    "pythonIndentUnit": 4
   },
   "notebookName": "(Clone) myManualInsertion_Csv",
   "widgets": {}
  },
  "language_info": {
   "name": "python"
  }
 },
 "nbformat": 4,
 "nbformat_minor": 0
}