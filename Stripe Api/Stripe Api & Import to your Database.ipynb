{
 "cells": [
  {
   "cell_type": "code",
   "execution_count": 1,
   "metadata": {},
   "outputs": [],
   "source": [
    "import pandas as pd\n",
    "import stripe\n",
    "import pyodbc"
   ]
  },
  {
   "cell_type": "code",
   "execution_count": 2,
   "metadata": {},
   "outputs": [
    {
     "name": "stdout",
     "output_type": "stream",
     "text": [
      "connection made\n",
      "the extraction has started\n"
     ]
    }
   ],
   "source": [
    "# Place your Stripe key\n",
    "myStripeKey = 'your_stripe_api_key'\n",
    "\n",
    "stripe.api_key = myStripeKey\n",
    "print('connection made')\n",
    "\n",
    "# Initialize empty lists to store extracted data and subscription IDs\n",
    "extracted_data = []\n",
    "\n",
    "print(\"the extraction has started\")"
   ]
  },
  {
   "cell_type": "code",
   "execution_count": 3,
   "metadata": {},
   "outputs": [
    {
     "name": "stdout",
     "output_type": "stream",
     "text": [
      "the extraction has finished succesfully\n"
     ]
    }
   ],
   "source": [
    "# Loop until all subscriptions are retrieved (Stripe by default just give you a limit number)\n",
    "has_more = True\n",
    "starting_after = None\n",
    "\n",
    "while has_more: # thats why i use the loop\n",
    "    # Get the next page of subscriptions\n",
    "    subscriptions = stripe.Subscription.list(limit=100, starting_after=starting_after)\n",
    "\n",
    "    # Extract data for each subscription\n",
    "    for subscription in subscriptions.data:\n",
    "        status = subscription[\"status\"]\n",
    "        id_c = subscription[\"id\"]\n",
    "        customer_id = subscription[\"customer\"]\n",
    "        current_period_start = subscription[\"current_period_start\"]\n",
    "        current_period_end = subscription[\"current_period_end\"]\n",
    "        amount = subscription[\"items\"][\"data\"][0][\"plan\"][\"amount\"]\n",
    "\n",
    "        # Store extracted data in a dictionary\n",
    "        myDict_of_data = {    \n",
    "            \"subscription_id\": id_c,\n",
    "            \"customer_id\": customer_id,\n",
    "            \"current_period_start\": current_period_start,\n",
    "            \"current_period_end\": current_period_end,\n",
    "            \"amount\": amount,\n",
    "            \"status\": status\n",
    "        }\n",
    "        extracted_data.append(myDict_of_data)\n",
    "\n",
    "    # Check for more pages\n",
    "    has_more = subscriptions.has_more\n",
    "    if has_more:\n",
    "        # Update starting_after for the next request\n",
    "        starting_after = subscriptions.data[-1].id\n",
    "\n",
    "print(\"the extraction has finished succesfully\")"
   ]
  },
  {
   "cell_type": "code",
   "execution_count": 6,
   "metadata": {},
   "outputs": [
    {
     "name": "stdout",
     "output_type": "stream",
     "text": [
      "the size of the extraction was (1811, 6)\n"
     ]
    },
    {
     "name": "stderr",
     "output_type": "stream",
     "text": [
      "C:\\Users\\marcorob\\AppData\\Local\\Temp\\ipykernel_244688\\105098106.py:11: SettingWithCopyWarning: \n",
      "A value is trying to be set on a copy of a slice from a DataFrame.\n",
      "Try using .loc[row_indexer,col_indexer] = value instead\n",
      "\n",
      "See the caveats in the documentation: https://pandas.pydata.org/pandas-docs/stable/user_guide/indexing.html#returning-a-view-versus-a-copy\n",
      "  subscription_data[\"amount\"] = subscription_data[\"amount\"] / 100\n"
     ]
    }
   ],
   "source": [
    "# Create a DataFrame\n",
    "df = pd.DataFrame(extracted_data)\n",
    "subscription_data = df.query(\"status in ('active','past_due')\")\n",
    "print(f\"the size of the extraction was {subscription_data.shape}\")\n",
    "\n",
    "# lets normalize the data for better understanding\n",
    "# subscription_data[\"current_period_start\"] = pd.to_datetime(subscription_data[\"current_period_start\"], unit=\"s\")\n",
    "# subscription_data[\"current_period_end\"] = pd.to_datetime(subscription_data[\"current_period_end\"], unit=\"s\")\n",
    "\n",
    "# Divide the amount by 100 to account for showing in a correct way your decimals\n",
    "subscription_data[\"amount\"] = subscription_data[\"amount\"] / 100"
   ]
  },
  {
   "cell_type": "code",
   "execution_count": 10,
   "metadata": {},
   "outputs": [
    {
     "name": "stdout",
     "output_type": "stream",
     "text": [
      "Connection succesfully created\n"
     ]
    }
   ],
   "source": [
    "# LETS CREATE THE CONNECTION TO THE DB\n",
    "\n",
    "conn = pyodbc.connect('Driver={SQL Server};'\n",
    "                      'Server=YOURSERVER;'\n",
    "                      'Database=yourDB;'\n",
    "                      'Trusted_Connection=yes;')\n",
    "cursor = conn.cursor()\n",
    "print('Connection succesfully created')"
   ]
  },
  {
   "cell_type": "code",
   "execution_count": 11,
   "metadata": {},
   "outputs": [
    {
     "name": "stdout",
     "output_type": "stream",
     "text": [
      "table has been truncated\n",
      "the insertion of record has started\n",
      "the import was succesfully made it\n"
     ]
    }
   ],
   "source": [
    "\n",
    "# now lets initialize the list to the onest that could error out\n",
    "failed_rows = []\n",
    "\n",
    "# lets start the looping\n",
    "try:\n",
    "    # First lets Truncate the table\n",
    "    cursor.execute(\"TRUNCATE TABLE your_table\")\n",
    "    print(\"table has been truncated\")\n",
    "    print(\"the insertion of record has started\")\n",
    "    # Loop through subscription data and insert\n",
    "    for row in subscription_data.itertuples():\n",
    "        cursor.execute('''\n",
    "            INSERT INTO your_table (subscription_id, customer_id, current_period_start, current_period_end, amount, status)\n",
    "            VALUES (?,?,?,?,?,?)\n",
    "        ''',\n",
    "            row.subscription_id, \n",
    "            row.customer_id,\n",
    "            row.current_period_start,\n",
    "            row.current_period_end, \n",
    "            row.amount,\n",
    "            row.status            \n",
    "        )\n",
    "        conn.commit()\n",
    "\n",
    "except Exception as e:\n",
    "    failed_rows.append({'row_number':row,'error':e})\n",
    "        # print(f\"Error inserting row: {e}\")\n",
    "        # print(f\"Failed row data: {row}\")\n",
    "\n",
    "conn.close()\n",
    "print(\"the import was succesfully made it\")"
   ]
  }
 ],
 "metadata": {
  "kernelspec": {
   "display_name": "Python 3.11.0 64-bit",
   "language": "python",
   "name": "python3"
  },
  "language_info": {
   "codemirror_mode": {
    "name": "ipython",
    "version": 3
   },
   "file_extension": ".py",
   "mimetype": "text/x-python",
   "name": "python",
   "nbconvert_exporter": "python",
   "pygments_lexer": "ipython3",
   "version": "3.11.0"
  },
  "orig_nbformat": 4,
  "vscode": {
   "interpreter": {
    "hash": "c261aea317cc0286b3b3261fbba9abdec21eaa57589985bb7a274bf54d6cc0a7"
   }
  }
 },
 "nbformat": 4,
 "nbformat_minor": 2
}
