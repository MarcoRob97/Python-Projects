{
 "cells": [
  {
   "cell_type": "markdown",
   "id": "552acb20",
   "metadata": {},
   "source": [
    "# Analysis of Unanswered Chats on Chatbot Website \n",
    "\n",
    "In this Analysis what we are tryng to locate is the amount of chats unanswered for our online rater"
   ]
  },
  {
   "cell_type": "code",
   "execution_count": 3,
   "id": "6ce1f3ac",
   "metadata": {},
   "outputs": [
    {
     "name": "stderr",
     "output_type": "stream",
     "text": [
      "C:\\Users\\marcorob\\AppData\\Local\\Temp\\ipykernel_63316\\1677887519.py:23: DeprecationWarning: executable_path has been deprecated, please pass in a Service object\n",
      "  driver = webdriver.Chrome(executable_path=chromedriver_path)\n"
     ]
    },
    {
     "name": "stdout",
     "output_type": "stream",
     "text": [
      "Search and Scrape Completed\n"
     ]
    }
   ],
   "source": [
    "# First import the libraries\n",
    "from selenium import webdriver\n",
    "from selenium.webdriver.common.keys import Keys\n",
    "from selenium.webdriver.common.by import By\n",
    "from selenium.webdriver.support.ui import WebDriverWait \n",
    "from selenium.webdriver.support import expected_conditions as EC\n",
    "from bs4 import BeautifulSoup\n",
    "import pandas as pd\n",
    "import time \n",
    "\n",
    "# Path to chromedriver executable\n",
    "chromedriver_path = \"E:\\chromedriver.exe\"\n",
    "\n",
    "# URL of the website you want to test\n",
    "url = \"https://website.com\"\n",
    "\n",
    "# username and password\n",
    "username = \"username_of_website\"\n",
    "password = \"password\"\n",
    "\n",
    "\n",
    "# Create a new instance of the Chrome driver\n",
    "driver = webdriver.Chrome(executable_path=chromedriver_path)\n",
    "\n",
    "\n",
    "# Open the website\n",
    "driver.get(url)\n",
    "driver.maximize_window()\n",
    "# Find the username and password input fields and fill them in\n",
    "username_field = driver.find_element(By.ID, \"email\")\n",
    "username_field.send_keys(username)\n",
    "\n",
    "time.sleep(1)\n",
    "# Send pasword\n",
    "password_field = driver.find_element(By.ID, \"password\")  \n",
    "password_field.send_keys(password)\n",
    "\n",
    "# Submit the form\n",
    "password_field.send_keys(Keys.RETURN)\n",
    "\n",
    "time.sleep(5) # wait for the page to load\n",
    "\n",
    "# Click on the chat icon\n",
    "click_chat = driver.find_element(By.XPATH, \"//i[@class='tawk-icon tawk-icon-inbox tawk-icon-large inbox']\")\n",
    "click_chat.click()\n",
    "\n",
    "\n",
    "time.sleep(5)\n",
    "\n",
    "filter1 = driver.find_element(By.XPATH,'//*[@id=\"tawk-content-view\"]/div[2]/div[1]/div/div/div[2]/div/div/div/div[2]/div/div/div/div/button')\n",
    "filter1.click()\n",
    "\n",
    "time.sleep(1)\n",
    "filter2 = driver.find_element(By.XPATH,'//*[@id=\"tawk-content-view\"]/div[2]/div[1]/div/div/div[2]/div/div/div/div[2]/div/div/div/div/div/ul/li[1]/div/div')\n",
    "filter2.click()\n",
    "\n",
    "time.sleep(2)\n",
    "Unassigned = driver.find_element(By.XPATH,'//*[@id=\"tawk-content-view\"]/div[2]/div[1]/div/div/div[2]/div/div/div/div[2]/div/div/div/div/div/div/div/div/ul/li[2]/div/div')\n",
    "Unassigned.click()\n",
    "\n",
    "time.sleep(2)\n",
    "\n",
    "\n",
    "\n",
    "# Initialize lists to store data\n",
    "data = []\n",
    "columns = ['type','contact','details','agent','status','updated_at']\n",
    "\n",
    "def click_next_page(driver):\n",
    "    for _ in range(26): # the website only hide the button of next page, so  is just set the number of pages\n",
    "        try:\n",
    "            # Initializa Beatiful soup to do the parsing\n",
    "            page_source = driver.page_source\n",
    "            soup = BeautifulSoup(page_source, 'html.parser')\n",
    "            table = soup.find('table', class_='tawk-table')\n",
    "            # Extract data rows\n",
    "            rows = table.find_all('tr')\n",
    "            for row in rows:\n",
    "                row_data = []\n",
    "                columns_data = row.find_all('td')\n",
    "                for column_data in columns_data:\n",
    "                    row_data.append(column_data.text.strip())\n",
    "                data.append(row_data)\n",
    "                \n",
    "            # Keep looking on more pages.\n",
    "            next_page = driver.find_element(By.XPATH,'//*[@id=\"tawk-content-view\"]/div[2]/div[1]/div/div/div[2]/div/div/div/div[1]/button[2]/i') \n",
    "            next_page.click()\n",
    "            time.sleep(3)\n",
    "#             if next_page: \n",
    "#                 next_page.click()\n",
    "#                 time.sleep(3)\n",
    "\n",
    "       \n",
    "        except Exception as e:\n",
    "            print(f\"something went wrong: {str(e)}\")\n",
    "            break\n",
    "            \n",
    "           \n",
    "\n",
    "            \n",
    "click_next_page(driver)\n",
    "print('Search and Scrape Completed')\n",
    "# Close the browser window\n",
    "driver.quit()\n"
   ]
  },
  {
   "cell_type": "markdown",
   "id": "fe33c854",
   "metadata": {},
   "source": [
    "##### Analysis Section (After scrape is completed)"
   ]
  },
  {
   "cell_type": "code",
   "execution_count": 4,
   "id": "93ab2051",
   "metadata": {},
   "outputs": [
    {
     "data": {
      "text/html": [
       "<div>\n",
       "<style scoped>\n",
       "    .dataframe tbody tr th:only-of-type {\n",
       "        vertical-align: middle;\n",
       "    }\n",
       "\n",
       "    .dataframe tbody tr th {\n",
       "        vertical-align: top;\n",
       "    }\n",
       "\n",
       "    .dataframe thead th {\n",
       "        text-align: right;\n",
       "    }\n",
       "</style>\n",
       "<table border=\"1\" class=\"dataframe\">\n",
       "  <thead>\n",
       "    <tr style=\"text-align: right;\">\n",
       "      <th></th>\n",
       "      <th>contact</th>\n",
       "      <th>details</th>\n",
       "      <th>status</th>\n",
       "      <th>updated_at</th>\n",
       "    </tr>\n",
       "  </thead>\n",
       "  <tbody>\n",
       "    <tr>\n",
       "      <th>0</th>\n",
       "      <td>None</td>\n",
       "      <td>None</td>\n",
       "      <td>None</td>\n",
       "      <td>None</td>\n",
       "    </tr>\n",
       "    <tr>\n",
       "      <th>1</th>\n",
       "      <td>pedro jose soza martinez</td>\n",
       "      <td>Name : pedro jose soza martinez\\nType your que...</td>\n",
       "      <td>Open</td>\n",
       "      <td>Feb 29 at 08:44 AM</td>\n",
       "    </tr>\n",
       "    <tr>\n",
       "      <th>2</th>\n",
       "      <td>Dana Lacher</td>\n",
       "      <td>My policy expires on 3/1/24 and I would like t...</td>\n",
       "      <td>Open</td>\n",
       "      <td>Feb 29 at 07:25 AM</td>\n",
       "    </tr>\n",
       "    <tr>\n",
       "      <th>3</th>\n",
       "      <td>Aaliyah</td>\n",
       "      <td>?</td>\n",
       "      <td>Open</td>\n",
       "      <td>Feb 28 at 10:10 PM</td>\n",
       "    </tr>\n",
       "    <tr>\n",
       "      <th>4</th>\n",
       "      <td>Michael</td>\n",
       "      <td>What type of quote can I get</td>\n",
       "      <td>Open</td>\n",
       "      <td>Feb 28 at 09:49 PM</td>\n",
       "    </tr>\n",
       "  </tbody>\n",
       "</table>\n",
       "</div>"
      ],
      "text/plain": [
       "                    contact  \\\n",
       "0                      None   \n",
       "1  pedro jose soza martinez   \n",
       "2               Dana Lacher   \n",
       "3                   Aaliyah   \n",
       "4                   Michael   \n",
       "\n",
       "                                             details status  \\\n",
       "0                                               None   None   \n",
       "1  Name : pedro jose soza martinez\\nType your que...   Open   \n",
       "2  My policy expires on 3/1/24 and I would like t...   Open   \n",
       "3                                                  ?   Open   \n",
       "4                       What type of quote can I get   Open   \n",
       "\n",
       "           updated_at  \n",
       "0                None  \n",
       "1  Feb 29 at 08:44 AM  \n",
       "2  Feb 29 at 07:25 AM  \n",
       "3  Feb 28 at 10:10 PM  \n",
       "4  Feb 28 at 09:49 PM  "
      ]
     },
     "execution_count": 4,
     "metadata": {},
     "output_type": "execute_result"
    }
   ],
   "source": [
    "# Create DataFrame using pandas\n",
    "columns = ['flag','type','contact','details','unassigned','status','updated_at']\n",
    "df = pd.DataFrame(data,columns=columns)\n",
    "df = df[['contact','details','status','updated_at']]\n",
    "df.head(5)"
   ]
  },
  {
   "cell_type": "code",
   "execution_count": 5,
   "id": "4a982762",
   "metadata": {},
   "outputs": [
    {
     "data": {
      "text/plain": [
       "contact       object\n",
       "details       object\n",
       "status        object\n",
       "updated_at    object\n",
       "dtype: object"
      ]
     },
     "execution_count": 5,
     "metadata": {},
     "output_type": "execute_result"
    }
   ],
   "source": [
    "df.dtypes"
   ]
  },
  {
   "cell_type": "markdown",
   "id": "4c362698",
   "metadata": {},
   "source": [
    "After Review the type of our dataframe, lets conver our `updated_at` field to datetime to future analysis"
   ]
  },
  {
   "cell_type": "code",
   "execution_count": 6,
   "id": "ae64d315",
   "metadata": {},
   "outputs": [],
   "source": [
    "# the format of date is inconsistent thats why i bring a different library to convert to datetime.\n",
    "\n",
    "from dateutil import parser\n",
    "\n",
    "# Custom function to parse datetime strings into datetime objects\n",
    "def parse_custom_datetime(datetime_str):\n",
    "    if datetime_str is not None:\n",
    "        return parser.parse(datetime_str)\n",
    "    else:\n",
    "        return None\n",
    "\n",
    "# Convert the 'updated_at' column to datetime using the custom function\n",
    "df['updated_at'] = df['updated_at'].apply(parse_custom_datetime)\n"
   ]
  },
  {
   "cell_type": "markdown",
   "id": "cb36f854",
   "metadata": {},
   "source": [
    "Now lets count Nulls in our dataset"
   ]
  },
  {
   "cell_type": "code",
   "execution_count": 7,
   "id": "43b584f3",
   "metadata": {},
   "outputs": [
    {
     "data": {
      "text/plain": [
       "contact       26\n",
       "details       26\n",
       "status        26\n",
       "updated_at    26\n",
       "dtype: int64"
      ]
     },
     "execution_count": 7,
     "metadata": {},
     "output_type": "execute_result"
    }
   ],
   "source": [
    "# Count how many nulls\n",
    "df.isnull().sum()"
   ]
  },
  {
   "cell_type": "markdown",
   "id": "d53c579b",
   "metadata": {},
   "source": [
    "Cause looks like is the same amount of null values i will just remove it"
   ]
  },
  {
   "cell_type": "code",
   "execution_count": 8,
   "id": "82d50e8d",
   "metadata": {},
   "outputs": [],
   "source": [
    "# Let me know the \n",
    "df = df.dropna()"
   ]
  },
  {
   "cell_type": "markdown",
   "id": "e31d1e10",
   "metadata": {},
   "source": [
    "Lets count now unique values"
   ]
  },
  {
   "cell_type": "code",
   "execution_count": 9,
   "id": "865de2c9",
   "metadata": {},
   "outputs": [
    {
     "data": {
      "text/plain": [
       "contact       1117\n",
       "details       1183\n",
       "status           2\n",
       "updated_at    1290\n",
       "dtype: int64"
      ]
     },
     "execution_count": 9,
     "metadata": {},
     "output_type": "execute_result"
    }
   ],
   "source": [
    "df.nunique()"
   ]
  },
  {
   "cell_type": "markdown",
   "id": "988be6ab",
   "metadata": {},
   "source": [
    "##### Here i Will create some graphs to visualize my results"
   ]
  },
  {
   "cell_type": "code",
   "execution_count": 10,
   "id": "fc125537",
   "metadata": {},
   "outputs": [],
   "source": [
    "# First thing i create different columns for an analysis on Excel.\n",
    "df['date'] = df['updated_at'].dt.date\n",
    "df['month'] = df['updated_at'].dt.month\n",
    "df['year'] = df['updated_at'].dt.year\n",
    "df['weekday'] = df['updated_at'].dt.dayofweek +1 # Monday=0, Sunday=6\n",
    "df['hour'] = df['updated_at'].dt.hour"
   ]
  },
  {
   "cell_type": "code",
   "execution_count": 11,
   "id": "387478fe",
   "metadata": {},
   "outputs": [
    {
     "data": {
      "text/html": [
       "<div>\n",
       "<style scoped>\n",
       "    .dataframe tbody tr th:only-of-type {\n",
       "        vertical-align: middle;\n",
       "    }\n",
       "\n",
       "    .dataframe tbody tr th {\n",
       "        vertical-align: top;\n",
       "    }\n",
       "\n",
       "    .dataframe thead th {\n",
       "        text-align: right;\n",
       "    }\n",
       "</style>\n",
       "<table border=\"1\" class=\"dataframe\">\n",
       "  <thead>\n",
       "    <tr style=\"text-align: right;\">\n",
       "      <th></th>\n",
       "      <th>contact</th>\n",
       "      <th>details</th>\n",
       "      <th>status</th>\n",
       "      <th>updated_at</th>\n",
       "      <th>date</th>\n",
       "      <th>month</th>\n",
       "      <th>year</th>\n",
       "      <th>weekday</th>\n",
       "      <th>hour</th>\n",
       "    </tr>\n",
       "  </thead>\n",
       "  <tbody>\n",
       "    <tr>\n",
       "      <th>1</th>\n",
       "      <td>pedro jose soza martinez</td>\n",
       "      <td>Name : pedro jose soza martinez\\nType your que...</td>\n",
       "      <td>Open</td>\n",
       "      <td>2024-02-29 08:44:00</td>\n",
       "      <td>2024-02-29</td>\n",
       "      <td>2</td>\n",
       "      <td>2024</td>\n",
       "      <td>4</td>\n",
       "      <td>8</td>\n",
       "    </tr>\n",
       "    <tr>\n",
       "      <th>2</th>\n",
       "      <td>Dana Lacher</td>\n",
       "      <td>My policy expires on 3/1/24 and I would like t...</td>\n",
       "      <td>Open</td>\n",
       "      <td>2024-02-29 07:25:00</td>\n",
       "      <td>2024-02-29</td>\n",
       "      <td>2</td>\n",
       "      <td>2024</td>\n",
       "      <td>4</td>\n",
       "      <td>7</td>\n",
       "    </tr>\n",
       "    <tr>\n",
       "      <th>3</th>\n",
       "      <td>Aaliyah</td>\n",
       "      <td>?</td>\n",
       "      <td>Open</td>\n",
       "      <td>2024-02-28 22:10:00</td>\n",
       "      <td>2024-02-28</td>\n",
       "      <td>2</td>\n",
       "      <td>2024</td>\n",
       "      <td>3</td>\n",
       "      <td>22</td>\n",
       "    </tr>\n",
       "    <tr>\n",
       "      <th>4</th>\n",
       "      <td>Michael</td>\n",
       "      <td>What type of quote can I get</td>\n",
       "      <td>Open</td>\n",
       "      <td>2024-02-28 21:49:00</td>\n",
       "      <td>2024-02-28</td>\n",
       "      <td>2</td>\n",
       "      <td>2024</td>\n",
       "      <td>3</td>\n",
       "      <td>21</td>\n",
       "    </tr>\n",
       "    <tr>\n",
       "      <th>5</th>\n",
       "      <td>Deandre Montrell Dumas</td>\n",
       "      <td>Name : Deandre Montrell Dumas\\nType your quest...</td>\n",
       "      <td>Open</td>\n",
       "      <td>2024-02-28 20:18:00</td>\n",
       "      <td>2024-02-28</td>\n",
       "      <td>2</td>\n",
       "      <td>2024</td>\n",
       "      <td>3</td>\n",
       "      <td>20</td>\n",
       "    </tr>\n",
       "  </tbody>\n",
       "</table>\n",
       "</div>"
      ],
      "text/plain": [
       "                    contact  \\\n",
       "1  pedro jose soza martinez   \n",
       "2               Dana Lacher   \n",
       "3                   Aaliyah   \n",
       "4                   Michael   \n",
       "5    Deandre Montrell Dumas   \n",
       "\n",
       "                                             details status  \\\n",
       "1  Name : pedro jose soza martinez\\nType your que...   Open   \n",
       "2  My policy expires on 3/1/24 and I would like t...   Open   \n",
       "3                                                  ?   Open   \n",
       "4                       What type of quote can I get   Open   \n",
       "5  Name : Deandre Montrell Dumas\\nType your quest...   Open   \n",
       "\n",
       "           updated_at        date  month  year  weekday  hour  \n",
       "1 2024-02-29 08:44:00  2024-02-29      2  2024        4     8  \n",
       "2 2024-02-29 07:25:00  2024-02-29      2  2024        4     7  \n",
       "3 2024-02-28 22:10:00  2024-02-28      2  2024        3    22  \n",
       "4 2024-02-28 21:49:00  2024-02-28      2  2024        3    21  \n",
       "5 2024-02-28 20:18:00  2024-02-28      2  2024        3    20  "
      ]
     },
     "execution_count": 11,
     "metadata": {},
     "output_type": "execute_result"
    }
   ],
   "source": [
    "df.head(5)"
   ]
  },
  {
   "cell_type": "code",
   "execution_count": 12,
   "id": "53410507",
   "metadata": {},
   "outputs": [],
   "source": [
    "# send to excel to Create an Interactive Dashboard with this Data.\n",
    "df.to_excel('E:\\\\Scrape_result.xlsx', index=False)"
   ]
  },
  {
   "cell_type": "markdown",
   "id": "537f4cd9",
   "metadata": {},
   "source": [
    "# Lets visualize the Data."
   ]
  },
  {
   "cell_type": "code",
   "execution_count": 13,
   "id": "9ab2a5b8",
   "metadata": {},
   "outputs": [],
   "source": [
    "import matplotlib.pyplot as plt"
   ]
  },
  {
   "cell_type": "code",
   "execution_count": 14,
   "id": "9b06ad0b",
   "metadata": {},
   "outputs": [],
   "source": [
    "# Count the number of chats for each hour\n",
    "chat_count_by_hour = df['hour'].value_counts()"
   ]
  },
  {
   "cell_type": "code",
   "execution_count": 15,
   "id": "9796f2ea",
   "metadata": {},
   "outputs": [
    {
     "data": {
      "image/png": "[encoded data removed]",
      "text/plain": [
       "<Figure size 640x480 with 1 Axes>"
      ]
     },
     "metadata": {},
     "output_type": "display_data"
    }
   ],
   "source": [
    "# Create a bar chart to visualize the data\n",
    "plt.bar(chat_count_by_hour.index, chat_count_by_hour.values)\n",
    "plt.xlabel('Hour of the Day')\n",
    "plt.ylabel('Number of Chats')\n",
    "plt.title('Distribution of Chats by Hour')\n",
    "plt.show()"
   ]
  },
  {
   "cell_type": "code",
   "execution_count": 16,
   "id": "91a4a1a5",
   "metadata": {},
   "outputs": [],
   "source": [
    "# Count the number of chats for each day of the week\n",
    "chat_count_by_weekday = df['weekday'].value_counts()"
   ]
  },
  {
   "cell_type": "code",
   "execution_count": 17,
   "id": "b82a031b",
   "metadata": {},
   "outputs": [
    {
     "data": {
      "image/png": "[encoded data removed]",
      "text/plain": [
       "<Figure size 640x480 with 1 Axes>"
      ]
     },
     "metadata": {},
     "output_type": "display_data"
    }
   ],
   "source": [
    "plt.bar(chat_count_by_weekday.index, chat_count_by_weekday.values)\n",
    "plt.xlabel('Day of the Week (1=Monday)')\n",
    "plt.ylabel('Number of Chats')\n",
    "plt.title('Distribution of Chats by Day of the Week')\n",
    "plt.show()"
   ]
  },
  {
   "cell_type": "code",
   "execution_count": null,
   "id": "aeed5708",
   "metadata": {},
   "outputs": [],
   "source": []
  }
 ],
 "metadata": {
  "kernelspec": {
   "display_name": "Python 3 (ipykernel)",
   "language": "python",
   "name": "python3"
  },
  "language_info": {
   "codemirror_mode": {
    "name": "ipython",
    "version": 3
   },
   "file_extension": ".py",
   "mimetype": "text/x-python",
   "name": "python",
   "nbconvert_exporter": "python",
   "pygments_lexer": "ipython3",
   "version": "3.9.12"
  }
 },
 "nbformat": 4,
 "nbformat_minor": 5
}
