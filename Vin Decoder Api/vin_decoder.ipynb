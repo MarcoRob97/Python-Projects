{
 "cells": [
  {
   "cell_type": "code",
   "execution_count": null,
   "metadata": {},
   "outputs": [],
   "source": [
    "import requests\n",
    "\n",
    "url = 'https://vpic.nhtsa.dot.gov/api/vehicles/DecodeVINValuesBatch/';\n",
    "\n",
    "vinnumber = 'NM0LS7CN2CT110748'\n",
    "post_fields = {'format': 'json', 'data':vinnumber};\n",
    "\n",
    "response = requests.post(url, data=post_fields);\n",
    "\n",
    "print(response.text);\t"
   ]
  },
  {
   "cell_type": "code",
   "execution_count": 25,
   "metadata": {},
   "outputs": [
    {
     "data": {
      "text/html": [
       "<div>\n",
       "<style scoped>\n",
       "    .dataframe tbody tr th:only-of-type {\n",
       "        vertical-align: middle;\n",
       "    }\n",
       "\n",
       "    .dataframe tbody tr th {\n",
       "        vertical-align: top;\n",
       "    }\n",
       "\n",
       "    .dataframe thead th {\n",
       "        text-align: right;\n",
       "    }\n",
       "</style>\n",
       "<table border=\"1\" class=\"dataframe\">\n",
       "  <thead>\n",
       "    <tr style=\"text-align: right;\">\n",
       "      <th></th>\n",
       "      <th>sf_code</th>\n",
       "      <th>vin</th>\n",
       "    </tr>\n",
       "  </thead>\n",
       "  <tbody>\n",
       "    <tr>\n",
       "      <th>0</th>\n",
       "      <td>a0A5d00000xi1COEAY</td>\n",
       "      <td>NM0LS7CN2CT110748</td>\n",
       "    </tr>\n",
       "    <tr>\n",
       "      <th>1</th>\n",
       "      <td>a0A5d00000xiG74EAE</td>\n",
       "      <td>1GCEC14X75Z255824</td>\n",
       "    </tr>\n",
       "    <tr>\n",
       "      <th>2</th>\n",
       "      <td>a0A5d00000xiGO7EAM</td>\n",
       "      <td>1GBGK24R1VZ212782</td>\n",
       "    </tr>\n",
       "  </tbody>\n",
       "</table>\n",
       "</div>"
      ],
      "text/plain": [
       "              sf_code                vin\n",
       "0  a0A5d00000xi1COEAY  NM0LS7CN2CT110748\n",
       "1  a0A5d00000xiG74EAE  1GCEC14X75Z255824\n",
       "2  a0A5d00000xiGO7EAM  1GBGK24R1VZ212782"
      ]
     },
     "execution_count": 25,
     "metadata": {},
     "output_type": "execute_result"
    }
   ],
   "source": [
    "import pandas as pd\n",
    "import requests\n",
    "\n",
    "# Step 1: Read from CSV\n",
    "csv_file = 'E:\\\\vin_data.csv' \n",
    "vin_data = pd.read_csv(csv_file)\n",
    "vin_data.head(3)"
   ]
  },
  {
   "cell_type": "code",
   "execution_count": 26,
   "metadata": {},
   "outputs": [],
   "source": [
    "def get_vin_info(vin):\n",
    "    url = 'https://vpic.nhtsa.dot.gov/api/vehicles/DecodeVINValuesBatch/'\n",
    "    post_fields = {'format': 'json', 'data': vin}\n",
    "    \n",
    "    try:\n",
    "        response = requests.post(url, data=post_fields)\n",
    "        response.raise_for_status()  # Raise an HTTPError for bad responses (4xx and 5xx)\n",
    "        vin_info = response.json()\n",
    "\n",
    "        # Extract information from JSON response and save it in a dictionary\n",
    "        if 'Results' in vin_info:\n",
    "            result = vin_info['Results'][0]\n",
    "            info_dict = {\n",
    "                'VIN': result.get('VIN', ''),\n",
    "                'Make': result.get('Make', ''),\n",
    "                'Model': result.get('Model', ''),\n",
    "                'Year': result.get('ModelYear', ''),\n",
    "                'BodyClass': result.get('BodyClass', ''),\n",
    "                'VehicleType': result.get('VehicleType', ''),\n",
    "                'GVWR': result.get('GVWR', '')\n",
    "            }\n",
    "\n",
    "            return info_dict\n",
    "\n",
    "    except requests.exceptions.RequestException as req_ex:\n",
    "        print(f\"Error processing VIN {vin}: {req_ex}\")\n",
    "        return None"
   ]
  },
  {
   "cell_type": "code",
   "execution_count": 27,
   "metadata": {},
   "outputs": [],
   "source": [
    "result_list = []\n",
    "\n",
    "for index, row in vin_data.iterrows():\n",
    "    vin = row['vin']\n",
    "    policy_number = row['sf_code']\n",
    "    \n",
    "    vin_info = get_vin_info(vin)\n",
    "    \n",
    "    if vin_info:\n",
    "        result_list.append(vin_info)\n",
    "\n",
    "#result_list"
   ]
  },
  {
   "cell_type": "code",
   "execution_count": 59,
   "metadata": {},
   "outputs": [
    {
     "data": {
      "text/html": [
       "<div>\n",
       "<style scoped>\n",
       "    .dataframe tbody tr th:only-of-type {\n",
       "        vertical-align: middle;\n",
       "    }\n",
       "\n",
       "    .dataframe tbody tr th {\n",
       "        vertical-align: top;\n",
       "    }\n",
       "\n",
       "    .dataframe thead th {\n",
       "        text-align: right;\n",
       "    }\n",
       "</style>\n",
       "<table border=\"1\" class=\"dataframe\">\n",
       "  <thead>\n",
       "    <tr style=\"text-align: right;\">\n",
       "      <th></th>\n",
       "      <th>VIN</th>\n",
       "      <th>Make</th>\n",
       "      <th>Model</th>\n",
       "      <th>Year</th>\n",
       "      <th>BodyClass</th>\n",
       "      <th>VehicleType</th>\n",
       "      <th>GVWR</th>\n",
       "    </tr>\n",
       "  </thead>\n",
       "  <tbody>\n",
       "    <tr>\n",
       "      <th>0</th>\n",
       "      <td>NM0LS7CN2CT110748</td>\n",
       "      <td>FORD</td>\n",
       "      <td>Transit Connect</td>\n",
       "      <td>2012</td>\n",
       "      <td>Van</td>\n",
       "      <td>TRUCK</td>\n",
       "      <td>Class 1D: 5,001 - 6,000 lb (2,268 - 2,722 kg)</td>\n",
       "    </tr>\n",
       "    <tr>\n",
       "      <th>1</th>\n",
       "      <td>1GCEC14X75Z255824</td>\n",
       "      <td>CHEVROLET</td>\n",
       "      <td>Silverado</td>\n",
       "      <td>2005</td>\n",
       "      <td>Pickup</td>\n",
       "      <td>TRUCK</td>\n",
       "      <td>Class 2E: 6,001 - 7,000 lb (2,722 - 3,175 kg)</td>\n",
       "    </tr>\n",
       "  </tbody>\n",
       "</table>\n",
       "</div>"
      ],
      "text/plain": [
       "                 VIN       Make            Model  Year BodyClass VehicleType  \\\n",
       "0  NM0LS7CN2CT110748       FORD  Transit Connect  2012       Van       TRUCK   \n",
       "1  1GCEC14X75Z255824  CHEVROLET        Silverado  2005    Pickup       TRUCK   \n",
       "\n",
       "                                            GVWR  \n",
       "0  Class 1D: 5,001 - 6,000 lb (2,268 - 2,722 kg)  \n",
       "1  Class 2E: 6,001 - 7,000 lb (2,722 - 3,175 kg)  "
      ]
     },
     "execution_count": 59,
     "metadata": {},
     "output_type": "execute_result"
    }
   ],
   "source": [
    "# Create a DataFrame from the result list\n",
    "result_df = pd.DataFrame(result_list)\n",
    "final_result = result_df.query('Make != \"\" and Model != \"\" ')\n",
    "final_result.head(2)"
   ]
  },
  {
   "cell_type": "code",
   "execution_count": 54,
   "metadata": {},
   "outputs": [],
   "source": [
    "# Group by 'Make' and get counts\n",
    "make_counts = result_df.groupby('Make').size().reset_index(name='Make_Count')\n",
    "\n",
    "# Group by 'Model' and get counts\n",
    "model_counts = result_df.groupby('Model').size().reset_index(name='Model_Count')\n",
    "\n",
    "# Group by 'BodyClass' and get counts\n",
    "body_class_counts = result_df.groupby('BodyClass').size().reset_index(name='BodyClass_Count')\n",
    "\n",
    "# Group by 'VehicleType'\n",
    "vehicle_type_counts = result_df.groupby('VehicleType').size().reset_index(name='vehicle_type_count')\n",
    "\n",
    "# Group by 'VehicleType'\n",
    "GVWR_counts = result_df.groupby('GVWR').size().reset_index(name='GVWR_count')"
   ]
  },
  {
   "cell_type": "code",
   "execution_count": 57,
   "metadata": {},
   "outputs": [
    {
     "data": {
      "text/html": [
       "<div>\n",
       "<style scoped>\n",
       "    .dataframe tbody tr th:only-of-type {\n",
       "        vertical-align: middle;\n",
       "    }\n",
       "\n",
       "    .dataframe tbody tr th {\n",
       "        vertical-align: top;\n",
       "    }\n",
       "\n",
       "    .dataframe thead th {\n",
       "        text-align: right;\n",
       "    }\n",
       "</style>\n",
       "<table border=\"1\" class=\"dataframe\">\n",
       "  <thead>\n",
       "    <tr style=\"text-align: right;\">\n",
       "      <th></th>\n",
       "      <th>GVWR</th>\n",
       "      <th>GVWR_count</th>\n",
       "    </tr>\n",
       "  </thead>\n",
       "  <tbody>\n",
       "    <tr>\n",
       "      <th>6</th>\n",
       "      <td>Class 2E: 6,001 - 7,000 lb (2,722 - 3,175 kg)</td>\n",
       "      <td>63</td>\n",
       "    </tr>\n",
       "    <tr>\n",
       "      <th>4</th>\n",
       "      <td>Class 1D: 5,001 - 6,000 lb (2,268 - 2,722 kg)</td>\n",
       "      <td>55</td>\n",
       "    </tr>\n",
       "    <tr>\n",
       "      <th>0</th>\n",
       "      <td></td>\n",
       "      <td>51</td>\n",
       "    </tr>\n",
       "    <tr>\n",
       "      <th>8</th>\n",
       "      <td>Class 2G: 8,001 - 9,000 lb (3,629 - 4,082 kg)</td>\n",
       "      <td>48</td>\n",
       "    </tr>\n",
       "    <tr>\n",
       "      <th>9</th>\n",
       "      <td>Class 2H: 9,001 - 10,000 lb (4,082 - 4,536 kg)</td>\n",
       "      <td>47</td>\n",
       "    </tr>\n",
       "    <tr>\n",
       "      <th>10</th>\n",
       "      <td>Class 3: 10,001 - 14,000 lb (4,536 - 6,350 kg)</td>\n",
       "      <td>30</td>\n",
       "    </tr>\n",
       "    <tr>\n",
       "      <th>7</th>\n",
       "      <td>Class 2F: 7,001 - 8,000 lb (3,175 - 3,629 kg)</td>\n",
       "      <td>23</td>\n",
       "    </tr>\n",
       "    <tr>\n",
       "      <th>11</th>\n",
       "      <td>Class 4: 14,001 - 16,000 lb (6,350 - 7,258 kg)</td>\n",
       "      <td>22</td>\n",
       "    </tr>\n",
       "    <tr>\n",
       "      <th>3</th>\n",
       "      <td>Class 1C: 4,001 - 5,000 lb (1,814 - 2,268 kg)</td>\n",
       "      <td>21</td>\n",
       "    </tr>\n",
       "    <tr>\n",
       "      <th>2</th>\n",
       "      <td>Class 1B: 3,001 - 4,000 lb (1,360 - 1,814 kg)</td>\n",
       "      <td>3</td>\n",
       "    </tr>\n",
       "    <tr>\n",
       "      <th>5</th>\n",
       "      <td>Class 2: 6,001 - 10,000 lb (2,722 - 4,536 kg)</td>\n",
       "      <td>2</td>\n",
       "    </tr>\n",
       "    <tr>\n",
       "      <th>13</th>\n",
       "      <td>Class 6: 19,501 - 26,000 lb (8,845 - 11,794 kg)</td>\n",
       "      <td>2</td>\n",
       "    </tr>\n",
       "    <tr>\n",
       "      <th>1</th>\n",
       "      <td>Class 1: 6,000 lb or less (2,722 kg or less)</td>\n",
       "      <td>1</td>\n",
       "    </tr>\n",
       "    <tr>\n",
       "      <th>12</th>\n",
       "      <td>Class 5: 16,001 - 19,500 lb (7,258 - 8,845 kg)</td>\n",
       "      <td>1</td>\n",
       "    </tr>\n",
       "    <tr>\n",
       "      <th>14</th>\n",
       "      <td>Class 7: 26,001 - 33,000 lb (11,794 - 14,969 kg)</td>\n",
       "      <td>1</td>\n",
       "    </tr>\n",
       "    <tr>\n",
       "      <th>15</th>\n",
       "      <td>Class 8: 33,001 lb and above (14,969 kg and ab...</td>\n",
       "      <td>1</td>\n",
       "    </tr>\n",
       "  </tbody>\n",
       "</table>\n",
       "</div>"
      ],
      "text/plain": [
       "                                                 GVWR  GVWR_count\n",
       "6       Class 2E: 6,001 - 7,000 lb (2,722 - 3,175 kg)          63\n",
       "4       Class 1D: 5,001 - 6,000 lb (2,268 - 2,722 kg)          55\n",
       "0                                                              51\n",
       "8       Class 2G: 8,001 - 9,000 lb (3,629 - 4,082 kg)          48\n",
       "9      Class 2H: 9,001 - 10,000 lb (4,082 - 4,536 kg)          47\n",
       "10     Class 3: 10,001 - 14,000 lb (4,536 - 6,350 kg)          30\n",
       "7       Class 2F: 7,001 - 8,000 lb (3,175 - 3,629 kg)          23\n",
       "11     Class 4: 14,001 - 16,000 lb (6,350 - 7,258 kg)          22\n",
       "3       Class 1C: 4,001 - 5,000 lb (1,814 - 2,268 kg)          21\n",
       "2       Class 1B: 3,001 - 4,000 lb (1,360 - 1,814 kg)           3\n",
       "5       Class 2: 6,001 - 10,000 lb (2,722 - 4,536 kg)           2\n",
       "13    Class 6: 19,501 - 26,000 lb (8,845 - 11,794 kg)           2\n",
       "1        Class 1: 6,000 lb or less (2,722 kg or less)           1\n",
       "12     Class 5: 16,001 - 19,500 lb (7,258 - 8,845 kg)           1\n",
       "14   Class 7: 26,001 - 33,000 lb (11,794 - 14,969 kg)           1\n",
       "15  Class 8: 33,001 lb and above (14,969 kg and ab...           1"
      ]
     },
     "execution_count": 57,
     "metadata": {},
     "output_type": "execute_result"
    }
   ],
   "source": [
    "sorted_bodyclass = body_class_counts.sort_values(by='BodyClass_Count', ascending=False)\n",
    "GVWR_counts.sort_values(by='GVWR_count', ascending=False)"
   ]
  },
  {
   "cell_type": "code",
   "execution_count": 64,
   "metadata": {},
   "outputs": [
    {
     "data": {
      "text/plain": [
       "VIN            object\n",
       "Make           object\n",
       "Model          object\n",
       "Year           object\n",
       "BodyClass      object\n",
       "VehicleType    object\n",
       "GVWR           object\n",
       "dtype: object"
      ]
     },
     "execution_count": 64,
     "metadata": {},
     "output_type": "execute_result"
    }
   ],
   "source": [
    "final_result.dtypes"
   ]
  },
  {
   "cell_type": "code",
   "execution_count": 68,
   "metadata": {},
   "outputs": [
    {
     "name": "stderr",
     "output_type": "stream",
     "text": [
      "C:\\Users\\marcorob\\AppData\\Local\\Temp\\ipykernel_27196\\592757170.py:1: SettingWithCopyWarning: \n",
      "A value is trying to be set on a copy of a slice from a DataFrame.\n",
      "Try using .loc[row_indexer,col_indexer] = value instead\n",
      "\n",
      "See the caveats in the documentation: https://pandas.pydata.org/pandas-docs/stable/user_guide/indexing.html#returning-a-view-versus-a-copy\n",
      "  final_result['Year'] = final_result['Year'].astype(int)\n"
     ]
    }
   ],
   "source": [
    "final_result['Year'] = final_result['Year'].astype(int)"
   ]
  },
  {
   "cell_type": "code",
   "execution_count": 69,
   "metadata": {},
   "outputs": [
    {
     "data": {
      "text/plain": [
       "VIN            object\n",
       "Make           object\n",
       "Model          object\n",
       "Year            int32\n",
       "BodyClass      object\n",
       "VehicleType    object\n",
       "GVWR           object\n",
       "dtype: object"
      ]
     },
     "execution_count": 69,
     "metadata": {},
     "output_type": "execute_result"
    }
   ],
   "source": [
    "final_result.dtypes"
   ]
  },
  {
   "cell_type": "code",
   "execution_count": 72,
   "metadata": {},
   "outputs": [],
   "source": [
    "final_result.to_excel('E:\\\\transformed_data.xlsx', index=False)"
   ]
  },
  {
   "cell_type": "code",
   "execution_count": null,
   "metadata": {},
   "outputs": [],
   "source": []
  }
 ],
 "metadata": {
  "kernelspec": {
   "display_name": "Python 3.11.0 64-bit",
   "language": "python",
   "name": "python3"
  },
  "language_info": {
   "codemirror_mode": {
    "name": "ipython",
    "version": 3
   },
   "file_extension": ".py",
   "mimetype": "text/x-python",
   "name": "python",
   "nbconvert_exporter": "python",
   "pygments_lexer": "ipython3",
   "version": "3.11.0"
  },
  "orig_nbformat": 4,
  "vscode": {
   "interpreter": {
    "hash": "c261aea317cc0286b3b3261fbba9abdec21eaa57589985bb7a274bf54d6cc0a7"
   }
  }
 },
 "nbformat": 4,
 "nbformat_minor": 2
}
