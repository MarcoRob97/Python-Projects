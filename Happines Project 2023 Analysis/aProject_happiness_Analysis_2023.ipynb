{
 "cells": [
  {
   "cell_type": "code",
   "execution_count": 5,
   "metadata": {},
   "outputs": [],
   "source": [
    "#Import the libraries we will be using\n",
    "\n",
    "import pandas as pd\n",
    "import numpy as np\n",
    "import matplotlib.pyplot as plt\n",
    "import seaborn as sns\n",
    "import plotly.express as px"
   ]
  },
  {
   "cell_type": "code",
   "execution_count": 6,
   "metadata": {},
   "outputs": [],
   "source": [
    "# create variables and read our data\n",
    "happy_2023 = pd.read_csv(\"C:\\\\Happines Project\\\\bWHR2023_dataset.csv\")\n",
    "country_mapping = pd.read_csv(\"C:\\\\Happines Project\\\\bcontinents2_dataset.csv\")"
   ]
  },
  {
   "cell_type": "markdown",
   "metadata": {},
   "source": [
    "# Step 1: Understand the Data "
   ]
  },
  {
   "cell_type": "code",
   "execution_count": 7,
   "metadata": {},
   "outputs": [
    {
     "data": {
      "text/plain": [
       "(137, 19)"
      ]
     },
     "execution_count": 7,
     "metadata": {},
     "output_type": "execute_result"
    }
   ],
   "source": [
    "# Lets see the Size of our Data on Happy_2023\n",
    "happy_2023.shape"
   ]
  },
  {
   "cell_type": "code",
   "execution_count": 8,
   "metadata": {},
   "outputs": [
    {
     "data": {
      "text/plain": [
       "(249, 11)"
      ]
     },
     "execution_count": 8,
     "metadata": {},
     "output_type": "execute_result"
    }
   ],
   "source": [
    "# Lets see the data on Country mapping\n",
    "country_mapping.shape"
   ]
  },
  {
   "cell_type": "code",
   "execution_count": 9,
   "metadata": {},
   "outputs": [
    {
     "data": {
      "text/plain": [
       "Country name                                   object\n",
       "Ladder score                                  float64\n",
       "Standard error of ladder score                float64\n",
       "upperwhisker                                  float64\n",
       "lowerwhisker                                  float64\n",
       "Logged GDP per capita                         float64\n",
       "Social support                                float64\n",
       "Healthy life expectancy                       float64\n",
       "Freedom to make life choices                  float64\n",
       "Generosity                                    float64\n",
       "Perceptions of corruption                     float64\n",
       "Ladder score in Dystopia                      float64\n",
       "Explained by: Log GDP per capita              float64\n",
       "Explained by: Social support                  float64\n",
       "Explained by: Healthy life expectancy         float64\n",
       "Explained by: Freedom to make life choices    float64\n",
       "Explained by: Generosity                      float64\n",
       "Explained by: Perceptions of corruption       float64\n",
       "Dystopia + residual                           float64\n",
       "dtype: object"
      ]
     },
     "execution_count": 9,
     "metadata": {},
     "output_type": "execute_result"
    }
   ],
   "source": [
    "# Now lets take a look of what datatype are we handling\n",
    "happy_2023.dtypes"
   ]
  },
  {
   "cell_type": "code",
   "execution_count": 10,
   "metadata": {},
   "outputs": [
    {
     "data": {
      "text/plain": [
       "name                         object\n",
       "alpha-2                      object\n",
       "alpha-3                      object\n",
       "country-code                  int64\n",
       "iso_3166-2                   object\n",
       "region                       object\n",
       "sub-region                   object\n",
       "intermediate-region          object\n",
       "region-code                 float64\n",
       "sub-region-code             float64\n",
       "intermediate-region-code    float64\n",
       "dtype: object"
      ]
     },
     "execution_count": 10,
     "metadata": {},
     "output_type": "execute_result"
    }
   ],
   "source": [
    "country_mapping.dtypes"
   ]
  },
  {
   "cell_type": "code",
   "execution_count": 11,
   "metadata": {},
   "outputs": [
    {
     "data": {
      "text/plain": [
       "Index(['Country name', 'Ladder score', 'Standard error of ladder score',\n",
       "       'upperwhisker', 'lowerwhisker', 'Logged GDP per capita',\n",
       "       'Social support', 'Healthy life expectancy',\n",
       "       'Freedom to make life choices', 'Generosity',\n",
       "       'Perceptions of corruption', 'Ladder score in Dystopia',\n",
       "       'Explained by: Log GDP per capita', 'Explained by: Social support',\n",
       "       'Explained by: Healthy life expectancy',\n",
       "       'Explained by: Freedom to make life choices',\n",
       "       'Explained by: Generosity', 'Explained by: Perceptions of corruption',\n",
       "       'Dystopia + residual'],\n",
       "      dtype='object')"
      ]
     },
     "execution_count": 11,
     "metadata": {},
     "output_type": "execute_result"
    }
   ],
   "source": [
    "happy_2023.columns"
   ]
  },
  {
   "cell_type": "code",
   "execution_count": 12,
   "metadata": {},
   "outputs": [
    {
     "data": {
      "text/plain": [
       "Index(['name', 'alpha-2', 'alpha-3', 'country-code', 'iso_3166-2', 'region',\n",
       "       'sub-region', 'intermediate-region', 'region-code', 'sub-region-code',\n",
       "       'intermediate-region-code'],\n",
       "      dtype='object')"
      ]
     },
     "execution_count": 12,
     "metadata": {},
     "output_type": "execute_result"
    }
   ],
   "source": [
    "country_mapping.columns"
   ]
  },
  {
   "cell_type": "code",
   "execution_count": 13,
   "metadata": {},
   "outputs": [
    {
     "data": {
      "text/html": [
       "<div>\n",
       "<style scoped>\n",
       "    .dataframe tbody tr th:only-of-type {\n",
       "        vertical-align: middle;\n",
       "    }\n",
       "\n",
       "    .dataframe tbody tr th {\n",
       "        vertical-align: top;\n",
       "    }\n",
       "\n",
       "    .dataframe thead th {\n",
       "        text-align: right;\n",
       "    }\n",
       "</style>\n",
       "<table border=\"1\" class=\"dataframe\">\n",
       "  <thead>\n",
       "    <tr style=\"text-align: right;\">\n",
       "      <th></th>\n",
       "      <th>Ladder score</th>\n",
       "      <th>Standard error of ladder score</th>\n",
       "      <th>upperwhisker</th>\n",
       "      <th>lowerwhisker</th>\n",
       "      <th>Logged GDP per capita</th>\n",
       "      <th>Social support</th>\n",
       "      <th>Healthy life expectancy</th>\n",
       "      <th>Freedom to make life choices</th>\n",
       "      <th>Generosity</th>\n",
       "      <th>Perceptions of corruption</th>\n",
       "      <th>Ladder score in Dystopia</th>\n",
       "      <th>Explained by: Log GDP per capita</th>\n",
       "      <th>Explained by: Social support</th>\n",
       "      <th>Explained by: Healthy life expectancy</th>\n",
       "      <th>Explained by: Freedom to make life choices</th>\n",
       "      <th>Explained by: Generosity</th>\n",
       "      <th>Explained by: Perceptions of corruption</th>\n",
       "      <th>Dystopia + residual</th>\n",
       "    </tr>\n",
       "  </thead>\n",
       "  <tbody>\n",
       "    <tr>\n",
       "      <th>count</th>\n",
       "      <td>137.000000</td>\n",
       "      <td>137.000000</td>\n",
       "      <td>137.000000</td>\n",
       "      <td>137.000000</td>\n",
       "      <td>137.000000</td>\n",
       "      <td>137.000000</td>\n",
       "      <td>136.000000</td>\n",
       "      <td>137.000000</td>\n",
       "      <td>137.000000</td>\n",
       "      <td>137.000000</td>\n",
       "      <td>137.000</td>\n",
       "      <td>137.000000</td>\n",
       "      <td>137.000000</td>\n",
       "      <td>136.000000</td>\n",
       "      <td>137.000000</td>\n",
       "      <td>137.000000</td>\n",
       "      <td>137.000000</td>\n",
       "      <td>136.000000</td>\n",
       "    </tr>\n",
       "    <tr>\n",
       "      <th>mean</th>\n",
       "      <td>5.539796</td>\n",
       "      <td>0.064715</td>\n",
       "      <td>5.666526</td>\n",
       "      <td>5.412971</td>\n",
       "      <td>9.449796</td>\n",
       "      <td>0.799073</td>\n",
       "      <td>64.967632</td>\n",
       "      <td>0.787394</td>\n",
       "      <td>0.022431</td>\n",
       "      <td>0.725401</td>\n",
       "      <td>1.778</td>\n",
       "      <td>1.406985</td>\n",
       "      <td>1.156212</td>\n",
       "      <td>0.366176</td>\n",
       "      <td>0.540000</td>\n",
       "      <td>0.148474</td>\n",
       "      <td>0.145898</td>\n",
       "      <td>1.777838</td>\n",
       "    </tr>\n",
       "    <tr>\n",
       "      <th>std</th>\n",
       "      <td>1.139929</td>\n",
       "      <td>0.023031</td>\n",
       "      <td>1.117421</td>\n",
       "      <td>1.163724</td>\n",
       "      <td>1.207302</td>\n",
       "      <td>0.129222</td>\n",
       "      <td>5.750390</td>\n",
       "      <td>0.112371</td>\n",
       "      <td>0.141707</td>\n",
       "      <td>0.176956</td>\n",
       "      <td>0.000</td>\n",
       "      <td>0.432963</td>\n",
       "      <td>0.326322</td>\n",
       "      <td>0.156691</td>\n",
       "      <td>0.149501</td>\n",
       "      <td>0.076053</td>\n",
       "      <td>0.126723</td>\n",
       "      <td>0.504390</td>\n",
       "    </tr>\n",
       "    <tr>\n",
       "      <th>min</th>\n",
       "      <td>1.859000</td>\n",
       "      <td>0.029000</td>\n",
       "      <td>1.923000</td>\n",
       "      <td>1.795000</td>\n",
       "      <td>5.527000</td>\n",
       "      <td>0.341000</td>\n",
       "      <td>51.530000</td>\n",
       "      <td>0.382000</td>\n",
       "      <td>-0.254000</td>\n",
       "      <td>0.146000</td>\n",
       "      <td>1.778</td>\n",
       "      <td>0.000000</td>\n",
       "      <td>0.000000</td>\n",
       "      <td>0.000000</td>\n",
       "      <td>0.000000</td>\n",
       "      <td>0.000000</td>\n",
       "      <td>0.000000</td>\n",
       "      <td>-0.110000</td>\n",
       "    </tr>\n",
       "    <tr>\n",
       "      <th>25%</th>\n",
       "      <td>4.724000</td>\n",
       "      <td>0.047000</td>\n",
       "      <td>4.980000</td>\n",
       "      <td>4.496000</td>\n",
       "      <td>8.591000</td>\n",
       "      <td>0.722000</td>\n",
       "      <td>60.648500</td>\n",
       "      <td>0.724000</td>\n",
       "      <td>-0.074000</td>\n",
       "      <td>0.668000</td>\n",
       "      <td>1.778</td>\n",
       "      <td>1.099000</td>\n",
       "      <td>0.962000</td>\n",
       "      <td>0.248500</td>\n",
       "      <td>0.455000</td>\n",
       "      <td>0.097000</td>\n",
       "      <td>0.060000</td>\n",
       "      <td>1.555250</td>\n",
       "    </tr>\n",
       "    <tr>\n",
       "      <th>50%</th>\n",
       "      <td>5.684000</td>\n",
       "      <td>0.060000</td>\n",
       "      <td>5.797000</td>\n",
       "      <td>5.529000</td>\n",
       "      <td>9.567000</td>\n",
       "      <td>0.827000</td>\n",
       "      <td>65.837500</td>\n",
       "      <td>0.801000</td>\n",
       "      <td>0.001000</td>\n",
       "      <td>0.774000</td>\n",
       "      <td>1.778</td>\n",
       "      <td>1.449000</td>\n",
       "      <td>1.227000</td>\n",
       "      <td>0.389500</td>\n",
       "      <td>0.557000</td>\n",
       "      <td>0.137000</td>\n",
       "      <td>0.111000</td>\n",
       "      <td>1.848500</td>\n",
       "    </tr>\n",
       "    <tr>\n",
       "      <th>75%</th>\n",
       "      <td>6.334000</td>\n",
       "      <td>0.077000</td>\n",
       "      <td>6.441000</td>\n",
       "      <td>6.243000</td>\n",
       "      <td>10.540000</td>\n",
       "      <td>0.896000</td>\n",
       "      <td>69.412500</td>\n",
       "      <td>0.874000</td>\n",
       "      <td>0.117000</td>\n",
       "      <td>0.846000</td>\n",
       "      <td>1.778</td>\n",
       "      <td>1.798000</td>\n",
       "      <td>1.401000</td>\n",
       "      <td>0.487500</td>\n",
       "      <td>0.656000</td>\n",
       "      <td>0.199000</td>\n",
       "      <td>0.187000</td>\n",
       "      <td>2.078750</td>\n",
       "    </tr>\n",
       "    <tr>\n",
       "      <th>max</th>\n",
       "      <td>7.804000</td>\n",
       "      <td>0.147000</td>\n",
       "      <td>7.875000</td>\n",
       "      <td>7.733000</td>\n",
       "      <td>11.660000</td>\n",
       "      <td>0.983000</td>\n",
       "      <td>77.280000</td>\n",
       "      <td>0.961000</td>\n",
       "      <td>0.531000</td>\n",
       "      <td>0.929000</td>\n",
       "      <td>1.778</td>\n",
       "      <td>2.200000</td>\n",
       "      <td>1.620000</td>\n",
       "      <td>0.702000</td>\n",
       "      <td>0.772000</td>\n",
       "      <td>0.422000</td>\n",
       "      <td>0.561000</td>\n",
       "      <td>2.955000</td>\n",
       "    </tr>\n",
       "  </tbody>\n",
       "</table>\n",
       "</div>"
      ],
      "text/plain": [
       "       Ladder score  Standard error of ladder score  upperwhisker  \\\n",
       "count    137.000000                      137.000000    137.000000   \n",
       "mean       5.539796                        0.064715      5.666526   \n",
       "std        1.139929                        0.023031      1.117421   \n",
       "min        1.859000                        0.029000      1.923000   \n",
       "25%        4.724000                        0.047000      4.980000   \n",
       "50%        5.684000                        0.060000      5.797000   \n",
       "75%        6.334000                        0.077000      6.441000   \n",
       "max        7.804000                        0.147000      7.875000   \n",
       "\n",
       "       lowerwhisker  Logged GDP per capita  Social support  \\\n",
       "count    137.000000             137.000000      137.000000   \n",
       "mean       5.412971               9.449796        0.799073   \n",
       "std        1.163724               1.207302        0.129222   \n",
       "min        1.795000               5.527000        0.341000   \n",
       "25%        4.496000               8.591000        0.722000   \n",
       "50%        5.529000               9.567000        0.827000   \n",
       "75%        6.243000              10.540000        0.896000   \n",
       "max        7.733000              11.660000        0.983000   \n",
       "\n",
       "       Healthy life expectancy  Freedom to make life choices  Generosity  \\\n",
       "count               136.000000                    137.000000  137.000000   \n",
       "mean                 64.967632                      0.787394    0.022431   \n",
       "std                   5.750390                      0.112371    0.141707   \n",
       "min                  51.530000                      0.382000   -0.254000   \n",
       "25%                  60.648500                      0.724000   -0.074000   \n",
       "50%                  65.837500                      0.801000    0.001000   \n",
       "75%                  69.412500                      0.874000    0.117000   \n",
       "max                  77.280000                      0.961000    0.531000   \n",
       "\n",
       "       Perceptions of corruption  Ladder score in Dystopia  \\\n",
       "count                 137.000000                   137.000   \n",
       "mean                    0.725401                     1.778   \n",
       "std                     0.176956                     0.000   \n",
       "min                     0.146000                     1.778   \n",
       "25%                     0.668000                     1.778   \n",
       "50%                     0.774000                     1.778   \n",
       "75%                     0.846000                     1.778   \n",
       "max                     0.929000                     1.778   \n",
       "\n",
       "       Explained by: Log GDP per capita  Explained by: Social support  \\\n",
       "count                        137.000000                    137.000000   \n",
       "mean                           1.406985                      1.156212   \n",
       "std                            0.432963                      0.326322   \n",
       "min                            0.000000                      0.000000   \n",
       "25%                            1.099000                      0.962000   \n",
       "50%                            1.449000                      1.227000   \n",
       "75%                            1.798000                      1.401000   \n",
       "max                            2.200000                      1.620000   \n",
       "\n",
       "       Explained by: Healthy life expectancy  \\\n",
       "count                             136.000000   \n",
       "mean                                0.366176   \n",
       "std                                 0.156691   \n",
       "min                                 0.000000   \n",
       "25%                                 0.248500   \n",
       "50%                                 0.389500   \n",
       "75%                                 0.487500   \n",
       "max                                 0.702000   \n",
       "\n",
       "       Explained by: Freedom to make life choices  Explained by: Generosity  \\\n",
       "count                                  137.000000                137.000000   \n",
       "mean                                     0.540000                  0.148474   \n",
       "std                                      0.149501                  0.076053   \n",
       "min                                      0.000000                  0.000000   \n",
       "25%                                      0.455000                  0.097000   \n",
       "50%                                      0.557000                  0.137000   \n",
       "75%                                      0.656000                  0.199000   \n",
       "max                                      0.772000                  0.422000   \n",
       "\n",
       "       Explained by: Perceptions of corruption  Dystopia + residual  \n",
       "count                               137.000000           136.000000  \n",
       "mean                                  0.145898             1.777838  \n",
       "std                                   0.126723             0.504390  \n",
       "min                                   0.000000            -0.110000  \n",
       "25%                                   0.060000             1.555250  \n",
       "50%                                   0.111000             1.848500  \n",
       "75%                                   0.187000             2.078750  \n",
       "max                                   0.561000             2.955000  "
      ]
     },
     "execution_count": 13,
     "metadata": {},
     "output_type": "execute_result"
    }
   ],
   "source": [
    "# Lets Describe the world happiness report data we are working with\n",
    "happy_2023.describe()"
   ]
  },
  {
   "cell_type": "code",
   "execution_count": 14,
   "metadata": {},
   "outputs": [
    {
     "data": {
      "text/html": [
       "<div>\n",
       "<style scoped>\n",
       "    .dataframe tbody tr th:only-of-type {\n",
       "        vertical-align: middle;\n",
       "    }\n",
       "\n",
       "    .dataframe tbody tr th {\n",
       "        vertical-align: top;\n",
       "    }\n",
       "\n",
       "    .dataframe thead th {\n",
       "        text-align: right;\n",
       "    }\n",
       "</style>\n",
       "<table border=\"1\" class=\"dataframe\">\n",
       "  <thead>\n",
       "    <tr style=\"text-align: right;\">\n",
       "      <th></th>\n",
       "      <th>country-code</th>\n",
       "      <th>region-code</th>\n",
       "      <th>sub-region-code</th>\n",
       "      <th>intermediate-region-code</th>\n",
       "    </tr>\n",
       "  </thead>\n",
       "  <tbody>\n",
       "    <tr>\n",
       "      <th>count</th>\n",
       "      <td>249.000000</td>\n",
       "      <td>248.000000</td>\n",
       "      <td>248.000000</td>\n",
       "      <td>107.000000</td>\n",
       "    </tr>\n",
       "    <tr>\n",
       "      <th>mean</th>\n",
       "      <td>433.835341</td>\n",
       "      <td>65.951613</td>\n",
       "      <td>179.866935</td>\n",
       "      <td>31.719626</td>\n",
       "    </tr>\n",
       "    <tr>\n",
       "      <th>std</th>\n",
       "      <td>252.980446</td>\n",
       "      <td>67.347832</td>\n",
       "      <td>138.334170</td>\n",
       "      <td>111.000322</td>\n",
       "    </tr>\n",
       "    <tr>\n",
       "      <th>min</th>\n",
       "      <td>4.000000</td>\n",
       "      <td>2.000000</td>\n",
       "      <td>15.000000</td>\n",
       "      <td>5.000000</td>\n",
       "    </tr>\n",
       "    <tr>\n",
       "      <th>25%</th>\n",
       "      <td>218.000000</td>\n",
       "      <td>9.000000</td>\n",
       "      <td>53.750000</td>\n",
       "      <td>11.000000</td>\n",
       "    </tr>\n",
       "    <tr>\n",
       "      <th>50%</th>\n",
       "      <td>434.000000</td>\n",
       "      <td>19.000000</td>\n",
       "      <td>154.000000</td>\n",
       "      <td>14.000000</td>\n",
       "    </tr>\n",
       "    <tr>\n",
       "      <th>75%</th>\n",
       "      <td>652.000000</td>\n",
       "      <td>142.000000</td>\n",
       "      <td>202.000000</td>\n",
       "      <td>29.000000</td>\n",
       "    </tr>\n",
       "    <tr>\n",
       "      <th>max</th>\n",
       "      <td>894.000000</td>\n",
       "      <td>150.000000</td>\n",
       "      <td>419.000000</td>\n",
       "      <td>830.000000</td>\n",
       "    </tr>\n",
       "  </tbody>\n",
       "</table>\n",
       "</div>"
      ],
      "text/plain": [
       "       country-code  region-code  sub-region-code  intermediate-region-code\n",
       "count    249.000000   248.000000       248.000000                107.000000\n",
       "mean     433.835341    65.951613       179.866935                 31.719626\n",
       "std      252.980446    67.347832       138.334170                111.000322\n",
       "min        4.000000     2.000000        15.000000                  5.000000\n",
       "25%      218.000000     9.000000        53.750000                 11.000000\n",
       "50%      434.000000    19.000000       154.000000                 14.000000\n",
       "75%      652.000000   142.000000       202.000000                 29.000000\n",
       "max      894.000000   150.000000       419.000000                830.000000"
      ]
     },
     "execution_count": 14,
     "metadata": {},
     "output_type": "execute_result"
    }
   ],
   "source": [
    "country_mapping.describe()"
   ]
  },
  {
   "cell_type": "code",
   "execution_count": 15,
   "metadata": {},
   "outputs": [
    {
     "data": {
      "text/html": [
       "<div>\n",
       "<style scoped>\n",
       "    .dataframe tbody tr th:only-of-type {\n",
       "        vertical-align: middle;\n",
       "    }\n",
       "\n",
       "    .dataframe tbody tr th {\n",
       "        vertical-align: top;\n",
       "    }\n",
       "\n",
       "    .dataframe thead th {\n",
       "        text-align: right;\n",
       "    }\n",
       "</style>\n",
       "<table border=\"1\" class=\"dataframe\">\n",
       "  <thead>\n",
       "    <tr style=\"text-align: right;\">\n",
       "      <th></th>\n",
       "      <th>Country name</th>\n",
       "      <th>Ladder score</th>\n",
       "      <th>Standard error of ladder score</th>\n",
       "      <th>upperwhisker</th>\n",
       "      <th>lowerwhisker</th>\n",
       "      <th>Logged GDP per capita</th>\n",
       "      <th>Social support</th>\n",
       "      <th>Healthy life expectancy</th>\n",
       "      <th>Freedom to make life choices</th>\n",
       "      <th>Generosity</th>\n",
       "      <th>Perceptions of corruption</th>\n",
       "      <th>Ladder score in Dystopia</th>\n",
       "      <th>Explained by: Log GDP per capita</th>\n",
       "      <th>Explained by: Social support</th>\n",
       "      <th>Explained by: Healthy life expectancy</th>\n",
       "      <th>Explained by: Freedom to make life choices</th>\n",
       "      <th>Explained by: Generosity</th>\n",
       "      <th>Explained by: Perceptions of corruption</th>\n",
       "      <th>Dystopia + residual</th>\n",
       "    </tr>\n",
       "  </thead>\n",
       "  <tbody>\n",
       "    <tr>\n",
       "      <th>0</th>\n",
       "      <td>Finland</td>\n",
       "      <td>7.804</td>\n",
       "      <td>0.036</td>\n",
       "      <td>7.875</td>\n",
       "      <td>7.733</td>\n",
       "      <td>10.792</td>\n",
       "      <td>0.969</td>\n",
       "      <td>71.15</td>\n",
       "      <td>0.961</td>\n",
       "      <td>-0.019</td>\n",
       "      <td>0.182</td>\n",
       "      <td>1.778</td>\n",
       "      <td>1.888</td>\n",
       "      <td>1.585</td>\n",
       "      <td>0.535</td>\n",
       "      <td>0.772</td>\n",
       "      <td>0.126</td>\n",
       "      <td>0.535</td>\n",
       "      <td>2.363</td>\n",
       "    </tr>\n",
       "    <tr>\n",
       "      <th>1</th>\n",
       "      <td>Denmark</td>\n",
       "      <td>7.586</td>\n",
       "      <td>0.041</td>\n",
       "      <td>7.667</td>\n",
       "      <td>7.506</td>\n",
       "      <td>10.962</td>\n",
       "      <td>0.954</td>\n",
       "      <td>71.25</td>\n",
       "      <td>0.934</td>\n",
       "      <td>0.134</td>\n",
       "      <td>0.196</td>\n",
       "      <td>1.778</td>\n",
       "      <td>1.949</td>\n",
       "      <td>1.548</td>\n",
       "      <td>0.537</td>\n",
       "      <td>0.734</td>\n",
       "      <td>0.208</td>\n",
       "      <td>0.525</td>\n",
       "      <td>2.084</td>\n",
       "    </tr>\n",
       "    <tr>\n",
       "      <th>2</th>\n",
       "      <td>Iceland</td>\n",
       "      <td>7.530</td>\n",
       "      <td>0.049</td>\n",
       "      <td>7.625</td>\n",
       "      <td>7.434</td>\n",
       "      <td>10.896</td>\n",
       "      <td>0.983</td>\n",
       "      <td>72.05</td>\n",
       "      <td>0.936</td>\n",
       "      <td>0.211</td>\n",
       "      <td>0.668</td>\n",
       "      <td>1.778</td>\n",
       "      <td>1.926</td>\n",
       "      <td>1.620</td>\n",
       "      <td>0.559</td>\n",
       "      <td>0.738</td>\n",
       "      <td>0.250</td>\n",
       "      <td>0.187</td>\n",
       "      <td>2.250</td>\n",
       "    </tr>\n",
       "  </tbody>\n",
       "</table>\n",
       "</div>"
      ],
      "text/plain": [
       "  Country name  Ladder score  Standard error of ladder score  upperwhisker  \\\n",
       "0      Finland         7.804                           0.036         7.875   \n",
       "1      Denmark         7.586                           0.041         7.667   \n",
       "2      Iceland         7.530                           0.049         7.625   \n",
       "\n",
       "   lowerwhisker  Logged GDP per capita  Social support  \\\n",
       "0         7.733                 10.792           0.969   \n",
       "1         7.506                 10.962           0.954   \n",
       "2         7.434                 10.896           0.983   \n",
       "\n",
       "   Healthy life expectancy  Freedom to make life choices  Generosity  \\\n",
       "0                    71.15                         0.961      -0.019   \n",
       "1                    71.25                         0.934       0.134   \n",
       "2                    72.05                         0.936       0.211   \n",
       "\n",
       "   Perceptions of corruption  Ladder score in Dystopia  \\\n",
       "0                      0.182                     1.778   \n",
       "1                      0.196                     1.778   \n",
       "2                      0.668                     1.778   \n",
       "\n",
       "   Explained by: Log GDP per capita  Explained by: Social support  \\\n",
       "0                             1.888                         1.585   \n",
       "1                             1.949                         1.548   \n",
       "2                             1.926                         1.620   \n",
       "\n",
       "   Explained by: Healthy life expectancy  \\\n",
       "0                                  0.535   \n",
       "1                                  0.537   \n",
       "2                                  0.559   \n",
       "\n",
       "   Explained by: Freedom to make life choices  Explained by: Generosity  \\\n",
       "0                                       0.772                     0.126   \n",
       "1                                       0.734                     0.208   \n",
       "2                                       0.738                     0.250   \n",
       "\n",
       "   Explained by: Perceptions of corruption  Dystopia + residual  \n",
       "0                                    0.535                2.363  \n",
       "1                                    0.525                2.084  \n",
       "2                                    0.187                2.250  "
      ]
     },
     "execution_count": 15,
     "metadata": {},
     "output_type": "execute_result"
    }
   ],
   "source": [
    "happy_2023.head(3)"
   ]
  },
  {
   "cell_type": "code",
   "execution_count": 16,
   "metadata": {},
   "outputs": [
    {
     "data": {
      "text/html": [
       "<div>\n",
       "<style scoped>\n",
       "    .dataframe tbody tr th:only-of-type {\n",
       "        vertical-align: middle;\n",
       "    }\n",
       "\n",
       "    .dataframe tbody tr th {\n",
       "        vertical-align: top;\n",
       "    }\n",
       "\n",
       "    .dataframe thead th {\n",
       "        text-align: right;\n",
       "    }\n",
       "</style>\n",
       "<table border=\"1\" class=\"dataframe\">\n",
       "  <thead>\n",
       "    <tr style=\"text-align: right;\">\n",
       "      <th></th>\n",
       "      <th>name</th>\n",
       "      <th>alpha-2</th>\n",
       "      <th>alpha-3</th>\n",
       "      <th>country-code</th>\n",
       "      <th>iso_3166-2</th>\n",
       "      <th>region</th>\n",
       "      <th>sub-region</th>\n",
       "      <th>intermediate-region</th>\n",
       "      <th>region-code</th>\n",
       "      <th>sub-region-code</th>\n",
       "      <th>intermediate-region-code</th>\n",
       "    </tr>\n",
       "  </thead>\n",
       "  <tbody>\n",
       "    <tr>\n",
       "      <th>0</th>\n",
       "      <td>Afghanistan</td>\n",
       "      <td>AF</td>\n",
       "      <td>AFG</td>\n",
       "      <td>4</td>\n",
       "      <td>ISO 3166-2:AF</td>\n",
       "      <td>Asia</td>\n",
       "      <td>Southern Asia</td>\n",
       "      <td>NaN</td>\n",
       "      <td>142.0</td>\n",
       "      <td>34.0</td>\n",
       "      <td>NaN</td>\n",
       "    </tr>\n",
       "    <tr>\n",
       "      <th>1</th>\n",
       "      <td>Åland Islands</td>\n",
       "      <td>AX</td>\n",
       "      <td>ALA</td>\n",
       "      <td>248</td>\n",
       "      <td>ISO 3166-2:AX</td>\n",
       "      <td>Europe</td>\n",
       "      <td>Northern Europe</td>\n",
       "      <td>NaN</td>\n",
       "      <td>150.0</td>\n",
       "      <td>154.0</td>\n",
       "      <td>NaN</td>\n",
       "    </tr>\n",
       "    <tr>\n",
       "      <th>2</th>\n",
       "      <td>Albania</td>\n",
       "      <td>AL</td>\n",
       "      <td>ALB</td>\n",
       "      <td>8</td>\n",
       "      <td>ISO 3166-2:AL</td>\n",
       "      <td>Europe</td>\n",
       "      <td>Southern Europe</td>\n",
       "      <td>NaN</td>\n",
       "      <td>150.0</td>\n",
       "      <td>39.0</td>\n",
       "      <td>NaN</td>\n",
       "    </tr>\n",
       "  </tbody>\n",
       "</table>\n",
       "</div>"
      ],
      "text/plain": [
       "            name alpha-2 alpha-3  country-code     iso_3166-2  region  \\\n",
       "0    Afghanistan      AF     AFG             4  ISO 3166-2:AF    Asia   \n",
       "1  Åland Islands      AX     ALA           248  ISO 3166-2:AX  Europe   \n",
       "2        Albania      AL     ALB             8  ISO 3166-2:AL  Europe   \n",
       "\n",
       "        sub-region intermediate-region  region-code  sub-region-code  \\\n",
       "0    Southern Asia                 NaN        142.0             34.0   \n",
       "1  Northern Europe                 NaN        150.0            154.0   \n",
       "2  Southern Europe                 NaN        150.0             39.0   \n",
       "\n",
       "   intermediate-region-code  \n",
       "0                       NaN  \n",
       "1                       NaN  \n",
       "2                       NaN  "
      ]
     },
     "execution_count": 16,
     "metadata": {},
     "output_type": "execute_result"
    }
   ],
   "source": [
    "country_mapping.head(3)"
   ]
  },
  {
   "cell_type": "markdown",
   "metadata": {},
   "source": [
    "# Step 2: Preparing the Data \n",
    "- check for duplicates\n",
    "- Dropping irrelevant columns and rows\n",
    "- creating new columns\n",
    "- Renaming Columns\n",
    "- Checking for and fixing nulls"
   ]
  },
  {
   "cell_type": "code",
   "execution_count": 17,
   "metadata": {},
   "outputs": [
    {
     "data": {
      "text/html": [
       "<div>\n",
       "<style scoped>\n",
       "    .dataframe tbody tr th:only-of-type {\n",
       "        vertical-align: middle;\n",
       "    }\n",
       "\n",
       "    .dataframe tbody tr th {\n",
       "        vertical-align: top;\n",
       "    }\n",
       "\n",
       "    .dataframe thead th {\n",
       "        text-align: right;\n",
       "    }\n",
       "</style>\n",
       "<table border=\"1\" class=\"dataframe\">\n",
       "  <thead>\n",
       "    <tr style=\"text-align: right;\">\n",
       "      <th></th>\n",
       "      <th>Country name</th>\n",
       "      <th>Ladder score</th>\n",
       "      <th>Standard error of ladder score</th>\n",
       "      <th>upperwhisker</th>\n",
       "      <th>lowerwhisker</th>\n",
       "      <th>Logged GDP per capita</th>\n",
       "      <th>Social support</th>\n",
       "      <th>Healthy life expectancy</th>\n",
       "      <th>Freedom to make life choices</th>\n",
       "      <th>Generosity</th>\n",
       "      <th>Perceptions of corruption</th>\n",
       "      <th>Ladder score in Dystopia</th>\n",
       "      <th>Explained by: Log GDP per capita</th>\n",
       "      <th>Explained by: Social support</th>\n",
       "      <th>Explained by: Healthy life expectancy</th>\n",
       "      <th>Explained by: Freedom to make life choices</th>\n",
       "      <th>Explained by: Generosity</th>\n",
       "      <th>Explained by: Perceptions of corruption</th>\n",
       "      <th>Dystopia + residual</th>\n",
       "    </tr>\n",
       "  </thead>\n",
       "  <tbody>\n",
       "  </tbody>\n",
       "</table>\n",
       "</div>"
      ],
      "text/plain": [
       "Empty DataFrame\n",
       "Columns: [Country name, Ladder score, Standard error of ladder score, upperwhisker, lowerwhisker, Logged GDP per capita, Social support, Healthy life expectancy, Freedom to make life choices, Generosity, Perceptions of corruption, Ladder score in Dystopia, Explained by: Log GDP per capita, Explained by: Social support, Explained by: Healthy life expectancy, Explained by: Freedom to make life choices, Explained by: Generosity, Explained by: Perceptions of corruption, Dystopia + residual]\n",
       "Index: []"
      ]
     },
     "execution_count": 17,
     "metadata": {},
     "output_type": "execute_result"
    }
   ],
   "source": [
    "happy_2023.loc[happy_2023.duplicated()]"
   ]
  },
  {
   "cell_type": "code",
   "execution_count": 18,
   "metadata": {},
   "outputs": [],
   "source": [
    "# Remove all columns between column name 'Ladder score in Dystopia and Dystopia + Residual\n",
    "happy_2023 = happy_2023.drop(happy_2023.loc[:, 'Ladder score in Dystopia':'Dystopia + residual'].columns, axis=1)\n",
    "\n",
    "# Remove all columns between column name 'Standard error of ladder score' to lowerwhisker\n",
    "happy_2023 = happy_2023.drop(happy_2023.loc[:, 'Standard error of ladder score':'lowerwhisker'].columns, axis=1)"
   ]
  },
  {
   "cell_type": "code",
   "execution_count": 19,
   "metadata": {},
   "outputs": [
    {
     "data": {
      "text/html": [
       "<div>\n",
       "<style scoped>\n",
       "    .dataframe tbody tr th:only-of-type {\n",
       "        vertical-align: middle;\n",
       "    }\n",
       "\n",
       "    .dataframe tbody tr th {\n",
       "        vertical-align: top;\n",
       "    }\n",
       "\n",
       "    .dataframe thead th {\n",
       "        text-align: right;\n",
       "    }\n",
       "</style>\n",
       "<table border=\"1\" class=\"dataframe\">\n",
       "  <thead>\n",
       "    <tr style=\"text-align: right;\">\n",
       "      <th></th>\n",
       "      <th>Country name</th>\n",
       "      <th>Ladder score</th>\n",
       "      <th>Logged GDP per capita</th>\n",
       "      <th>Social support</th>\n",
       "      <th>Healthy life expectancy</th>\n",
       "      <th>Freedom to make life choices</th>\n",
       "      <th>Generosity</th>\n",
       "      <th>Perceptions of corruption</th>\n",
       "    </tr>\n",
       "  </thead>\n",
       "  <tbody>\n",
       "    <tr>\n",
       "      <th>0</th>\n",
       "      <td>Finland</td>\n",
       "      <td>7.804</td>\n",
       "      <td>10.792</td>\n",
       "      <td>0.969</td>\n",
       "      <td>71.150</td>\n",
       "      <td>0.961</td>\n",
       "      <td>-0.019</td>\n",
       "      <td>0.182</td>\n",
       "    </tr>\n",
       "    <tr>\n",
       "      <th>1</th>\n",
       "      <td>Denmark</td>\n",
       "      <td>7.586</td>\n",
       "      <td>10.962</td>\n",
       "      <td>0.954</td>\n",
       "      <td>71.250</td>\n",
       "      <td>0.934</td>\n",
       "      <td>0.134</td>\n",
       "      <td>0.196</td>\n",
       "    </tr>\n",
       "    <tr>\n",
       "      <th>2</th>\n",
       "      <td>Iceland</td>\n",
       "      <td>7.530</td>\n",
       "      <td>10.896</td>\n",
       "      <td>0.983</td>\n",
       "      <td>72.050</td>\n",
       "      <td>0.936</td>\n",
       "      <td>0.211</td>\n",
       "      <td>0.668</td>\n",
       "    </tr>\n",
       "    <tr>\n",
       "      <th>3</th>\n",
       "      <td>Israel</td>\n",
       "      <td>7.473</td>\n",
       "      <td>10.639</td>\n",
       "      <td>0.943</td>\n",
       "      <td>72.697</td>\n",
       "      <td>0.809</td>\n",
       "      <td>-0.023</td>\n",
       "      <td>0.708</td>\n",
       "    </tr>\n",
       "    <tr>\n",
       "      <th>4</th>\n",
       "      <td>Netherlands</td>\n",
       "      <td>7.403</td>\n",
       "      <td>10.942</td>\n",
       "      <td>0.930</td>\n",
       "      <td>71.550</td>\n",
       "      <td>0.887</td>\n",
       "      <td>0.213</td>\n",
       "      <td>0.379</td>\n",
       "    </tr>\n",
       "    <tr>\n",
       "      <th>...</th>\n",
       "      <td>...</td>\n",
       "      <td>...</td>\n",
       "      <td>...</td>\n",
       "      <td>...</td>\n",
       "      <td>...</td>\n",
       "      <td>...</td>\n",
       "      <td>...</td>\n",
       "      <td>...</td>\n",
       "    </tr>\n",
       "    <tr>\n",
       "      <th>132</th>\n",
       "      <td>Congo (Kinshasa)</td>\n",
       "      <td>3.207</td>\n",
       "      <td>7.007</td>\n",
       "      <td>0.652</td>\n",
       "      <td>55.375</td>\n",
       "      <td>0.664</td>\n",
       "      <td>0.086</td>\n",
       "      <td>0.834</td>\n",
       "    </tr>\n",
       "    <tr>\n",
       "      <th>133</th>\n",
       "      <td>Zimbabwe</td>\n",
       "      <td>3.204</td>\n",
       "      <td>7.641</td>\n",
       "      <td>0.690</td>\n",
       "      <td>54.050</td>\n",
       "      <td>0.654</td>\n",
       "      <td>-0.046</td>\n",
       "      <td>0.766</td>\n",
       "    </tr>\n",
       "    <tr>\n",
       "      <th>134</th>\n",
       "      <td>Sierra Leone</td>\n",
       "      <td>3.138</td>\n",
       "      <td>7.394</td>\n",
       "      <td>0.555</td>\n",
       "      <td>54.900</td>\n",
       "      <td>0.660</td>\n",
       "      <td>0.105</td>\n",
       "      <td>0.858</td>\n",
       "    </tr>\n",
       "    <tr>\n",
       "      <th>135</th>\n",
       "      <td>Lebanon</td>\n",
       "      <td>2.392</td>\n",
       "      <td>9.478</td>\n",
       "      <td>0.530</td>\n",
       "      <td>66.149</td>\n",
       "      <td>0.474</td>\n",
       "      <td>-0.141</td>\n",
       "      <td>0.891</td>\n",
       "    </tr>\n",
       "    <tr>\n",
       "      <th>136</th>\n",
       "      <td>Afghanistan</td>\n",
       "      <td>1.859</td>\n",
       "      <td>7.324</td>\n",
       "      <td>0.341</td>\n",
       "      <td>54.712</td>\n",
       "      <td>0.382</td>\n",
       "      <td>-0.081</td>\n",
       "      <td>0.847</td>\n",
       "    </tr>\n",
       "  </tbody>\n",
       "</table>\n",
       "<p>137 rows × 8 columns</p>\n",
       "</div>"
      ],
      "text/plain": [
       "         Country name  Ladder score  Logged GDP per capita  Social support  \\\n",
       "0             Finland         7.804                 10.792           0.969   \n",
       "1             Denmark         7.586                 10.962           0.954   \n",
       "2             Iceland         7.530                 10.896           0.983   \n",
       "3              Israel         7.473                 10.639           0.943   \n",
       "4         Netherlands         7.403                 10.942           0.930   \n",
       "..                ...           ...                    ...             ...   \n",
       "132  Congo (Kinshasa)         3.207                  7.007           0.652   \n",
       "133          Zimbabwe         3.204                  7.641           0.690   \n",
       "134      Sierra Leone         3.138                  7.394           0.555   \n",
       "135           Lebanon         2.392                  9.478           0.530   \n",
       "136       Afghanistan         1.859                  7.324           0.341   \n",
       "\n",
       "     Healthy life expectancy  Freedom to make life choices  Generosity  \\\n",
       "0                     71.150                         0.961      -0.019   \n",
       "1                     71.250                         0.934       0.134   \n",
       "2                     72.050                         0.936       0.211   \n",
       "3                     72.697                         0.809      -0.023   \n",
       "4                     71.550                         0.887       0.213   \n",
       "..                       ...                           ...         ...   \n",
       "132                   55.375                         0.664       0.086   \n",
       "133                   54.050                         0.654      -0.046   \n",
       "134                   54.900                         0.660       0.105   \n",
       "135                   66.149                         0.474      -0.141   \n",
       "136                   54.712                         0.382      -0.081   \n",
       "\n",
       "     Perceptions of corruption  \n",
       "0                        0.182  \n",
       "1                        0.196  \n",
       "2                        0.668  \n",
       "3                        0.708  \n",
       "4                        0.379  \n",
       "..                         ...  \n",
       "132                      0.834  \n",
       "133                      0.766  \n",
       "134                      0.858  \n",
       "135                      0.891  \n",
       "136                      0.847  \n",
       "\n",
       "[137 rows x 8 columns]"
      ]
     },
     "execution_count": 19,
     "metadata": {},
     "output_type": "execute_result"
    }
   ],
   "source": [
    "# Check our new DataFrame\n",
    "happy_2023"
   ]
  },
  {
   "cell_type": "code",
   "execution_count": 20,
   "metadata": {},
   "outputs": [],
   "source": [
    "happy_2023['rank'] = happy_2023['Ladder score'].rank(ascending=False) # create a new column call Rank\n",
    "happy_2023['rank'] = happy_2023['rank'].astype(int) # converting as int our new column"
   ]
  },
  {
   "cell_type": "code",
   "execution_count": 21,
   "metadata": {},
   "outputs": [],
   "source": [
    "# Rename the columns for Consistency\n",
    "happy_df_2023 = happy_2023.rename({'Country name':'country','Ladder score':'Happiness_score'\n",
    "                                    , 'Logged GDP per capita':'gdp_per_capita', 'Social support':'social_support'\n",
    "                                    , 'Healthy life expectancy':'healthy_life_expentancy', 'Freedom to make life choices': 'freedom_to_make_life_choices' \\\n",
    "                                    , 'Generosity':'generosity', 'Perceptions of corruption':'perceptions_of_corruption'}, axis=1)"
   ]
  },
  {
   "cell_type": "code",
   "execution_count": 22,
   "metadata": {},
   "outputs": [
    {
     "data": {
      "text/plain": [
       "Index(['country', 'Happiness_score', 'gdp_per_capita', 'social_support',\n",
       "       'healthy_life_expentancy', 'freedom_to_make_life_choices', 'generosity',\n",
       "       'perceptions_of_corruption', 'rank'],\n",
       "      dtype='object')"
      ]
     },
     "execution_count": 22,
     "metadata": {},
     "output_type": "execute_result"
    }
   ],
   "source": [
    "happy_df_2023.columns"
   ]
  },
  {
   "cell_type": "code",
   "execution_count": 23,
   "metadata": {},
   "outputs": [
    {
     "data": {
      "text/html": [
       "<div>\n",
       "<style scoped>\n",
       "    .dataframe tbody tr th:only-of-type {\n",
       "        vertical-align: middle;\n",
       "    }\n",
       "\n",
       "    .dataframe tbody tr th {\n",
       "        vertical-align: top;\n",
       "    }\n",
       "\n",
       "    .dataframe thead th {\n",
       "        text-align: right;\n",
       "    }\n",
       "</style>\n",
       "<table border=\"1\" class=\"dataframe\">\n",
       "  <thead>\n",
       "    <tr style=\"text-align: right;\">\n",
       "      <th></th>\n",
       "      <th>country</th>\n",
       "      <th>Happiness_score</th>\n",
       "      <th>gdp_per_capita</th>\n",
       "      <th>social_support</th>\n",
       "      <th>healthy_life_expentancy</th>\n",
       "      <th>freedom_to_make_life_choices</th>\n",
       "      <th>generosity</th>\n",
       "      <th>perceptions_of_corruption</th>\n",
       "      <th>rank</th>\n",
       "      <th>top_bottom_identifier</th>\n",
       "    </tr>\n",
       "  </thead>\n",
       "  <tbody>\n",
       "    <tr>\n",
       "      <th>0</th>\n",
       "      <td>Finland</td>\n",
       "      <td>7.804</td>\n",
       "      <td>10.792</td>\n",
       "      <td>0.969</td>\n",
       "      <td>71.150</td>\n",
       "      <td>0.961</td>\n",
       "      <td>-0.019</td>\n",
       "      <td>0.182</td>\n",
       "      <td>1</td>\n",
       "      <td>Top 10 happiest</td>\n",
       "    </tr>\n",
       "    <tr>\n",
       "      <th>1</th>\n",
       "      <td>Denmark</td>\n",
       "      <td>7.586</td>\n",
       "      <td>10.962</td>\n",
       "      <td>0.954</td>\n",
       "      <td>71.250</td>\n",
       "      <td>0.934</td>\n",
       "      <td>0.134</td>\n",
       "      <td>0.196</td>\n",
       "      <td>2</td>\n",
       "      <td>Top 10 happiest</td>\n",
       "    </tr>\n",
       "    <tr>\n",
       "      <th>2</th>\n",
       "      <td>Iceland</td>\n",
       "      <td>7.530</td>\n",
       "      <td>10.896</td>\n",
       "      <td>0.983</td>\n",
       "      <td>72.050</td>\n",
       "      <td>0.936</td>\n",
       "      <td>0.211</td>\n",
       "      <td>0.668</td>\n",
       "      <td>3</td>\n",
       "      <td>Top 10 happiest</td>\n",
       "    </tr>\n",
       "    <tr>\n",
       "      <th>3</th>\n",
       "      <td>Israel</td>\n",
       "      <td>7.473</td>\n",
       "      <td>10.639</td>\n",
       "      <td>0.943</td>\n",
       "      <td>72.697</td>\n",
       "      <td>0.809</td>\n",
       "      <td>-0.023</td>\n",
       "      <td>0.708</td>\n",
       "      <td>4</td>\n",
       "      <td>Top 10 happiest</td>\n",
       "    </tr>\n",
       "    <tr>\n",
       "      <th>4</th>\n",
       "      <td>Netherlands</td>\n",
       "      <td>7.403</td>\n",
       "      <td>10.942</td>\n",
       "      <td>0.930</td>\n",
       "      <td>71.550</td>\n",
       "      <td>0.887</td>\n",
       "      <td>0.213</td>\n",
       "      <td>0.379</td>\n",
       "      <td>5</td>\n",
       "      <td>Top 10 happiest</td>\n",
       "    </tr>\n",
       "    <tr>\n",
       "      <th>...</th>\n",
       "      <td>...</td>\n",
       "      <td>...</td>\n",
       "      <td>...</td>\n",
       "      <td>...</td>\n",
       "      <td>...</td>\n",
       "      <td>...</td>\n",
       "      <td>...</td>\n",
       "      <td>...</td>\n",
       "      <td>...</td>\n",
       "      <td>...</td>\n",
       "    </tr>\n",
       "    <tr>\n",
       "      <th>132</th>\n",
       "      <td>Congo (Kinshasa)</td>\n",
       "      <td>3.207</td>\n",
       "      <td>7.007</td>\n",
       "      <td>0.652</td>\n",
       "      <td>55.375</td>\n",
       "      <td>0.664</td>\n",
       "      <td>0.086</td>\n",
       "      <td>0.834</td>\n",
       "      <td>133</td>\n",
       "      <td>bottom 10 happiest</td>\n",
       "    </tr>\n",
       "    <tr>\n",
       "      <th>133</th>\n",
       "      <td>Zimbabwe</td>\n",
       "      <td>3.204</td>\n",
       "      <td>7.641</td>\n",
       "      <td>0.690</td>\n",
       "      <td>54.050</td>\n",
       "      <td>0.654</td>\n",
       "      <td>-0.046</td>\n",
       "      <td>0.766</td>\n",
       "      <td>134</td>\n",
       "      <td>bottom 10 happiest</td>\n",
       "    </tr>\n",
       "    <tr>\n",
       "      <th>134</th>\n",
       "      <td>Sierra Leone</td>\n",
       "      <td>3.138</td>\n",
       "      <td>7.394</td>\n",
       "      <td>0.555</td>\n",
       "      <td>54.900</td>\n",
       "      <td>0.660</td>\n",
       "      <td>0.105</td>\n",
       "      <td>0.858</td>\n",
       "      <td>135</td>\n",
       "      <td>bottom 10 happiest</td>\n",
       "    </tr>\n",
       "    <tr>\n",
       "      <th>135</th>\n",
       "      <td>Lebanon</td>\n",
       "      <td>2.392</td>\n",
       "      <td>9.478</td>\n",
       "      <td>0.530</td>\n",
       "      <td>66.149</td>\n",
       "      <td>0.474</td>\n",
       "      <td>-0.141</td>\n",
       "      <td>0.891</td>\n",
       "      <td>136</td>\n",
       "      <td>bottom 10 happiest</td>\n",
       "    </tr>\n",
       "    <tr>\n",
       "      <th>136</th>\n",
       "      <td>Afghanistan</td>\n",
       "      <td>1.859</td>\n",
       "      <td>7.324</td>\n",
       "      <td>0.341</td>\n",
       "      <td>54.712</td>\n",
       "      <td>0.382</td>\n",
       "      <td>-0.081</td>\n",
       "      <td>0.847</td>\n",
       "      <td>137</td>\n",
       "      <td>bottom 10 happiest</td>\n",
       "    </tr>\n",
       "  </tbody>\n",
       "</table>\n",
       "<p>137 rows × 10 columns</p>\n",
       "</div>"
      ],
      "text/plain": [
       "              country  Happiness_score  gdp_per_capita  social_support  \\\n",
       "0             Finland            7.804          10.792           0.969   \n",
       "1             Denmark            7.586          10.962           0.954   \n",
       "2             Iceland            7.530          10.896           0.983   \n",
       "3              Israel            7.473          10.639           0.943   \n",
       "4         Netherlands            7.403          10.942           0.930   \n",
       "..                ...              ...             ...             ...   \n",
       "132  Congo (Kinshasa)            3.207           7.007           0.652   \n",
       "133          Zimbabwe            3.204           7.641           0.690   \n",
       "134      Sierra Leone            3.138           7.394           0.555   \n",
       "135           Lebanon            2.392           9.478           0.530   \n",
       "136       Afghanistan            1.859           7.324           0.341   \n",
       "\n",
       "     healthy_life_expentancy  freedom_to_make_life_choices  generosity  \\\n",
       "0                     71.150                         0.961      -0.019   \n",
       "1                     71.250                         0.934       0.134   \n",
       "2                     72.050                         0.936       0.211   \n",
       "3                     72.697                         0.809      -0.023   \n",
       "4                     71.550                         0.887       0.213   \n",
       "..                       ...                           ...         ...   \n",
       "132                   55.375                         0.664       0.086   \n",
       "133                   54.050                         0.654      -0.046   \n",
       "134                   54.900                         0.660       0.105   \n",
       "135                   66.149                         0.474      -0.141   \n",
       "136                   54.712                         0.382      -0.081   \n",
       "\n",
       "     perceptions_of_corruption  rank top_bottom_identifier  \n",
       "0                        0.182     1       Top 10 happiest  \n",
       "1                        0.196     2       Top 10 happiest  \n",
       "2                        0.668     3       Top 10 happiest  \n",
       "3                        0.708     4       Top 10 happiest  \n",
       "4                        0.379     5       Top 10 happiest  \n",
       "..                         ...   ...                   ...  \n",
       "132                      0.834   133    bottom 10 happiest  \n",
       "133                      0.766   134    bottom 10 happiest  \n",
       "134                      0.858   135    bottom 10 happiest  \n",
       "135                      0.891   136    bottom 10 happiest  \n",
       "136                      0.847   137    bottom 10 happiest  \n",
       "\n",
       "[137 rows x 10 columns]"
      ]
     },
     "execution_count": 23,
     "metadata": {},
     "output_type": "execute_result"
    }
   ],
   "source": [
    "# create top10 and bottom 10 identifier column\n",
    "\n",
    "def top_bottom_identifier(value):\n",
    "    if value < 11:\n",
    "        return \"Top 10 happiest\"\n",
    "    if value > 127:\n",
    "        return \"bottom 10 happiest\"\n",
    "    elif 11 <= value < 128:\n",
    "        return \"not top/bottom 10\"  \n",
    "\n",
    "# create new column call top_bottom_identifier\n",
    "happy_df_2023['top_bottom_identifier'] = happy_df_2023['rank'].map(top_bottom_identifier)\n",
    "happy_df_2023"
   ]
  },
  {
   "cell_type": "code",
   "execution_count": 24,
   "metadata": {},
   "outputs": [
    {
     "data": {
      "text/html": [
       "<div>\n",
       "<style scoped>\n",
       "    .dataframe tbody tr th:only-of-type {\n",
       "        vertical-align: middle;\n",
       "    }\n",
       "\n",
       "    .dataframe tbody tr th {\n",
       "        vertical-align: top;\n",
       "    }\n",
       "\n",
       "    .dataframe thead th {\n",
       "        text-align: right;\n",
       "    }\n",
       "</style>\n",
       "<table border=\"1\" class=\"dataframe\">\n",
       "  <thead>\n",
       "    <tr style=\"text-align: right;\">\n",
       "      <th></th>\n",
       "      <th>name</th>\n",
       "      <th>alpha-2</th>\n",
       "      <th>alpha-3</th>\n",
       "      <th>country-code</th>\n",
       "      <th>iso_3166-2</th>\n",
       "      <th>region</th>\n",
       "      <th>sub-region</th>\n",
       "      <th>intermediate-region</th>\n",
       "      <th>region-code</th>\n",
       "      <th>sub-region-code</th>\n",
       "      <th>intermediate-region-code</th>\n",
       "    </tr>\n",
       "  </thead>\n",
       "  <tbody>\n",
       "    <tr>\n",
       "      <th>0</th>\n",
       "      <td>Afghanistan</td>\n",
       "      <td>AF</td>\n",
       "      <td>AFG</td>\n",
       "      <td>4</td>\n",
       "      <td>ISO 3166-2:AF</td>\n",
       "      <td>Asia</td>\n",
       "      <td>Southern Asia</td>\n",
       "      <td>NaN</td>\n",
       "      <td>142.0</td>\n",
       "      <td>34.0</td>\n",
       "      <td>NaN</td>\n",
       "    </tr>\n",
       "    <tr>\n",
       "      <th>1</th>\n",
       "      <td>Åland Islands</td>\n",
       "      <td>AX</td>\n",
       "      <td>ALA</td>\n",
       "      <td>248</td>\n",
       "      <td>ISO 3166-2:AX</td>\n",
       "      <td>Europe</td>\n",
       "      <td>Northern Europe</td>\n",
       "      <td>NaN</td>\n",
       "      <td>150.0</td>\n",
       "      <td>154.0</td>\n",
       "      <td>NaN</td>\n",
       "    </tr>\n",
       "    <tr>\n",
       "      <th>2</th>\n",
       "      <td>Albania</td>\n",
       "      <td>AL</td>\n",
       "      <td>ALB</td>\n",
       "      <td>8</td>\n",
       "      <td>ISO 3166-2:AL</td>\n",
       "      <td>Europe</td>\n",
       "      <td>Southern Europe</td>\n",
       "      <td>NaN</td>\n",
       "      <td>150.0</td>\n",
       "      <td>39.0</td>\n",
       "      <td>NaN</td>\n",
       "    </tr>\n",
       "    <tr>\n",
       "      <th>3</th>\n",
       "      <td>Algeria</td>\n",
       "      <td>DZ</td>\n",
       "      <td>DZA</td>\n",
       "      <td>12</td>\n",
       "      <td>ISO 3166-2:DZ</td>\n",
       "      <td>Africa</td>\n",
       "      <td>Northern Africa</td>\n",
       "      <td>NaN</td>\n",
       "      <td>2.0</td>\n",
       "      <td>15.0</td>\n",
       "      <td>NaN</td>\n",
       "    </tr>\n",
       "    <tr>\n",
       "      <th>4</th>\n",
       "      <td>American Samoa</td>\n",
       "      <td>AS</td>\n",
       "      <td>ASM</td>\n",
       "      <td>16</td>\n",
       "      <td>ISO 3166-2:AS</td>\n",
       "      <td>Oceania</td>\n",
       "      <td>Polynesia</td>\n",
       "      <td>NaN</td>\n",
       "      <td>9.0</td>\n",
       "      <td>61.0</td>\n",
       "      <td>NaN</td>\n",
       "    </tr>\n",
       "  </tbody>\n",
       "</table>\n",
       "</div>"
      ],
      "text/plain": [
       "             name alpha-2 alpha-3  country-code     iso_3166-2   region  \\\n",
       "0     Afghanistan      AF     AFG             4  ISO 3166-2:AF     Asia   \n",
       "1   Åland Islands      AX     ALA           248  ISO 3166-2:AX   Europe   \n",
       "2         Albania      AL     ALB             8  ISO 3166-2:AL   Europe   \n",
       "3         Algeria      DZ     DZA            12  ISO 3166-2:DZ   Africa   \n",
       "4  American Samoa      AS     ASM            16  ISO 3166-2:AS  Oceania   \n",
       "\n",
       "        sub-region intermediate-region  region-code  sub-region-code  \\\n",
       "0    Southern Asia                 NaN        142.0             34.0   \n",
       "1  Northern Europe                 NaN        150.0            154.0   \n",
       "2  Southern Europe                 NaN        150.0             39.0   \n",
       "3  Northern Africa                 NaN          2.0             15.0   \n",
       "4        Polynesia                 NaN          9.0             61.0   \n",
       "\n",
       "   intermediate-region-code  \n",
       "0                       NaN  \n",
       "1                       NaN  \n",
       "2                       NaN  \n",
       "3                       NaN  \n",
       "4                       NaN  "
      ]
     },
     "execution_count": 24,
     "metadata": {},
     "output_type": "execute_result"
    }
   ],
   "source": [
    "# lest take a look now to country mapping\n",
    "country_mapping.head()"
   ]
  },
  {
   "cell_type": "code",
   "execution_count": 25,
   "metadata": {},
   "outputs": [
    {
     "data": {
      "text/html": [
       "<div>\n",
       "<style scoped>\n",
       "    .dataframe tbody tr th:only-of-type {\n",
       "        vertical-align: middle;\n",
       "    }\n",
       "\n",
       "    .dataframe tbody tr th {\n",
       "        vertical-align: top;\n",
       "    }\n",
       "\n",
       "    .dataframe thead th {\n",
       "        text-align: right;\n",
       "    }\n",
       "</style>\n",
       "<table border=\"1\" class=\"dataframe\">\n",
       "  <thead>\n",
       "    <tr style=\"text-align: right;\">\n",
       "      <th></th>\n",
       "      <th>name</th>\n",
       "      <th>alpha-3</th>\n",
       "      <th>region</th>\n",
       "      <th>sub-region</th>\n",
       "    </tr>\n",
       "  </thead>\n",
       "  <tbody>\n",
       "    <tr>\n",
       "      <th>0</th>\n",
       "      <td>Afghanistan</td>\n",
       "      <td>AFG</td>\n",
       "      <td>Asia</td>\n",
       "      <td>Southern Asia</td>\n",
       "    </tr>\n",
       "    <tr>\n",
       "      <th>1</th>\n",
       "      <td>Åland Islands</td>\n",
       "      <td>ALA</td>\n",
       "      <td>Europe</td>\n",
       "      <td>Northern Europe</td>\n",
       "    </tr>\n",
       "    <tr>\n",
       "      <th>2</th>\n",
       "      <td>Albania</td>\n",
       "      <td>ALB</td>\n",
       "      <td>Europe</td>\n",
       "      <td>Southern Europe</td>\n",
       "    </tr>\n",
       "    <tr>\n",
       "      <th>3</th>\n",
       "      <td>Algeria</td>\n",
       "      <td>DZA</td>\n",
       "      <td>Africa</td>\n",
       "      <td>Northern Africa</td>\n",
       "    </tr>\n",
       "    <tr>\n",
       "      <th>4</th>\n",
       "      <td>American Samoa</td>\n",
       "      <td>ASM</td>\n",
       "      <td>Oceania</td>\n",
       "      <td>Polynesia</td>\n",
       "    </tr>\n",
       "    <tr>\n",
       "      <th>...</th>\n",
       "      <td>...</td>\n",
       "      <td>...</td>\n",
       "      <td>...</td>\n",
       "      <td>...</td>\n",
       "    </tr>\n",
       "    <tr>\n",
       "      <th>244</th>\n",
       "      <td>Wallis and Futuna</td>\n",
       "      <td>WLF</td>\n",
       "      <td>Oceania</td>\n",
       "      <td>Polynesia</td>\n",
       "    </tr>\n",
       "    <tr>\n",
       "      <th>245</th>\n",
       "      <td>Western Sahara</td>\n",
       "      <td>ESH</td>\n",
       "      <td>Africa</td>\n",
       "      <td>Northern Africa</td>\n",
       "    </tr>\n",
       "    <tr>\n",
       "      <th>246</th>\n",
       "      <td>Yemen</td>\n",
       "      <td>YEM</td>\n",
       "      <td>Asia</td>\n",
       "      <td>Western Asia</td>\n",
       "    </tr>\n",
       "    <tr>\n",
       "      <th>247</th>\n",
       "      <td>Zambia</td>\n",
       "      <td>ZMB</td>\n",
       "      <td>Africa</td>\n",
       "      <td>Sub-Saharan Africa</td>\n",
       "    </tr>\n",
       "    <tr>\n",
       "      <th>248</th>\n",
       "      <td>Zimbabwe</td>\n",
       "      <td>ZWE</td>\n",
       "      <td>Africa</td>\n",
       "      <td>Sub-Saharan Africa</td>\n",
       "    </tr>\n",
       "  </tbody>\n",
       "</table>\n",
       "<p>249 rows × 4 columns</p>\n",
       "</div>"
      ],
      "text/plain": [
       "                  name alpha-3   region          sub-region\n",
       "0          Afghanistan     AFG     Asia       Southern Asia\n",
       "1        Åland Islands     ALA   Europe     Northern Europe\n",
       "2              Albania     ALB   Europe     Southern Europe\n",
       "3              Algeria     DZA   Africa     Northern Africa\n",
       "4       American Samoa     ASM  Oceania           Polynesia\n",
       "..                 ...     ...      ...                 ...\n",
       "244  Wallis and Futuna     WLF  Oceania           Polynesia\n",
       "245     Western Sahara     ESH   Africa     Northern Africa\n",
       "246              Yemen     YEM     Asia        Western Asia\n",
       "247             Zambia     ZMB   Africa  Sub-Saharan Africa\n",
       "248           Zimbabwe     ZWE   Africa  Sub-Saharan Africa\n",
       "\n",
       "[249 rows x 4 columns]"
      ]
     },
     "execution_count": 25,
     "metadata": {},
     "output_type": "execute_result"
    }
   ],
   "source": [
    "# lets drop some columns\n",
    "country_mapping = country_mapping.drop('alpha-2', axis=1)\n",
    "\n",
    "# remove all columns between country-code and iso_31662\n",
    "country_mapping = country_mapping.drop(country_mapping.loc[:,'country-code':'iso_3166-2'].columns, axis=1)\n",
    "\n",
    "country_mapping = country_mapping.drop(country_mapping.loc[:,'intermediate-region':'intermediate-region-code'].columns, axis=1)\n",
    "country_mapping"
   ]
  },
  {
   "cell_type": "code",
   "execution_count": 26,
   "metadata": {},
   "outputs": [],
   "source": [
    "# lets rename the columns for consistency\n",
    "country_mapping = country_mapping.rename({'name':'country','alpha-3':'iso_alpha','sub-region':'sub_region'}, axis=1)"
   ]
  },
  {
   "cell_type": "code",
   "execution_count": 27,
   "metadata": {},
   "outputs": [],
   "source": [
    "# lets change the name of some countries to then merge it\n",
    "name_mapping = {\n",
    "    'Turkey': 'Turkiye',\n",
    "    'Palestine, State of': 'State of Palestine',\n",
    "    \"Côte D'Ivoire\": 'Ivory Coast',\n",
    "    'Macedonia': 'North Macedonia',\n",
    "    'Hong Kong': 'Hong Kong S.A.R. of China',\n",
    "    'Taiwan': 'Taiwan Province of China',\n",
    "    'Czech Republic': 'Czechia'\n",
    "}\n",
    "\n",
    "country_mapping['country'] = country_mapping['country'].replace(name_mapping, regex=True)"
   ]
  },
  {
   "cell_type": "code",
   "execution_count": 28,
   "metadata": {},
   "outputs": [
    {
     "data": {
      "text/html": [
       "<div>\n",
       "<style scoped>\n",
       "    .dataframe tbody tr th:only-of-type {\n",
       "        vertical-align: middle;\n",
       "    }\n",
       "\n",
       "    .dataframe tbody tr th {\n",
       "        vertical-align: top;\n",
       "    }\n",
       "\n",
       "    .dataframe thead th {\n",
       "        text-align: right;\n",
       "    }\n",
       "</style>\n",
       "<table border=\"1\" class=\"dataframe\">\n",
       "  <thead>\n",
       "    <tr style=\"text-align: right;\">\n",
       "      <th></th>\n",
       "      <th>country</th>\n",
       "      <th>Happiness_score</th>\n",
       "      <th>gdp_per_capita</th>\n",
       "      <th>social_support</th>\n",
       "      <th>healthy_life_expentancy</th>\n",
       "      <th>freedom_to_make_life_choices</th>\n",
       "      <th>generosity</th>\n",
       "      <th>perceptions_of_corruption</th>\n",
       "      <th>rank</th>\n",
       "      <th>top_bottom_identifier</th>\n",
       "      <th>iso_alpha</th>\n",
       "      <th>region</th>\n",
       "      <th>sub_region</th>\n",
       "    </tr>\n",
       "  </thead>\n",
       "  <tbody>\n",
       "    <tr>\n",
       "      <th>0</th>\n",
       "      <td>Finland</td>\n",
       "      <td>7.804</td>\n",
       "      <td>10.792</td>\n",
       "      <td>0.969</td>\n",
       "      <td>71.15</td>\n",
       "      <td>0.961</td>\n",
       "      <td>-0.019</td>\n",
       "      <td>0.182</td>\n",
       "      <td>1</td>\n",
       "      <td>Top 10 happiest</td>\n",
       "      <td>FIN</td>\n",
       "      <td>Europe</td>\n",
       "      <td>Northern Europe</td>\n",
       "    </tr>\n",
       "    <tr>\n",
       "      <th>1</th>\n",
       "      <td>Denmark</td>\n",
       "      <td>7.586</td>\n",
       "      <td>10.962</td>\n",
       "      <td>0.954</td>\n",
       "      <td>71.25</td>\n",
       "      <td>0.934</td>\n",
       "      <td>0.134</td>\n",
       "      <td>0.196</td>\n",
       "      <td>2</td>\n",
       "      <td>Top 10 happiest</td>\n",
       "      <td>DNK</td>\n",
       "      <td>Europe</td>\n",
       "      <td>Northern Europe</td>\n",
       "    </tr>\n",
       "  </tbody>\n",
       "</table>\n",
       "</div>"
      ],
      "text/plain": [
       "   country  Happiness_score  gdp_per_capita  social_support  \\\n",
       "0  Finland            7.804          10.792           0.969   \n",
       "1  Denmark            7.586          10.962           0.954   \n",
       "\n",
       "   healthy_life_expentancy  freedom_to_make_life_choices  generosity  \\\n",
       "0                    71.15                         0.961      -0.019   \n",
       "1                    71.25                         0.934       0.134   \n",
       "\n",
       "   perceptions_of_corruption  rank top_bottom_identifier iso_alpha  region  \\\n",
       "0                      0.182     1       Top 10 happiest       FIN  Europe   \n",
       "1                      0.196     2       Top 10 happiest       DNK  Europe   \n",
       "\n",
       "        sub_region  \n",
       "0  Northern Europe  \n",
       "1  Northern Europe  "
      ]
     },
     "execution_count": 28,
     "metadata": {},
     "output_type": "execute_result"
    }
   ],
   "source": [
    "# Lets merge BOTH datasets to create analysis\n",
    "happy_region_df = happy_df_2023.merge(country_mapping, on='country', how='left')\n",
    "happy_region_df.head(2)"
   ]
  },
  {
   "cell_type": "code",
   "execution_count": 29,
   "metadata": {},
   "outputs": [
    {
     "data": {
      "text/plain": [
       "country                         0\n",
       "Happiness_score                 0\n",
       "gdp_per_capita                  0\n",
       "social_support                  0\n",
       "healthy_life_expentancy         1\n",
       "freedom_to_make_life_choices    0\n",
       "generosity                      0\n",
       "perceptions_of_corruption       0\n",
       "rank                            0\n",
       "top_bottom_identifier           0\n",
       "iso_alpha                       4\n",
       "region                          4\n",
       "sub_region                      4\n",
       "dtype: int64"
      ]
     },
     "execution_count": 29,
     "metadata": {},
     "output_type": "execute_result"
    }
   ],
   "source": [
    "# let check for nulls\n",
    "happy_region_df.isnull().sum()"
   ]
  },
  {
   "cell_type": "code",
   "execution_count": 30,
   "metadata": {},
   "outputs": [
    {
     "data": {
      "text/html": [
       "<div>\n",
       "<style scoped>\n",
       "    .dataframe tbody tr th:only-of-type {\n",
       "        vertical-align: middle;\n",
       "    }\n",
       "\n",
       "    .dataframe tbody tr th {\n",
       "        vertical-align: top;\n",
       "    }\n",
       "\n",
       "    .dataframe thead th {\n",
       "        text-align: right;\n",
       "    }\n",
       "</style>\n",
       "<table border=\"1\" class=\"dataframe\">\n",
       "  <thead>\n",
       "    <tr style=\"text-align: right;\">\n",
       "      <th></th>\n",
       "      <th>country</th>\n",
       "      <th>Happiness_score</th>\n",
       "      <th>gdp_per_capita</th>\n",
       "      <th>social_support</th>\n",
       "      <th>healthy_life_expentancy</th>\n",
       "      <th>freedom_to_make_life_choices</th>\n",
       "      <th>generosity</th>\n",
       "      <th>perceptions_of_corruption</th>\n",
       "      <th>rank</th>\n",
       "      <th>top_bottom_identifier</th>\n",
       "      <th>iso_alpha</th>\n",
       "      <th>region</th>\n",
       "      <th>sub_region</th>\n",
       "    </tr>\n",
       "  </thead>\n",
       "  <tbody>\n",
       "    <tr>\n",
       "      <th>33</th>\n",
       "      <td>Kosovo</td>\n",
       "      <td>6.368</td>\n",
       "      <td>9.359</td>\n",
       "      <td>0.844</td>\n",
       "      <td>65.195</td>\n",
       "      <td>0.861</td>\n",
       "      <td>0.259</td>\n",
       "      <td>0.866</td>\n",
       "      <td>34</td>\n",
       "      <td>not top/bottom 10</td>\n",
       "      <td>NaN</td>\n",
       "      <td>NaN</td>\n",
       "      <td>NaN</td>\n",
       "    </tr>\n",
       "    <tr>\n",
       "      <th>70</th>\n",
       "      <td>Bosnia and Herzegovina</td>\n",
       "      <td>5.633</td>\n",
       "      <td>9.616</td>\n",
       "      <td>0.880</td>\n",
       "      <td>67.275</td>\n",
       "      <td>0.746</td>\n",
       "      <td>0.206</td>\n",
       "      <td>0.918</td>\n",
       "      <td>71</td>\n",
       "      <td>not top/bottom 10</td>\n",
       "      <td>NaN</td>\n",
       "      <td>NaN</td>\n",
       "      <td>NaN</td>\n",
       "    </tr>\n",
       "    <tr>\n",
       "      <th>85</th>\n",
       "      <td>Congo (Brazzaville)</td>\n",
       "      <td>5.267</td>\n",
       "      <td>8.095</td>\n",
       "      <td>0.605</td>\n",
       "      <td>56.850</td>\n",
       "      <td>0.730</td>\n",
       "      <td>-0.004</td>\n",
       "      <td>0.739</td>\n",
       "      <td>86</td>\n",
       "      <td>not top/bottom 10</td>\n",
       "      <td>NaN</td>\n",
       "      <td>NaN</td>\n",
       "      <td>NaN</td>\n",
       "    </tr>\n",
       "    <tr>\n",
       "      <th>132</th>\n",
       "      <td>Congo (Kinshasa)</td>\n",
       "      <td>3.207</td>\n",
       "      <td>7.007</td>\n",
       "      <td>0.652</td>\n",
       "      <td>55.375</td>\n",
       "      <td>0.664</td>\n",
       "      <td>0.086</td>\n",
       "      <td>0.834</td>\n",
       "      <td>133</td>\n",
       "      <td>bottom 10 happiest</td>\n",
       "      <td>NaN</td>\n",
       "      <td>NaN</td>\n",
       "      <td>NaN</td>\n",
       "    </tr>\n",
       "  </tbody>\n",
       "</table>\n",
       "</div>"
      ],
      "text/plain": [
       "                    country  Happiness_score  gdp_per_capita  social_support  \\\n",
       "33                   Kosovo            6.368           9.359           0.844   \n",
       "70   Bosnia and Herzegovina            5.633           9.616           0.880   \n",
       "85      Congo (Brazzaville)            5.267           8.095           0.605   \n",
       "132        Congo (Kinshasa)            3.207           7.007           0.652   \n",
       "\n",
       "     healthy_life_expentancy  freedom_to_make_life_choices  generosity  \\\n",
       "33                    65.195                         0.861       0.259   \n",
       "70                    67.275                         0.746       0.206   \n",
       "85                    56.850                         0.730      -0.004   \n",
       "132                   55.375                         0.664       0.086   \n",
       "\n",
       "     perceptions_of_corruption  rank top_bottom_identifier iso_alpha region  \\\n",
       "33                       0.866    34     not top/bottom 10       NaN    NaN   \n",
       "70                       0.918    71     not top/bottom 10       NaN    NaN   \n",
       "85                       0.739    86     not top/bottom 10       NaN    NaN   \n",
       "132                      0.834   133    bottom 10 happiest       NaN    NaN   \n",
       "\n",
       "    sub_region  \n",
       "33         NaN  \n",
       "70         NaN  \n",
       "85         NaN  \n",
       "132        NaN  "
      ]
     },
     "execution_count": 30,
     "metadata": {},
     "output_type": "execute_result"
    }
   ],
   "source": [
    "# We need to see the null values\n",
    "happy_region_df.query(\"iso_alpha.isnull()\")"
   ]
  },
  {
   "cell_type": "code",
   "execution_count": 31,
   "metadata": {},
   "outputs": [],
   "source": [
    "# lets harcode the values of those 4\n",
    "#Manually updating region, sub_region and iso code for Kosovo\n",
    "happy_region_df.loc[33,'region'] = 'Europe'\n",
    "happy_region_df.loc[33,'sub_region'] = 'Southern Europe'\n",
    "happy_region_df.loc[33,'iso_alpha'] = 'XXK'\n",
    "\n",
    "#Manually updating region, sub_region and iso code for Bosnia and Herzegovina\n",
    "happy_region_df.loc[70,'region'] = 'Europe'\n",
    "happy_region_df.loc[70,'sub_region'] = 'Southern Europe'\n",
    "happy_region_df.loc[70,'iso_alpha'] = 'BIH'\n",
    "\n",
    "#Manually updating region, sub_region and iso code for Congo (Brazzaville)\n",
    "happy_region_df.loc[85,'region'] = 'Africa'\n",
    "happy_region_df.loc[85,'sub_region'] = 'Sub-Saharan Africa'\n",
    "happy_region_df.loc[85,'iso_alpha'] = 'COG'\n",
    "\n",
    "#Manually updating region, sub_region and iso code for Congo (Kinshasa)\n",
    "happy_region_df.loc[132,'region'] = 'Africa'\n",
    "happy_region_df.loc[132,'sub_region'] = 'Sub-Saharan Africa'\n",
    "happy_region_df.loc[132,'iso_alpha'] = 'COD'"
   ]
  },
  {
   "cell_type": "code",
   "execution_count": 32,
   "metadata": {},
   "outputs": [
    {
     "data": {
      "text/plain": [
       "country                         0\n",
       "Happiness_score                 0\n",
       "gdp_per_capita                  0\n",
       "social_support                  0\n",
       "healthy_life_expentancy         1\n",
       "freedom_to_make_life_choices    0\n",
       "generosity                      0\n",
       "perceptions_of_corruption       0\n",
       "rank                            0\n",
       "top_bottom_identifier           0\n",
       "iso_alpha                       0\n",
       "region                          0\n",
       "sub_region                      0\n",
       "dtype: int64"
      ]
     },
     "execution_count": 32,
     "metadata": {},
     "output_type": "execute_result"
    }
   ],
   "source": [
    "# lets check nulls again\n",
    "happy_region_df.isnull().sum()"
   ]
  },
  {
   "cell_type": "code",
   "execution_count": 33,
   "metadata": {},
   "outputs": [],
   "source": [
    "# i will create a csv that i will use to create a dashboard on Tableau\n",
    "final_dataframe_happy_report_2023 = happy_region_df.to_csv(\"C:\\\\Happines Project\\\\final_dataframe_happy_report_2023.csv\")"
   ]
  },
  {
   "cell_type": "markdown",
   "metadata": {},
   "source": [
    "# First Insight of our Results\n",
    "\n",
    "- Top and bottom happiest countries\n",
    "- Happiest score density and distribution\n",
    "- Factor densities\n",
    "- Happiness score boxplots by region and sub_regions\n",
    "- Sunburst plot (Region - Sub_regions - country) mean happiness scores\n",
    "- Worldmap global visualisation"
   ]
  },
  {
   "cell_type": "code",
   "execution_count": 34,
   "metadata": {},
   "outputs": [
    {
     "data": {
      "text/html": [
       "<div>\n",
       "<style scoped>\n",
       "    .dataframe tbody tr th:only-of-type {\n",
       "        vertical-align: middle;\n",
       "    }\n",
       "\n",
       "    .dataframe tbody tr th {\n",
       "        vertical-align: top;\n",
       "    }\n",
       "\n",
       "    .dataframe thead th {\n",
       "        text-align: right;\n",
       "    }\n",
       "</style>\n",
       "<table border=\"1\" class=\"dataframe\">\n",
       "  <thead>\n",
       "    <tr style=\"text-align: right;\">\n",
       "      <th></th>\n",
       "      <th>country</th>\n",
       "      <th>Happiness_score</th>\n",
       "      <th>gdp_per_capita</th>\n",
       "      <th>social_support</th>\n",
       "      <th>healthy_life_expentancy</th>\n",
       "      <th>freedom_to_make_life_choices</th>\n",
       "      <th>generosity</th>\n",
       "      <th>perceptions_of_corruption</th>\n",
       "      <th>rank</th>\n",
       "      <th>top_bottom_identifier</th>\n",
       "      <th>iso_alpha</th>\n",
       "      <th>region</th>\n",
       "      <th>sub_region</th>\n",
       "    </tr>\n",
       "  </thead>\n",
       "  <tbody>\n",
       "    <tr>\n",
       "      <th>0</th>\n",
       "      <td>Finland</td>\n",
       "      <td>7.804</td>\n",
       "      <td>10.792</td>\n",
       "      <td>0.969</td>\n",
       "      <td>71.15</td>\n",
       "      <td>0.961</td>\n",
       "      <td>-0.019</td>\n",
       "      <td>0.182</td>\n",
       "      <td>1</td>\n",
       "      <td>Top 10 happiest</td>\n",
       "      <td>FIN</td>\n",
       "      <td>Europe</td>\n",
       "      <td>Northern Europe</td>\n",
       "    </tr>\n",
       "  </tbody>\n",
       "</table>\n",
       "</div>"
      ],
      "text/plain": [
       "   country  Happiness_score  gdp_per_capita  social_support  \\\n",
       "0  Finland            7.804          10.792           0.969   \n",
       "\n",
       "   healthy_life_expentancy  freedom_to_make_life_choices  generosity  \\\n",
       "0                    71.15                         0.961      -0.019   \n",
       "\n",
       "   perceptions_of_corruption  rank top_bottom_identifier iso_alpha  region  \\\n",
       "0                      0.182     1       Top 10 happiest       FIN  Europe   \n",
       "\n",
       "        sub_region  \n",
       "0  Northern Europe  "
      ]
     },
     "execution_count": 34,
     "metadata": {},
     "output_type": "execute_result"
    }
   ],
   "source": [
    "happy_region_df.head(1)"
   ]
  },
  {
   "cell_type": "code",
   "execution_count": 35,
   "metadata": {},
   "outputs": [
    {
     "data": {
      "image/png": "[encoded data removed]",
      "text/plain": [
       "<Figure size 1000x800 with 1 Axes>"
      ]
     },
     "metadata": {},
     "output_type": "display_data"
    }
   ],
   "source": [
    "# Group by 'country' and calculate the mean density score for each country\n",
    "grouped_df = happy_region_df.groupby('country')['Happiness_score'].mean()\n",
    "\n",
    "# Sort the DataFrame by density scores in descending order and get the top 10\n",
    "top_10_countries = grouped_df.sort_values(ascending=False).head(10)\n",
    "\n",
    "# Sort the DataFrame by density scores in ascending order and get the bottom 10\n",
    "bottom_10_countries = grouped_df.sort_values(ascending=True).head(10)\n",
    "\n",
    "# Concatenate the top and bottom DataFrames\n",
    "merged_df = pd.concat([top_10_countries, bottom_10_countries])\n",
    "\n",
    "# Reverse the order of the concatenated DataFrame\n",
    "merged_df = merged_df.sort_values(ascending=True)\n",
    "\n",
    "# Create a horizontal bar chart\n",
    "plt.figure(figsize=(10, 8))\n",
    "merged_df.plot(kind='barh', color=['skyblue' if x in top_10_countries.index else 'coral' for x in merged_df.index])\n",
    "plt.title('Top and Bottom 10 Countries by Density Score')\n",
    "plt.xlabel('Happiness Score')\n",
    "plt.ylabel('Country')\n",
    "plt.show()"
   ]
  },
  {
   "cell_type": "code",
   "execution_count": 36,
   "metadata": {},
   "outputs": [
    {
     "data": {
      "text/html": [
       "<div>\n",
       "<style scoped>\n",
       "    .dataframe tbody tr th:only-of-type {\n",
       "        vertical-align: middle;\n",
       "    }\n",
       "\n",
       "    .dataframe tbody tr th {\n",
       "        vertical-align: top;\n",
       "    }\n",
       "\n",
       "    .dataframe thead th {\n",
       "        text-align: right;\n",
       "    }\n",
       "</style>\n",
       "<table border=\"1\" class=\"dataframe\">\n",
       "  <thead>\n",
       "    <tr style=\"text-align: right;\">\n",
       "      <th></th>\n",
       "      <th>Happiness_score</th>\n",
       "    </tr>\n",
       "    <tr>\n",
       "      <th>region</th>\n",
       "      <th></th>\n",
       "    </tr>\n",
       "  </thead>\n",
       "  <tbody>\n",
       "    <tr>\n",
       "      <th>Oceania</th>\n",
       "      <td>7.109000</td>\n",
       "    </tr>\n",
       "    <tr>\n",
       "      <th>Europe</th>\n",
       "      <td>6.476462</td>\n",
       "    </tr>\n",
       "    <tr>\n",
       "      <th>Americas</th>\n",
       "      <td>6.057619</td>\n",
       "    </tr>\n",
       "    <tr>\n",
       "      <th>Asia</th>\n",
       "      <td>5.300553</td>\n",
       "    </tr>\n",
       "    <tr>\n",
       "      <th>Africa</th>\n",
       "      <td>4.419486</td>\n",
       "    </tr>\n",
       "  </tbody>\n",
       "</table>\n",
       "</div>"
      ],
      "text/plain": [
       "          Happiness_score\n",
       "region                   \n",
       "Oceania          7.109000\n",
       "Europe           6.476462\n",
       "Americas         6.057619\n",
       "Asia             5.300553\n",
       "Africa           4.419486"
      ]
     },
     "execution_count": 36,
     "metadata": {},
     "output_type": "execute_result"
    }
   ],
   "source": [
    "# lets grab the mean happiness score by each region\n",
    "\n",
    "mean_happiness = happy_region_df.groupby('region')[['Happiness_score']].mean()\n",
    "mean_happiness = mean_happiness.sort_values(by=['Happiness_score'], ascending=False)\n",
    "mean_happiness"
   ]
  },
  {
   "cell_type": "code",
   "execution_count": 37,
   "metadata": {},
   "outputs": [
    {
     "name": "stderr",
     "output_type": "stream",
     "text": [
      "C:\\Users\\marcorob\\AppData\\Local\\Temp\\ipykernel_19104\\1238760270.py:5: FutureWarning: \n",
      "\n",
      "Passing `palette` without assigning `hue` is deprecated and will be removed in v0.14.0. Assign the `y` variable to `hue` and set `legend=False` for the same effect.\n",
      "\n",
      "  sns.boxplot(y=\"region\", x=\"Happiness_score\", data=happy_region_df, orient=\"h\", ax=ax, palette='Greens_r', order=[\"Oceania\", \"Europe\", \"Americas\", \"Asia\", \"Africa\"] ).set(\n"
     ]
    },
    {
     "data": {
      "text/plain": [
       "[Text(0.5, 0, 'Happiness Score'), Text(0, 0.5, 'Region')]"
      ]
     },
     "execution_count": 37,
     "metadata": {},
     "output_type": "execute_result"
    },
    {
     "data": {
      "image/png": "[encoded data removed]",
      "text/plain": [
       "<Figure size 1000x600 with 1 Axes>"
      ]
     },
     "metadata": {},
     "output_type": "display_data"
    }
   ],
   "source": [
    "#lets see what this looks like on a boxplot graph, ordering by region mean\n",
    "\n",
    "fig, ax = plt.subplots(figsize=(10,6))\n",
    "plt.title(\"Happiness score boxplot by region\", fontsize = 20)\n",
    "sns.boxplot(y=\"region\", x=\"Happiness_score\", data=happy_region_df, orient=\"h\", ax=ax, palette='Greens_r', order=[\"Oceania\", \"Europe\", \"Americas\", \"Asia\", \"Africa\"] ).set(\n",
    "    xlabel='Happiness Score', \n",
    "    ylabel='Region'\n",
    ")"
   ]
  },
  {
   "cell_type": "code",
   "execution_count": 38,
   "metadata": {},
   "outputs": [
    {
     "data": {
      "text/html": [
       "<div>\n",
       "<style scoped>\n",
       "    .dataframe tbody tr th:only-of-type {\n",
       "        vertical-align: middle;\n",
       "    }\n",
       "\n",
       "    .dataframe tbody tr th {\n",
       "        vertical-align: top;\n",
       "    }\n",
       "\n",
       "    .dataframe thead th {\n",
       "        text-align: right;\n",
       "    }\n",
       "</style>\n",
       "<table border=\"1\" class=\"dataframe\">\n",
       "  <thead>\n",
       "    <tr style=\"text-align: right;\">\n",
       "      <th></th>\n",
       "      <th>Happiness_score</th>\n",
       "    </tr>\n",
       "    <tr>\n",
       "      <th>sub_region</th>\n",
       "      <th></th>\n",
       "    </tr>\n",
       "  </thead>\n",
       "  <tbody>\n",
       "    <tr>\n",
       "      <th>Australia and New Zealand</th>\n",
       "      <td>7.109000</td>\n",
       "    </tr>\n",
       "    <tr>\n",
       "      <th>Northern Europe</th>\n",
       "      <td>7.076800</td>\n",
       "    </tr>\n",
       "    <tr>\n",
       "      <th>Western Europe</th>\n",
       "      <td>7.054286</td>\n",
       "    </tr>\n",
       "    <tr>\n",
       "      <th>Northern America</th>\n",
       "      <td>6.927500</td>\n",
       "    </tr>\n",
       "    <tr>\n",
       "      <th>Eastern Europe</th>\n",
       "      <td>6.024556</td>\n",
       "    </tr>\n",
       "    <tr>\n",
       "      <th>Southern Europe</th>\n",
       "      <td>6.016385</td>\n",
       "    </tr>\n",
       "    <tr>\n",
       "      <th>Latin America and the Caribbean</th>\n",
       "      <td>5.966053</td>\n",
       "    </tr>\n",
       "    <tr>\n",
       "      <th>Eastern Asia</th>\n",
       "      <td>5.930167</td>\n",
       "    </tr>\n",
       "    <tr>\n",
       "      <th>Central Asia</th>\n",
       "      <td>5.828250</td>\n",
       "    </tr>\n",
       "    <tr>\n",
       "      <th>South-eastern Asia</th>\n",
       "      <td>5.431222</td>\n",
       "    </tr>\n",
       "    <tr>\n",
       "      <th>Western Asia</th>\n",
       "      <td>5.353000</td>\n",
       "    </tr>\n",
       "    <tr>\n",
       "      <th>Northern Africa</th>\n",
       "      <td>4.724750</td>\n",
       "    </tr>\n",
       "    <tr>\n",
       "      <th>Sub-Saharan Africa</th>\n",
       "      <td>4.382485</td>\n",
       "    </tr>\n",
       "    <tr>\n",
       "      <th>Southern Asia</th>\n",
       "      <td>4.201429</td>\n",
       "    </tr>\n",
       "  </tbody>\n",
       "</table>\n",
       "</div>"
      ],
      "text/plain": [
       "                                 Happiness_score\n",
       "sub_region                                      \n",
       "Australia and New Zealand               7.109000\n",
       "Northern Europe                         7.076800\n",
       "Western Europe                          7.054286\n",
       "Northern America                        6.927500\n",
       "Eastern Europe                          6.024556\n",
       "Southern Europe                         6.016385\n",
       "Latin America and the Caribbean         5.966053\n",
       "Eastern Asia                            5.930167\n",
       "Central Asia                            5.828250\n",
       "South-eastern Asia                      5.431222\n",
       "Western Asia                            5.353000\n",
       "Northern Africa                         4.724750\n",
       "Sub-Saharan Africa                      4.382485\n",
       "Southern Asia                           4.201429"
      ]
     },
     "execution_count": 38,
     "metadata": {},
     "output_type": "execute_result"
    }
   ],
   "source": [
    "# lets grab the mean happiness scores by each sub_region\n",
    "\n",
    "mean_happiness = happy_region_df.groupby('sub_region')[['Happiness_score']].mean()\n",
    "mean_happiness = mean_happiness.sort_values(by=['Happiness_score'], ascending=False)\n",
    "mean_happiness"
   ]
  },
  {
   "cell_type": "markdown",
   "metadata": {},
   "source": []
  },
  {
   "cell_type": "code",
   "execution_count": 39,
   "metadata": {},
   "outputs": [
    {
     "data": {
      "application/vnd.plotly.v1+json": {
       "config": {
        "plotlyServerURL": "https://plot.ly"
       },
       "data": [
        {
         "branchvalues": "total",
         "customdata": [
          [
           1.859
          ],
          [
           5.277
          ],
          [
           5.329
          ],
          [
           6.024
          ],
          [
           5.342
          ],
          [
           7.095
          ],
          [
           7.097000000000001
          ],
          [
           6.173000000000001
          ],
          [
           4.282
          ],
          [
           6.859
          ],
          [
           4.374
          ],
          [
           5.684
          ],
          [
           5.633
          ],
          [
           3.435
          ],
          [
           6.125
          ],
          [
           5.466
          ],
          [
           4.638
          ],
          [
           4.393
          ],
          [
           4.973
          ],
          [
           6.961
          ],
          [
           4.397
          ],
          [
           6.334
          ],
          [
           5.818
          ],
          [
           5.63
          ],
          [
           3.545
          ],
          [
           5.267
          ],
          [
           3.207
          ],
          [
           6.609
          ],
          [
           6.125
          ],
          [
           6.130000000000001
          ],
          [
           6.845000000000001
          ],
          [
           7.586
          ],
          [
           5.569
          ],
          [
           5.559
          ],
          [
           4.17
          ],
          [
           6.122
          ],
          [
           6.455
          ],
          [
           4.091
          ],
          [
           7.804
          ],
          [
           6.661
          ],
          [
           5.035
          ],
          [
           4.279
          ],
          [
           5.109
          ],
          [
           6.892
          ],
          [
           4.605
          ],
          [
           5.931
          ],
          [
           6.15
          ],
          [
           5.072
          ],
          [
           6.023
          ],
          [
           5.308
          ],
          [
           6.041
          ],
          [
           7.53
          ],
          [
           4.036
          ],
          [
           5.277
          ],
          [
           4.876
          ],
          [
           4.941
          ],
          [
           6.911
          ],
          [
           7.473
          ],
          [
           6.405
          ],
          [
           5.053
          ],
          [
           5.703000000000001
          ],
          [
           6.129
          ],
          [
           4.12
          ],
          [
           6.144
          ],
          [
           4.487
          ],
          [
           6.368
          ],
          [
           5.824999999999999
          ],
          [
           5.111
          ],
          [
           6.213
          ],
          [
           2.392
          ],
          [
           4.042
          ],
          [
           6.763
          ],
          [
           7.228
          ],
          [
           4.019
          ],
          [
           3.495
          ],
          [
           6.012
          ],
          [
           4.198
          ],
          [
           6.3
          ],
          [
           4.724
          ],
          [
           5.902
          ],
          [
           6.33
          ],
          [
           5.818999999999999
          ],
          [
           5.839999999999999
          ],
          [
           5.722000000000001
          ],
          [
           4.903
          ],
          [
           4.954
          ],
          [
           4.372
          ],
          [
           4.631
          ],
          [
           5.36
          ],
          [
           7.403
          ],
          [
           7.123
          ],
          [
           6.259
          ],
          [
           4.501
          ],
          [
           4.981
          ],
          [
           5.254
          ],
          [
           7.315
          ],
          [
           4.555
          ],
          [
           6.265
          ],
          [
           5.738000000000001
          ],
          [
           5.526
          ],
          [
           5.523
          ],
          [
           6.26
          ],
          [
           5.968
          ],
          [
           6.589
          ],
          [
           5.661
          ],
          [
           6.463
          ],
          [
           4.855
          ],
          [
           6.144
          ],
          [
           3.1379999999999995
          ],
          [
           6.587
          ],
          [
           6.469
          ],
          [
           6.65
          ],
          [
           5.275
          ],
          [
           5.951
          ],
          [
           6.435999999999999
          ],
          [
           4.442
          ],
          [
           4.908
          ],
          [
           7.395
          ],
          [
           7.24
          ],
          [
           6.535
          ],
          [
           5.33
          ],
          [
           3.694
          ],
          [
           5.842999999999999
          ],
          [
           4.137
          ],
          [
           4.497
          ],
          [
           4.614
          ],
          [
           4.432
          ],
          [
           5.071
          ],
          [
           6.570999999999999
          ],
          [
           6.796
          ],
          [
           6.894
          ],
          [
           6.494
          ],
          [
           6.014
          ],
          [
           5.211
          ],
          [
           5.762999999999999
          ],
          [
           3.9820000000000007
          ],
          [
           3.204
          ],
          [
           7.109027570685047
          ],
          [
           5.844655642774416
          ],
          [
           5.953032657879205
          ],
          [
           6.073256985300898
          ],
          [
           5.989218305323981
          ],
          [
           4.764779035927826
          ],
          [
           6.927661999278239
          ],
          [
           7.111972388650237
          ],
          [
           5.518932570937582
          ],
          [
           4.456479632777966
          ],
          [
           6.046199595975093
          ],
          [
           4.4834023592537795
          ],
          [
           5.660421227971854
          ],
          [
           7.062532766302145
          ],
          [
           4.51592257263593
          ],
          [
           6.091428331106046
          ],
          [
           5.523307594540786
          ],
          [
           6.549308367183726
          ],
          [
           7.109027570685047
          ]
         ],
         "domain": {
          "x": [
           0,
           1
          ],
          "y": [
           0,
           1
          ]
         },
         "hovertemplate": "labels=%{label}<br>Happiness_score_sum=%{value}<br>parent=%{parent}<br>id=%{id}<br>Happiness_score=%{color}<extra></extra>",
         "ids": [
          "Asia/Southern Asia/Afghanistan",
          "Europe/Southern Europe/Albania",
          "Africa/Northern Africa/Algeria",
          "Americas/Latin America and the Caribbean/Argentina",
          "Asia/Western Asia/Armenia",
          "Oceania/Australia and New Zealand/Australia",
          "Europe/Western Europe/Austria",
          "Asia/Western Asia/Bahrain",
          "Asia/Southern Asia/Bangladesh",
          "Europe/Western Europe/Belgium",
          "Africa/Sub-Saharan Africa/Benin",
          "Americas/Latin America and the Caribbean/Bolivia",
          "Europe/Southern Europe/Bosnia and Herzegovina",
          "Africa/Sub-Saharan Africa/Botswana",
          "Americas/Latin America and the Caribbean/Brazil",
          "Europe/Eastern Europe/Bulgaria",
          "Africa/Sub-Saharan Africa/Burkina Faso",
          "Asia/South-eastern Asia/Cambodia",
          "Africa/Sub-Saharan Africa/Cameroon",
          "Americas/Northern America/Canada",
          "Africa/Sub-Saharan Africa/Chad",
          "Americas/Latin America and the Caribbean/Chile",
          "Asia/Eastern Asia/China",
          "Americas/Latin America and the Caribbean/Colombia",
          "Africa/Sub-Saharan Africa/Comoros",
          "Africa/Sub-Saharan Africa/Congo (Brazzaville)",
          "Africa/Sub-Saharan Africa/Congo (Kinshasa)",
          "Americas/Latin America and the Caribbean/Costa Rica",
          "Europe/Southern Europe/Croatia",
          "Asia/Western Asia/Cyprus",
          "Europe/Eastern Europe/Czechia",
          "Europe/Northern Europe/Denmark",
          "Americas/Latin America and the Caribbean/Dominican Republic",
          "Americas/Latin America and the Caribbean/Ecuador",
          "Africa/Northern Africa/Egypt",
          "Americas/Latin America and the Caribbean/El Salvador",
          "Europe/Northern Europe/Estonia",
          "Africa/Sub-Saharan Africa/Ethiopia",
          "Europe/Northern Europe/Finland",
          "Europe/Western Europe/France",
          "Africa/Sub-Saharan Africa/Gabon",
          "Africa/Sub-Saharan Africa/Gambia",
          "Asia/Western Asia/Georgia",
          "Europe/Western Europe/Germany",
          "Africa/Sub-Saharan Africa/Ghana",
          "Europe/Southern Europe/Greece",
          "Americas/Latin America and the Caribbean/Guatemala",
          "Africa/Sub-Saharan Africa/Guinea",
          "Americas/Latin America and the Caribbean/Honduras",
          "Asia/Eastern Asia/Hong Kong S.A.R. of China",
          "Europe/Eastern Europe/Hungary",
          "Europe/Northern Europe/Iceland",
          "Asia/Southern Asia/India",
          "Asia/South-eastern Asia/Indonesia",
          "Asia/Southern Asia/Iran",
          "Asia/Western Asia/Iraq",
          "Europe/Northern Europe/Ireland",
          "Asia/Western Asia/Israel",
          "Europe/Southern Europe/Italy",
          "Africa/Sub-Saharan Africa/Ivory Coast",
          "Americas/Latin America and the Caribbean/Jamaica",
          "Asia/Eastern Asia/Japan",
          "Asia/Western Asia/Jordan",
          "Asia/Central Asia/Kazakhstan",
          "Africa/Sub-Saharan Africa/Kenya",
          "Europe/Southern Europe/Kosovo",
          "Asia/Central Asia/Kyrgyzstan",
          "Asia/South-eastern Asia/Laos",
          "Europe/Northern Europe/Latvia",
          "Asia/Western Asia/Lebanon",
          "Africa/Sub-Saharan Africa/Liberia",
          "Europe/Northern Europe/Lithuania",
          "Europe/Western Europe/Luxembourg",
          "Africa/Sub-Saharan Africa/Madagascar",
          "Africa/Sub-Saharan Africa/Malawi",
          "Asia/South-eastern Asia/Malaysia",
          "Africa/Sub-Saharan Africa/Mali",
          "Europe/Southern Europe/Malta",
          "Africa/Sub-Saharan Africa/Mauritania",
          "Africa/Sub-Saharan Africa/Mauritius",
          "Americas/Latin America and the Caribbean/Mexico",
          "Europe/Eastern Europe/Moldova",
          "Asia/Eastern Asia/Mongolia",
          "Europe/Southern Europe/Montenegro",
          "Africa/Northern Africa/Morocco",
          "Africa/Sub-Saharan Africa/Mozambique",
          "Asia/South-eastern Asia/Myanmar",
          "Africa/Sub-Saharan Africa/Namibia",
          "Asia/Southern Asia/Nepal",
          "Europe/Western Europe/Netherlands",
          "Oceania/Australia and New Zealand/New Zealand",
          "Americas/Latin America and the Caribbean/Nicaragua",
          "Africa/Sub-Saharan Africa/Niger",
          "Africa/Sub-Saharan Africa/Nigeria",
          "Europe/Southern Europe/North Macedonia",
          "Europe/Northern Europe/Norway",
          "Asia/Southern Asia/Pakistan",
          "Americas/Latin America and the Caribbean/Panama",
          "Americas/Latin America and the Caribbean/Paraguay",
          "Americas/Latin America and the Caribbean/Peru",
          "Asia/South-eastern Asia/Philippines",
          "Europe/Eastern Europe/Poland",
          "Europe/Southern Europe/Portugal",
          "Europe/Eastern Europe/Romania",
          "Europe/Eastern Europe/Russia",
          "Asia/Western Asia/Saudi Arabia",
          "Africa/Sub-Saharan Africa/Senegal",
          "Europe/Southern Europe/Serbia",
          "Africa/Sub-Saharan Africa/Sierra Leone",
          "Asia/South-eastern Asia/Singapore",
          "Europe/Eastern Europe/Slovakia",
          "Europe/Southern Europe/Slovenia",
          "Africa/Sub-Saharan Africa/South Africa",
          "Asia/Eastern Asia/South Korea",
          "Europe/Southern Europe/Spain",
          "Asia/Southern Asia/Sri Lanka",
          "Asia/Western Asia/State of Palestine",
          "Europe/Northern Europe/Sweden",
          "Europe/Western Europe/Switzerland",
          "Asia/Eastern Asia/Taiwan Province of China",
          "Asia/Central Asia/Tajikistan",
          "Africa/Sub-Saharan Africa/Tanzania",
          "Asia/South-eastern Asia/Thailand",
          "Africa/Sub-Saharan Africa/Togo",
          "Africa/Northern Africa/Tunisia",
          "Asia/Western Asia/Turkiye",
          "Africa/Sub-Saharan Africa/Uganda",
          "Europe/Eastern Europe/Ukraine",
          "Asia/Western Asia/United Arab Emirates",
          "Europe/Northern Europe/United Kingdom",
          "Americas/Northern America/United States",
          "Americas/Latin America and the Caribbean/Uruguay",
          "Asia/Central Asia/Uzbekistan",
          "Americas/Latin America and the Caribbean/Venezuela",
          "Asia/South-eastern Asia/Vietnam",
          "Africa/Sub-Saharan Africa/Zambia",
          "Africa/Sub-Saharan Africa/Zimbabwe",
          "Oceania/Australia and New Zealand",
          "Asia/Central Asia",
          "Asia/Eastern Asia",
          "Europe/Eastern Europe",
          "Americas/Latin America and the Caribbean",
          "Africa/Northern Africa",
          "Americas/Northern America",
          "Europe/Northern Europe",
          "Asia/South-eastern Asia",
          "Asia/Southern Asia",
          "Europe/Southern Europe",
          "Africa/Sub-Saharan Africa",
          "Asia/Western Asia",
          "Europe/Western Europe",
          "Africa",
          "Americas",
          "Asia",
          "Europe",
          "Oceania"
         ],
         "labels": [
          "Afghanistan",
          "Albania",
          "Algeria",
          "Argentina",
          "Armenia",
          "Australia",
          "Austria",
          "Bahrain",
          "Bangladesh",
          "Belgium",
          "Benin",
          "Bolivia",
          "Bosnia and Herzegovina",
          "Botswana",
          "Brazil",
          "Bulgaria",
          "Burkina Faso",
          "Cambodia",
          "Cameroon",
          "Canada",
          "Chad",
          "Chile",
          "China",
          "Colombia",
          "Comoros",
          "Congo (Brazzaville)",
          "Congo (Kinshasa)",
          "Costa Rica",
          "Croatia",
          "Cyprus",
          "Czechia",
          "Denmark",
          "Dominican Republic",
          "Ecuador",
          "Egypt",
          "El Salvador",
          "Estonia",
          "Ethiopia",
          "Finland",
          "France",
          "Gabon",
          "Gambia",
          "Georgia",
          "Germany",
          "Ghana",
          "Greece",
          "Guatemala",
          "Guinea",
          "Honduras",
          "Hong Kong S.A.R. of China",
          "Hungary",
          "Iceland",
          "India",
          "Indonesia",
          "Iran",
          "Iraq",
          "Ireland",
          "Israel",
          "Italy",
          "Ivory Coast",
          "Jamaica",
          "Japan",
          "Jordan",
          "Kazakhstan",
          "Kenya",
          "Kosovo",
          "Kyrgyzstan",
          "Laos",
          "Latvia",
          "Lebanon",
          "Liberia",
          "Lithuania",
          "Luxembourg",
          "Madagascar",
          "Malawi",
          "Malaysia",
          "Mali",
          "Malta",
          "Mauritania",
          "Mauritius",
          "Mexico",
          "Moldova",
          "Mongolia",
          "Montenegro",
          "Morocco",
          "Mozambique",
          "Myanmar",
          "Namibia",
          "Nepal",
          "Netherlands",
          "New Zealand",
          "Nicaragua",
          "Niger",
          "Nigeria",
          "North Macedonia",
          "Norway",
          "Pakistan",
          "Panama",
          "Paraguay",
          "Peru",
          "Philippines",
          "Poland",
          "Portugal",
          "Romania",
          "Russia",
          "Saudi Arabia",
          "Senegal",
          "Serbia",
          "Sierra Leone",
          "Singapore",
          "Slovakia",
          "Slovenia",
          "South Africa",
          "South Korea",
          "Spain",
          "Sri Lanka",
          "State of Palestine",
          "Sweden",
          "Switzerland",
          "Taiwan Province of China",
          "Tajikistan",
          "Tanzania",
          "Thailand",
          "Togo",
          "Tunisia",
          "Turkiye",
          "Uganda",
          "Ukraine",
          "United Arab Emirates",
          "United Kingdom",
          "United States",
          "Uruguay",
          "Uzbekistan",
          "Venezuela",
          "Vietnam",
          "Zambia",
          "Zimbabwe",
          "Australia and New Zealand",
          "Central Asia",
          "Eastern Asia",
          "Eastern Europe",
          "Latin America and the Caribbean",
          "Northern Africa",
          "Northern America",
          "Northern Europe",
          "South-eastern Asia",
          "Southern Asia",
          "Southern Europe",
          "Sub-Saharan Africa",
          "Western Asia",
          "Western Europe",
          "Africa",
          "Americas",
          "Asia",
          "Europe",
          "Oceania"
         ],
         "marker": {
          "coloraxis": "coloraxis",
          "colors": [
           1.859,
           5.277,
           5.329,
           6.024,
           5.342,
           7.095,
           7.097000000000001,
           6.173000000000001,
           4.282,
           6.859,
           4.374,
           5.684,
           5.633,
           3.435,
           6.125,
           5.466,
           4.638,
           4.393,
           4.973,
           6.961,
           4.397,
           6.334,
           5.818,
           5.63,
           3.545,
           5.267,
           3.207,
           6.609,
           6.125,
           6.130000000000001,
           6.845000000000001,
           7.586,
           5.569,
           5.559,
           4.17,
           6.122,
           6.455,
           4.091,
           7.804,
           6.661,
           5.035,
           4.279,
           5.109,
           6.892,
           4.605,
           5.931,
           6.15,
           5.072,
           6.023,
           5.308,
           6.041,
           7.53,
           4.036,
           5.277,
           4.876,
           4.941,
           6.911,
           7.473,
           6.405,
           5.053,
           5.703000000000001,
           6.129,
           4.12,
           6.144,
           4.487,
           6.368,
           5.824999999999999,
           5.111,
           6.213,
           2.392,
           4.042,
           6.763,
           7.228,
           4.019,
           3.495,
           6.012,
           4.198,
           6.3,
           4.724,
           5.902,
           6.33,
           5.818999999999999,
           5.839999999999999,
           5.722000000000001,
           4.903,
           4.954,
           4.372,
           4.631,
           5.36,
           7.403,
           7.123,
           6.259,
           4.501,
           4.981,
           5.254,
           7.315,
           4.555,
           6.265,
           5.738000000000001,
           5.526,
           5.523,
           6.26,
           5.968,
           6.589,
           5.661,
           6.463,
           4.855,
           6.144,
           3.1379999999999995,
           6.587,
           6.469,
           6.65,
           5.275,
           5.951,
           6.435999999999999,
           4.442,
           4.908,
           7.395,
           7.24,
           6.535,
           5.33,
           3.694,
           5.842999999999999,
           4.137,
           4.497,
           4.614,
           4.432,
           5.071,
           6.570999999999999,
           6.796,
           6.894,
           6.494,
           6.014,
           5.211,
           5.762999999999999,
           3.9820000000000007,
           3.204,
           7.109027570685047,
           5.844655642774416,
           5.953032657879205,
           6.073256985300898,
           5.989218305323981,
           4.764779035927826,
           6.927661999278239,
           7.111972388650237,
           5.518932570937582,
           4.456479632777966,
           6.046199595975093,
           4.4834023592537795,
           5.660421227971854,
           7.062532766302145,
           4.51592257263593,
           6.091428331106046,
           5.523307594540786,
           6.549308367183726,
           7.109027570685047
          ]
         },
         "name": "",
         "parents": [
          "Asia/Southern Asia",
          "Europe/Southern Europe",
          "Africa/Northern Africa",
          "Americas/Latin America and the Caribbean",
          "Asia/Western Asia",
          "Oceania/Australia and New Zealand",
          "Europe/Western Europe",
          "Asia/Western Asia",
          "Asia/Southern Asia",
          "Europe/Western Europe",
          "Africa/Sub-Saharan Africa",
          "Americas/Latin America and the Caribbean",
          "Europe/Southern Europe",
          "Africa/Sub-Saharan Africa",
          "Americas/Latin America and the Caribbean",
          "Europe/Eastern Europe",
          "Africa/Sub-Saharan Africa",
          "Asia/South-eastern Asia",
          "Africa/Sub-Saharan Africa",
          "Americas/Northern America",
          "Africa/Sub-Saharan Africa",
          "Americas/Latin America and the Caribbean",
          "Asia/Eastern Asia",
          "Americas/Latin America and the Caribbean",
          "Africa/Sub-Saharan Africa",
          "Africa/Sub-Saharan Africa",
          "Africa/Sub-Saharan Africa",
          "Americas/Latin America and the Caribbean",
          "Europe/Southern Europe",
          "Asia/Western Asia",
          "Europe/Eastern Europe",
          "Europe/Northern Europe",
          "Americas/Latin America and the Caribbean",
          "Americas/Latin America and the Caribbean",
          "Africa/Northern Africa",
          "Americas/Latin America and the Caribbean",
          "Europe/Northern Europe",
          "Africa/Sub-Saharan Africa",
          "Europe/Northern Europe",
          "Europe/Western Europe",
          "Africa/Sub-Saharan Africa",
          "Africa/Sub-Saharan Africa",
          "Asia/Western Asia",
          "Europe/Western Europe",
          "Africa/Sub-Saharan Africa",
          "Europe/Southern Europe",
          "Americas/Latin America and the Caribbean",
          "Africa/Sub-Saharan Africa",
          "Americas/Latin America and the Caribbean",
          "Asia/Eastern Asia",
          "Europe/Eastern Europe",
          "Europe/Northern Europe",
          "Asia/Southern Asia",
          "Asia/South-eastern Asia",
          "Asia/Southern Asia",
          "Asia/Western Asia",
          "Europe/Northern Europe",
          "Asia/Western Asia",
          "Europe/Southern Europe",
          "Africa/Sub-Saharan Africa",
          "Americas/Latin America and the Caribbean",
          "Asia/Eastern Asia",
          "Asia/Western Asia",
          "Asia/Central Asia",
          "Africa/Sub-Saharan Africa",
          "Europe/Southern Europe",
          "Asia/Central Asia",
          "Asia/South-eastern Asia",
          "Europe/Northern Europe",
          "Asia/Western Asia",
          "Africa/Sub-Saharan Africa",
          "Europe/Northern Europe",
          "Europe/Western Europe",
          "Africa/Sub-Saharan Africa",
          "Africa/Sub-Saharan Africa",
          "Asia/South-eastern Asia",
          "Africa/Sub-Saharan Africa",
          "Europe/Southern Europe",
          "Africa/Sub-Saharan Africa",
          "Africa/Sub-Saharan Africa",
          "Americas/Latin America and the Caribbean",
          "Europe/Eastern Europe",
          "Asia/Eastern Asia",
          "Europe/Southern Europe",
          "Africa/Northern Africa",
          "Africa/Sub-Saharan Africa",
          "Asia/South-eastern Asia",
          "Africa/Sub-Saharan Africa",
          "Asia/Southern Asia",
          "Europe/Western Europe",
          "Oceania/Australia and New Zealand",
          "Americas/Latin America and the Caribbean",
          "Africa/Sub-Saharan Africa",
          "Africa/Sub-Saharan Africa",
          "Europe/Southern Europe",
          "Europe/Northern Europe",
          "Asia/Southern Asia",
          "Americas/Latin America and the Caribbean",
          "Americas/Latin America and the Caribbean",
          "Americas/Latin America and the Caribbean",
          "Asia/South-eastern Asia",
          "Europe/Eastern Europe",
          "Europe/Southern Europe",
          "Europe/Eastern Europe",
          "Europe/Eastern Europe",
          "Asia/Western Asia",
          "Africa/Sub-Saharan Africa",
          "Europe/Southern Europe",
          "Africa/Sub-Saharan Africa",
          "Asia/South-eastern Asia",
          "Europe/Eastern Europe",
          "Europe/Southern Europe",
          "Africa/Sub-Saharan Africa",
          "Asia/Eastern Asia",
          "Europe/Southern Europe",
          "Asia/Southern Asia",
          "Asia/Western Asia",
          "Europe/Northern Europe",
          "Europe/Western Europe",
          "Asia/Eastern Asia",
          "Asia/Central Asia",
          "Africa/Sub-Saharan Africa",
          "Asia/South-eastern Asia",
          "Africa/Sub-Saharan Africa",
          "Africa/Northern Africa",
          "Asia/Western Asia",
          "Africa/Sub-Saharan Africa",
          "Europe/Eastern Europe",
          "Asia/Western Asia",
          "Europe/Northern Europe",
          "Americas/Northern America",
          "Americas/Latin America and the Caribbean",
          "Asia/Central Asia",
          "Americas/Latin America and the Caribbean",
          "Asia/South-eastern Asia",
          "Africa/Sub-Saharan Africa",
          "Africa/Sub-Saharan Africa",
          "Oceania",
          "Asia",
          "Asia",
          "Europe",
          "Americas",
          "Africa",
          "Americas",
          "Europe",
          "Asia",
          "Asia",
          "Europe",
          "Africa",
          "Asia",
          "Europe",
          "",
          "",
          "",
          "",
          ""
         ],
         "type": "sunburst",
         "values": [
          1.859,
          5.277,
          5.329,
          6.024,
          5.342,
          7.095,
          7.097,
          6.173,
          4.282,
          6.859,
          4.374,
          5.684,
          5.633,
          3.435,
          6.125,
          5.466,
          4.638,
          4.393,
          4.973,
          6.961,
          4.397,
          6.334,
          5.818,
          5.63,
          3.545,
          5.267,
          3.207,
          6.609,
          6.125,
          6.13,
          6.845,
          7.586,
          5.569,
          5.559,
          4.17,
          6.122,
          6.455,
          4.091,
          7.804,
          6.661,
          5.035,
          4.279,
          5.109,
          6.892,
          4.605,
          5.931,
          6.15,
          5.072,
          6.023,
          5.308,
          6.041,
          7.53,
          4.036,
          5.277,
          4.876,
          4.941,
          6.911,
          7.473,
          6.405,
          5.053,
          5.703,
          6.129,
          4.12,
          6.144,
          4.487,
          6.368,
          5.825,
          5.111,
          6.213,
          2.392,
          4.042,
          6.763,
          7.228,
          4.019,
          3.495,
          6.012,
          4.198,
          6.3,
          4.724,
          5.902,
          6.33,
          5.819,
          5.84,
          5.722,
          4.903,
          4.954,
          4.372,
          4.631,
          5.36,
          7.403,
          7.123,
          6.259,
          4.501,
          4.981,
          5.254,
          7.315,
          4.555,
          6.265,
          5.738,
          5.526,
          5.523,
          6.26,
          5.968,
          6.589,
          5.661,
          6.463,
          4.855,
          6.144,
          3.138,
          6.587,
          6.469,
          6.65,
          5.275,
          5.951,
          6.436,
          4.442,
          4.908,
          7.395,
          7.24,
          6.535,
          5.33,
          3.694,
          5.843,
          4.137,
          4.497,
          4.614,
          4.432,
          5.071,
          6.571,
          6.796,
          6.894,
          6.494,
          6.014,
          5.211,
          5.763,
          3.982,
          3.204,
          14.218,
          23.313000000000002,
          35.580999999999996,
          54.221000000000004,
          113.355,
          18.899,
          13.855,
          70.768,
          48.881,
          29.41,
          78.213,
          144.622,
          64.236,
          49.38,
          163.52100000000002,
          127.21000000000001,
          201.421,
          252.582,
          14.218
         ]
        }
       ],
       "layout": {
        "coloraxis": {
         "colorbar": {
          "title": {
           "text": "Happiness_score"
          }
         },
         "colorscale": [
          [
           0,
           "rgb(165,0,38)"
          ],
          [
           0.1,
           "rgb(215,48,39)"
          ],
          [
           0.2,
           "rgb(244,109,67)"
          ],
          [
           0.3,
           "rgb(253,174,97)"
          ],
          [
           0.4,
           "rgb(254,224,139)"
          ],
          [
           0.5,
           "rgb(255,255,191)"
          ],
          [
           0.6,
           "rgb(217,239,139)"
          ],
          [
           0.7,
           "rgb(166,217,106)"
          ],
          [
           0.8,
           "rgb(102,189,99)"
          ],
          [
           0.9,
           "rgb(26,152,80)"
          ],
          [
           1,
           "rgb(0,104,55)"
          ]
         ]
        },
        "height": 1000,
        "legend": {
         "tracegroupgap": 0
        },
        "template": {
         "data": {
          "bar": [
           {
            "error_x": {
             "color": "#2a3f5f"
            },
            "error_y": {
             "color": "#2a3f5f"
            },
            "marker": {
             "line": {
              "color": "#E5ECF6",
              "width": 0.5
             },
             "pattern": {
              "fillmode": "overlay",
              "size": 10,
              "solidity": 0.2
             }
            },
            "type": "bar"
           }
          ],
          "barpolar": [
           {
            "marker": {
             "line": {
              "color": "#E5ECF6",
              "width": 0.5
             },
             "pattern": {
              "fillmode": "overlay",
              "size": 10,
              "solidity": 0.2
             }
            },
            "type": "barpolar"
           }
          ],
          "carpet": [
           {
            "aaxis": {
             "endlinecolor": "#2a3f5f",
             "gridcolor": "white",
             "linecolor": "white",
             "minorgridcolor": "white",
             "startlinecolor": "#2a3f5f"
            },
            "baxis": {
             "endlinecolor": "#2a3f5f",
             "gridcolor": "white",
             "linecolor": "white",
             "minorgridcolor": "white",
             "startlinecolor": "#2a3f5f"
            },
            "type": "carpet"
           }
          ],
          "choropleth": [
           {
            "colorbar": {
             "outlinewidth": 0,
             "ticks": ""
            },
            "type": "choropleth"
           }
          ],
          "contour": [
           {
            "colorbar": {
             "outlinewidth": 0,
             "ticks": ""
            },
            "colorscale": [
             [
              0,
              "#0d0887"
             ],
             [
              0.1111111111111111,
              "#46039f"
             ],
             [
              0.2222222222222222,
              "#7201a8"
             ],
             [
              0.3333333333333333,
              "#9c179e"
             ],
             [
              0.4444444444444444,
              "#bd3786"
             ],
             [
              0.5555555555555556,
              "#d8576b"
             ],
             [
              0.6666666666666666,
              "#ed7953"
             ],
             [
              0.7777777777777778,
              "#fb9f3a"
             ],
             [
              0.8888888888888888,
              "#fdca26"
             ],
             [
              1,
              "#f0f921"
             ]
            ],
            "type": "contour"
           }
          ],
          "contourcarpet": [
           {
            "colorbar": {
             "outlinewidth": 0,
             "ticks": ""
            },
            "type": "contourcarpet"
           }
          ],
          "heatmap": [
           {
            "colorbar": {
             "outlinewidth": 0,
             "ticks": ""
            },
            "colorscale": [
             [
              0,
              "#0d0887"
             ],
             [
              0.1111111111111111,
              "#46039f"
             ],
             [
              0.2222222222222222,
              "#7201a8"
             ],
             [
              0.3333333333333333,
              "#9c179e"
             ],
             [
              0.4444444444444444,
              "#bd3786"
             ],
             [
              0.5555555555555556,
              "#d8576b"
             ],
             [
              0.6666666666666666,
              "#ed7953"
             ],
             [
              0.7777777777777778,
              "#fb9f3a"
             ],
             [
              0.8888888888888888,
              "#fdca26"
             ],
             [
              1,
              "#f0f921"
             ]
            ],
            "type": "heatmap"
           }
          ],
          "heatmapgl": [
           {
            "colorbar": {
             "outlinewidth": 0,
             "ticks": ""
            },
            "colorscale": [
             [
              0,
              "#0d0887"
             ],
             [
              0.1111111111111111,
              "#46039f"
             ],
             [
              0.2222222222222222,
              "#7201a8"
             ],
             [
              0.3333333333333333,
              "#9c179e"
             ],
             [
              0.4444444444444444,
              "#bd3786"
             ],
             [
              0.5555555555555556,
              "#d8576b"
             ],
             [
              0.6666666666666666,
              "#ed7953"
             ],
             [
              0.7777777777777778,
              "#fb9f3a"
             ],
             [
              0.8888888888888888,
              "#fdca26"
             ],
             [
              1,
              "#f0f921"
             ]
            ],
            "type": "heatmapgl"
           }
          ],
          "histogram": [
           {
            "marker": {
             "pattern": {
              "fillmode": "overlay",
              "size": 10,
              "solidity": 0.2
             }
            },
            "type": "histogram"
           }
          ],
          "histogram2d": [
           {
            "colorbar": {
             "outlinewidth": 0,
             "ticks": ""
            },
            "colorscale": [
             [
              0,
              "#0d0887"
             ],
             [
              0.1111111111111111,
              "#46039f"
             ],
             [
              0.2222222222222222,
              "#7201a8"
             ],
             [
              0.3333333333333333,
              "#9c179e"
             ],
             [
              0.4444444444444444,
              "#bd3786"
             ],
             [
              0.5555555555555556,
              "#d8576b"
             ],
             [
              0.6666666666666666,
              "#ed7953"
             ],
             [
              0.7777777777777778,
              "#fb9f3a"
             ],
             [
              0.8888888888888888,
              "#fdca26"
             ],
             [
              1,
              "#f0f921"
             ]
            ],
            "type": "histogram2d"
           }
          ],
          "histogram2dcontour": [
           {
            "colorbar": {
             "outlinewidth": 0,
             "ticks": ""
            },
            "colorscale": [
             [
              0,
              "#0d0887"
             ],
             [
              0.1111111111111111,
              "#46039f"
             ],
             [
              0.2222222222222222,
              "#7201a8"
             ],
             [
              0.3333333333333333,
              "#9c179e"
             ],
             [
              0.4444444444444444,
              "#bd3786"
             ],
             [
              0.5555555555555556,
              "#d8576b"
             ],
             [
              0.6666666666666666,
              "#ed7953"
             ],
             [
              0.7777777777777778,
              "#fb9f3a"
             ],
             [
              0.8888888888888888,
              "#fdca26"
             ],
             [
              1,
              "#f0f921"
             ]
            ],
            "type": "histogram2dcontour"
           }
          ],
          "mesh3d": [
           {
            "colorbar": {
             "outlinewidth": 0,
             "ticks": ""
            },
            "type": "mesh3d"
           }
          ],
          "parcoords": [
           {
            "line": {
             "colorbar": {
              "outlinewidth": 0,
              "ticks": ""
             }
            },
            "type": "parcoords"
           }
          ],
          "pie": [
           {
            "automargin": true,
            "type": "pie"
           }
          ],
          "scatter": [
           {
            "fillpattern": {
             "fillmode": "overlay",
             "size": 10,
             "solidity": 0.2
            },
            "type": "scatter"
           }
          ],
          "scatter3d": [
           {
            "line": {
             "colorbar": {
              "outlinewidth": 0,
              "ticks": ""
             }
            },
            "marker": {
             "colorbar": {
              "outlinewidth": 0,
              "ticks": ""
             }
            },
            "type": "scatter3d"
           }
          ],
          "scattercarpet": [
           {
            "marker": {
             "colorbar": {
              "outlinewidth": 0,
              "ticks": ""
             }
            },
            "type": "scattercarpet"
           }
          ],
          "scattergeo": [
           {
            "marker": {
             "colorbar": {
              "outlinewidth": 0,
              "ticks": ""
             }
            },
            "type": "scattergeo"
           }
          ],
          "scattergl": [
           {
            "marker": {
             "colorbar": {
              "outlinewidth": 0,
              "ticks": ""
             }
            },
            "type": "scattergl"
           }
          ],
          "scattermapbox": [
           {
            "marker": {
             "colorbar": {
              "outlinewidth": 0,
              "ticks": ""
             }
            },
            "type": "scattermapbox"
           }
          ],
          "scatterpolar": [
           {
            "marker": {
             "colorbar": {
              "outlinewidth": 0,
              "ticks": ""
             }
            },
            "type": "scatterpolar"
           }
          ],
          "scatterpolargl": [
           {
            "marker": {
             "colorbar": {
              "outlinewidth": 0,
              "ticks": ""
             }
            },
            "type": "scatterpolargl"
           }
          ],
          "scatterternary": [
           {
            "marker": {
             "colorbar": {
              "outlinewidth": 0,
              "ticks": ""
             }
            },
            "type": "scatterternary"
           }
          ],
          "surface": [
           {
            "colorbar": {
             "outlinewidth": 0,
             "ticks": ""
            },
            "colorscale": [
             [
              0,
              "#0d0887"
             ],
             [
              0.1111111111111111,
              "#46039f"
             ],
             [
              0.2222222222222222,
              "#7201a8"
             ],
             [
              0.3333333333333333,
              "#9c179e"
             ],
             [
              0.4444444444444444,
              "#bd3786"
             ],
             [
              0.5555555555555556,
              "#d8576b"
             ],
             [
              0.6666666666666666,
              "#ed7953"
             ],
             [
              0.7777777777777778,
              "#fb9f3a"
             ],
             [
              0.8888888888888888,
              "#fdca26"
             ],
             [
              1,
              "#f0f921"
             ]
            ],
            "type": "surface"
           }
          ],
          "table": [
           {
            "cells": {
             "fill": {
              "color": "#EBF0F8"
             },
             "line": {
              "color": "white"
             }
            },
            "header": {
             "fill": {
              "color": "#C8D4E3"
             },
             "line": {
              "color": "white"
             }
            },
            "type": "table"
           }
          ]
         },
         "layout": {
          "annotationdefaults": {
           "arrowcolor": "#2a3f5f",
           "arrowhead": 0,
           "arrowwidth": 1
          },
          "autotypenumbers": "strict",
          "coloraxis": {
           "colorbar": {
            "outlinewidth": 0,
            "ticks": ""
           }
          },
          "colorscale": {
           "diverging": [
            [
             0,
             "#8e0152"
            ],
            [
             0.1,
             "#c51b7d"
            ],
            [
             0.2,
             "#de77ae"
            ],
            [
             0.3,
             "#f1b6da"
            ],
            [
             0.4,
             "#fde0ef"
            ],
            [
             0.5,
             "#f7f7f7"
            ],
            [
             0.6,
             "#e6f5d0"
            ],
            [
             0.7,
             "#b8e186"
            ],
            [
             0.8,
             "#7fbc41"
            ],
            [
             0.9,
             "#4d9221"
            ],
            [
             1,
             "#276419"
            ]
           ],
           "sequential": [
            [
             0,
             "#0d0887"
            ],
            [
             0.1111111111111111,
             "#46039f"
            ],
            [
             0.2222222222222222,
             "#7201a8"
            ],
            [
             0.3333333333333333,
             "#9c179e"
            ],
            [
             0.4444444444444444,
             "#bd3786"
            ],
            [
             0.5555555555555556,
             "#d8576b"
            ],
            [
             0.6666666666666666,
             "#ed7953"
            ],
            [
             0.7777777777777778,
             "#fb9f3a"
            ],
            [
             0.8888888888888888,
             "#fdca26"
            ],
            [
             1,
             "#f0f921"
            ]
           ],
           "sequentialminus": [
            [
             0,
             "#0d0887"
            ],
            [
             0.1111111111111111,
             "#46039f"
            ],
            [
             0.2222222222222222,
             "#7201a8"
            ],
            [
             0.3333333333333333,
             "#9c179e"
            ],
            [
             0.4444444444444444,
             "#bd3786"
            ],
            [
             0.5555555555555556,
             "#d8576b"
            ],
            [
             0.6666666666666666,
             "#ed7953"
            ],
            [
             0.7777777777777778,
             "#fb9f3a"
            ],
            [
             0.8888888888888888,
             "#fdca26"
            ],
            [
             1,
             "#f0f921"
            ]
           ]
          },
          "colorway": [
           "#636efa",
           "#EF553B",
           "#00cc96",
           "#ab63fa",
           "#FFA15A",
           "#19d3f3",
           "#FF6692",
           "#B6E880",
           "#FF97FF",
           "#FECB52"
          ],
          "font": {
           "color": "#2a3f5f"
          },
          "geo": {
           "bgcolor": "white",
           "lakecolor": "white",
           "landcolor": "#E5ECF6",
           "showlakes": true,
           "showland": true,
           "subunitcolor": "white"
          },
          "hoverlabel": {
           "align": "left"
          },
          "hovermode": "closest",
          "mapbox": {
           "style": "light"
          },
          "paper_bgcolor": "white",
          "plot_bgcolor": "#E5ECF6",
          "polar": {
           "angularaxis": {
            "gridcolor": "white",
            "linecolor": "white",
            "ticks": ""
           },
           "bgcolor": "#E5ECF6",
           "radialaxis": {
            "gridcolor": "white",
            "linecolor": "white",
            "ticks": ""
           }
          },
          "scene": {
           "xaxis": {
            "backgroundcolor": "#E5ECF6",
            "gridcolor": "white",
            "gridwidth": 2,
            "linecolor": "white",
            "showbackground": true,
            "ticks": "",
            "zerolinecolor": "white"
           },
           "yaxis": {
            "backgroundcolor": "#E5ECF6",
            "gridcolor": "white",
            "gridwidth": 2,
            "linecolor": "white",
            "showbackground": true,
            "ticks": "",
            "zerolinecolor": "white"
           },
           "zaxis": {
            "backgroundcolor": "#E5ECF6",
            "gridcolor": "white",
            "gridwidth": 2,
            "linecolor": "white",
            "showbackground": true,
            "ticks": "",
            "zerolinecolor": "white"
           }
          },
          "shapedefaults": {
           "line": {
            "color": "#2a3f5f"
           }
          },
          "ternary": {
           "aaxis": {
            "gridcolor": "white",
            "linecolor": "white",
            "ticks": ""
           },
           "baxis": {
            "gridcolor": "white",
            "linecolor": "white",
            "ticks": ""
           },
           "bgcolor": "#E5ECF6",
           "caxis": {
            "gridcolor": "white",
            "linecolor": "white",
            "ticks": ""
           }
          },
          "title": {
           "x": 0.05
          },
          "xaxis": {
           "automargin": true,
           "gridcolor": "white",
           "linecolor": "white",
           "ticks": "",
           "title": {
            "standoff": 15
           },
           "zerolinecolor": "white",
           "zerolinewidth": 2
          },
          "yaxis": {
           "automargin": true,
           "gridcolor": "white",
           "linecolor": "white",
           "ticks": "",
           "title": {
            "standoff": 15
           },
           "zerolinecolor": "white",
           "zerolinewidth": 2
          }
         }
        },
        "title": {
         "text": "Happiness score sunburst - region / sub region / country"
        },
        "width": 1000
       }
      }
     },
     "metadata": {},
     "output_type": "display_data"
    }
   ],
   "source": [
    "#Sunburst plot looking at the make up of the regions and sub_regions and how the happiness\n",
    "#  score of each country and sun_region compares with others in the same category\n",
    "\n",
    "fig = px.sunburst(data_frame=happy_region_df,\n",
    "                  path=[\"region\", \"sub_region\", \"country\"],\n",
    "                  values=\"Happiness_score\",\n",
    "                  color=\"Happiness_score\",\n",
    "                  color_continuous_scale='RdYlGn',\n",
    "                  width=1000, \n",
    "                  height=1000,\n",
    "                  title = 'Happiness score sunburst - region / sub region / country')\n",
    "fig.show()"
   ]
  },
  {
   "cell_type": "code",
   "execution_count": 40,
   "metadata": {},
   "outputs": [
    {
     "data": {
      "application/vnd.plotly.v1+json": {
       "config": {
        "plotlyServerURL": "https://plot.ly"
       },
       "data": [
        {
         "coloraxis": "coloraxis",
         "geo": "geo",
         "hovertemplate": "<b>%{hovertext}</b><br><br>iso_alpha=%{location}<br>rank=%{z}<extra></extra>",
         "hovertext": [
          "Finland",
          "Denmark",
          "Iceland",
          "Israel",
          "Netherlands",
          "Sweden",
          "Norway",
          "Switzerland",
          "Luxembourg",
          "New Zealand",
          "Austria",
          "Australia",
          "Canada",
          "Ireland",
          "United States",
          "Germany",
          "Belgium",
          "Czechia",
          "United Kingdom",
          "Lithuania",
          "France",
          "Slovenia",
          "Costa Rica",
          "Romania",
          "Singapore",
          "United Arab Emirates",
          "Taiwan Province of China",
          "Uruguay",
          "Slovakia",
          "Saudi Arabia",
          "Estonia",
          "Spain",
          "Italy",
          "Kosovo",
          "Chile",
          "Mexico",
          "Malta",
          "Panama",
          "Poland",
          "Nicaragua",
          "Latvia",
          "Bahrain",
          "Guatemala",
          "Kazakhstan",
          "Serbia",
          "Cyprus",
          "Japan",
          "Croatia",
          "Brazil",
          "El Salvador",
          "Hungary",
          "Argentina",
          "Honduras",
          "Uzbekistan",
          "Malaysia",
          "Portugal",
          "South Korea",
          "Greece",
          "Mauritius",
          "Thailand",
          "Mongolia",
          "Kyrgyzstan",
          "Moldova",
          "China",
          "Vietnam",
          "Paraguay",
          "Montenegro",
          "Jamaica",
          "Bolivia",
          "Russia",
          "Bosnia and Herzegovina",
          "Colombia",
          "Dominican Republic",
          "Ecuador",
          "Peru",
          "Philippines",
          "Bulgaria",
          "Nepal",
          "Armenia",
          "Tajikistan",
          "Algeria",
          "Hong Kong S.A.R. of China",
          "Albania",
          "Indonesia",
          "South Africa",
          "Congo (Brazzaville)",
          "North Macedonia",
          "Venezuela",
          "Laos",
          "Georgia",
          "Guinea",
          "Ukraine",
          "Ivory Coast",
          "Gabon",
          "Nigeria",
          "Cameroon",
          "Mozambique",
          "Iraq",
          "State of Palestine",
          "Morocco",
          "Iran",
          "Senegal",
          "Mauritania",
          "Burkina Faso",
          "Namibia",
          "Turkiye",
          "Ghana",
          "Pakistan",
          "Niger",
          "Tunisia",
          "Kenya",
          "Sri Lanka",
          "Uganda",
          "Chad",
          "Cambodia",
          "Benin",
          "Myanmar",
          "Bangladesh",
          "Gambia",
          "Mali",
          "Egypt",
          "Togo",
          "Jordan",
          "Ethiopia",
          "Liberia",
          "India",
          "Madagascar",
          "Zambia",
          "Tanzania",
          "Comoros",
          "Malawi",
          "Botswana",
          "Congo (Kinshasa)",
          "Zimbabwe",
          "Sierra Leone",
          "Lebanon",
          "Afghanistan"
         ],
         "locations": [
          "FIN",
          "DNK",
          "ISL",
          "ISR",
          "NLD",
          "SWE",
          "NOR",
          "CHE",
          "LUX",
          "NZL",
          "AUT",
          "AUS",
          "CAN",
          "IRL",
          "USA",
          "DEU",
          "BEL",
          "CZE",
          "GBR",
          "LTU",
          "FRA",
          "SVN",
          "CRI",
          "ROU",
          "SGP",
          "ARE",
          "TWN",
          "URY",
          "SVK",
          "SAU",
          "EST",
          "ESP",
          "ITA",
          "XXK",
          "CHL",
          "MEX",
          "MLT",
          "PAN",
          "POL",
          "NIC",
          "LVA",
          "BHR",
          "GTM",
          "KAZ",
          "SRB",
          "CYP",
          "JPN",
          "HRV",
          "BRA",
          "SLV",
          "HUN",
          "ARG",
          "HND",
          "UZB",
          "MYS",
          "PRT",
          "PRK",
          "GRC",
          "MUS",
          "THA",
          "MNG",
          "KGZ",
          "MDA",
          "CHN",
          "VNM",
          "PRY",
          "MNE",
          "JAM",
          "BOL",
          "RUS",
          "BIH",
          "COL",
          "DOM",
          "ECU",
          "PER",
          "PHL",
          "BGR",
          "NPL",
          "ARM",
          "TJK",
          "DZA",
          "HKG",
          "ALB",
          "IDN",
          "ZAF",
          "COG",
          "MKD",
          "VEN",
          "LAO",
          "GEO",
          "GIN",
          "UKR",
          "CIV",
          "GAB",
          "NGA",
          "CMR",
          "MOZ",
          "IRQ",
          "PSE",
          "MAR",
          "IRN",
          "SEN",
          "MRT",
          "BFA",
          "NAM",
          "TUR",
          "GHA",
          "PAK",
          "NER",
          "TUN",
          "KEN",
          "LKA",
          "UGA",
          "TCD",
          "KHM",
          "BEN",
          "MMR",
          "BGD",
          "GMB",
          "MLI",
          "EGY",
          "TGO",
          "JOR",
          "ETH",
          "LBR",
          "IND",
          "MDG",
          "ZMB",
          "TZA",
          "COM",
          "MWI",
          "BWA",
          "COD",
          "ZWE",
          "SLE",
          "LBN",
          "AFG"
         ],
         "name": "",
         "type": "choropleth",
         "z": [
          1,
          2,
          3,
          4,
          5,
          6,
          7,
          8,
          9,
          10,
          11,
          12,
          13,
          14,
          15,
          16,
          17,
          18,
          19,
          20,
          21,
          22,
          23,
          24,
          25,
          26,
          27,
          28,
          29,
          30,
          31,
          32,
          33,
          34,
          35,
          36,
          37,
          38,
          39,
          40,
          41,
          42,
          43,
          44,
          44,
          46,
          47,
          48,
          48,
          50,
          51,
          52,
          53,
          54,
          55,
          56,
          57,
          58,
          59,
          60,
          61,
          62,
          63,
          64,
          65,
          66,
          67,
          68,
          69,
          70,
          71,
          72,
          73,
          74,
          75,
          76,
          77,
          78,
          79,
          80,
          81,
          82,
          83,
          83,
          85,
          86,
          87,
          88,
          89,
          90,
          91,
          92,
          93,
          94,
          95,
          96,
          97,
          98,
          99,
          100,
          101,
          102,
          103,
          104,
          105,
          106,
          107,
          108,
          109,
          110,
          111,
          112,
          113,
          114,
          115,
          116,
          117,
          118,
          119,
          120,
          121,
          122,
          123,
          124,
          125,
          126,
          127,
          128,
          129,
          130,
          131,
          132,
          133,
          134,
          135,
          136,
          137
         ]
        }
       ],
       "layout": {
        "coloraxis": {
         "colorbar": {
          "title": {
           "text": "rank"
          }
         },
         "colorscale": [
          [
           0,
           "rgb(0,104,55)"
          ],
          [
           0.1,
           "rgb(26,152,80)"
          ],
          [
           0.2,
           "rgb(102,189,99)"
          ],
          [
           0.3,
           "rgb(166,217,106)"
          ],
          [
           0.4,
           "rgb(217,239,139)"
          ],
          [
           0.5,
           "rgb(255,255,191)"
          ],
          [
           0.6,
           "rgb(254,224,139)"
          ],
          [
           0.7,
           "rgb(253,174,97)"
          ],
          [
           0.8,
           "rgb(244,109,67)"
          ],
          [
           0.9,
           "rgb(215,48,39)"
          ],
          [
           1,
           "rgb(165,0,38)"
          ]
         ]
        },
        "geo": {
         "center": {},
         "domain": {
          "x": [
           0,
           1
          ],
          "y": [
           0,
           1
          ]
         },
         "scope": "world"
        },
        "legend": {
         "tracegroupgap": 0
        },
        "template": {
         "data": {
          "bar": [
           {
            "error_x": {
             "color": "#2a3f5f"
            },
            "error_y": {
             "color": "#2a3f5f"
            },
            "marker": {
             "line": {
              "color": "#E5ECF6",
              "width": 0.5
             },
             "pattern": {
              "fillmode": "overlay",
              "size": 10,
              "solidity": 0.2
             }
            },
            "type": "bar"
           }
          ],
          "barpolar": [
           {
            "marker": {
             "line": {
              "color": "#E5ECF6",
              "width": 0.5
             },
             "pattern": {
              "fillmode": "overlay",
              "size": 10,
              "solidity": 0.2
             }
            },
            "type": "barpolar"
           }
          ],
          "carpet": [
           {
            "aaxis": {
             "endlinecolor": "#2a3f5f",
             "gridcolor": "white",
             "linecolor": "white",
             "minorgridcolor": "white",
             "startlinecolor": "#2a3f5f"
            },
            "baxis": {
             "endlinecolor": "#2a3f5f",
             "gridcolor": "white",
             "linecolor": "white",
             "minorgridcolor": "white",
             "startlinecolor": "#2a3f5f"
            },
            "type": "carpet"
           }
          ],
          "choropleth": [
           {
            "colorbar": {
             "outlinewidth": 0,
             "ticks": ""
            },
            "type": "choropleth"
           }
          ],
          "contour": [
           {
            "colorbar": {
             "outlinewidth": 0,
             "ticks": ""
            },
            "colorscale": [
             [
              0,
              "#0d0887"
             ],
             [
              0.1111111111111111,
              "#46039f"
             ],
             [
              0.2222222222222222,
              "#7201a8"
             ],
             [
              0.3333333333333333,
              "#9c179e"
             ],
             [
              0.4444444444444444,
              "#bd3786"
             ],
             [
              0.5555555555555556,
              "#d8576b"
             ],
             [
              0.6666666666666666,
              "#ed7953"
             ],
             [
              0.7777777777777778,
              "#fb9f3a"
             ],
             [
              0.8888888888888888,
              "#fdca26"
             ],
             [
              1,
              "#f0f921"
             ]
            ],
            "type": "contour"
           }
          ],
          "contourcarpet": [
           {
            "colorbar": {
             "outlinewidth": 0,
             "ticks": ""
            },
            "type": "contourcarpet"
           }
          ],
          "heatmap": [
           {
            "colorbar": {
             "outlinewidth": 0,
             "ticks": ""
            },
            "colorscale": [
             [
              0,
              "#0d0887"
             ],
             [
              0.1111111111111111,
              "#46039f"
             ],
             [
              0.2222222222222222,
              "#7201a8"
             ],
             [
              0.3333333333333333,
              "#9c179e"
             ],
             [
              0.4444444444444444,
              "#bd3786"
             ],
             [
              0.5555555555555556,
              "#d8576b"
             ],
             [
              0.6666666666666666,
              "#ed7953"
             ],
             [
              0.7777777777777778,
              "#fb9f3a"
             ],
             [
              0.8888888888888888,
              "#fdca26"
             ],
             [
              1,
              "#f0f921"
             ]
            ],
            "type": "heatmap"
           }
          ],
          "heatmapgl": [
           {
            "colorbar": {
             "outlinewidth": 0,
             "ticks": ""
            },
            "colorscale": [
             [
              0,
              "#0d0887"
             ],
             [
              0.1111111111111111,
              "#46039f"
             ],
             [
              0.2222222222222222,
              "#7201a8"
             ],
             [
              0.3333333333333333,
              "#9c179e"
             ],
             [
              0.4444444444444444,
              "#bd3786"
             ],
             [
              0.5555555555555556,
              "#d8576b"
             ],
             [
              0.6666666666666666,
              "#ed7953"
             ],
             [
              0.7777777777777778,
              "#fb9f3a"
             ],
             [
              0.8888888888888888,
              "#fdca26"
             ],
             [
              1,
              "#f0f921"
             ]
            ],
            "type": "heatmapgl"
           }
          ],
          "histogram": [
           {
            "marker": {
             "pattern": {
              "fillmode": "overlay",
              "size": 10,
              "solidity": 0.2
             }
            },
            "type": "histogram"
           }
          ],
          "histogram2d": [
           {
            "colorbar": {
             "outlinewidth": 0,
             "ticks": ""
            },
            "colorscale": [
             [
              0,
              "#0d0887"
             ],
             [
              0.1111111111111111,
              "#46039f"
             ],
             [
              0.2222222222222222,
              "#7201a8"
             ],
             [
              0.3333333333333333,
              "#9c179e"
             ],
             [
              0.4444444444444444,
              "#bd3786"
             ],
             [
              0.5555555555555556,
              "#d8576b"
             ],
             [
              0.6666666666666666,
              "#ed7953"
             ],
             [
              0.7777777777777778,
              "#fb9f3a"
             ],
             [
              0.8888888888888888,
              "#fdca26"
             ],
             [
              1,
              "#f0f921"
             ]
            ],
            "type": "histogram2d"
           }
          ],
          "histogram2dcontour": [
           {
            "colorbar": {
             "outlinewidth": 0,
             "ticks": ""
            },
            "colorscale": [
             [
              0,
              "#0d0887"
             ],
             [
              0.1111111111111111,
              "#46039f"
             ],
             [
              0.2222222222222222,
              "#7201a8"
             ],
             [
              0.3333333333333333,
              "#9c179e"
             ],
             [
              0.4444444444444444,
              "#bd3786"
             ],
             [
              0.5555555555555556,
              "#d8576b"
             ],
             [
              0.6666666666666666,
              "#ed7953"
             ],
             [
              0.7777777777777778,
              "#fb9f3a"
             ],
             [
              0.8888888888888888,
              "#fdca26"
             ],
             [
              1,
              "#f0f921"
             ]
            ],
            "type": "histogram2dcontour"
           }
          ],
          "mesh3d": [
           {
            "colorbar": {
             "outlinewidth": 0,
             "ticks": ""
            },
            "type": "mesh3d"
           }
          ],
          "parcoords": [
           {
            "line": {
             "colorbar": {
              "outlinewidth": 0,
              "ticks": ""
             }
            },
            "type": "parcoords"
           }
          ],
          "pie": [
           {
            "automargin": true,
            "type": "pie"
           }
          ],
          "scatter": [
           {
            "fillpattern": {
             "fillmode": "overlay",
             "size": 10,
             "solidity": 0.2
            },
            "type": "scatter"
           }
          ],
          "scatter3d": [
           {
            "line": {
             "colorbar": {
              "outlinewidth": 0,
              "ticks": ""
             }
            },
            "marker": {
             "colorbar": {
              "outlinewidth": 0,
              "ticks": ""
             }
            },
            "type": "scatter3d"
           }
          ],
          "scattercarpet": [
           {
            "marker": {
             "colorbar": {
              "outlinewidth": 0,
              "ticks": ""
             }
            },
            "type": "scattercarpet"
           }
          ],
          "scattergeo": [
           {
            "marker": {
             "colorbar": {
              "outlinewidth": 0,
              "ticks": ""
             }
            },
            "type": "scattergeo"
           }
          ],
          "scattergl": [
           {
            "marker": {
             "colorbar": {
              "outlinewidth": 0,
              "ticks": ""
             }
            },
            "type": "scattergl"
           }
          ],
          "scattermapbox": [
           {
            "marker": {
             "colorbar": {
              "outlinewidth": 0,
              "ticks": ""
             }
            },
            "type": "scattermapbox"
           }
          ],
          "scatterpolar": [
           {
            "marker": {
             "colorbar": {
              "outlinewidth": 0,
              "ticks": ""
             }
            },
            "type": "scatterpolar"
           }
          ],
          "scatterpolargl": [
           {
            "marker": {
             "colorbar": {
              "outlinewidth": 0,
              "ticks": ""
             }
            },
            "type": "scatterpolargl"
           }
          ],
          "scatterternary": [
           {
            "marker": {
             "colorbar": {
              "outlinewidth": 0,
              "ticks": ""
             }
            },
            "type": "scatterternary"
           }
          ],
          "surface": [
           {
            "colorbar": {
             "outlinewidth": 0,
             "ticks": ""
            },
            "colorscale": [
             [
              0,
              "#0d0887"
             ],
             [
              0.1111111111111111,
              "#46039f"
             ],
             [
              0.2222222222222222,
              "#7201a8"
             ],
             [
              0.3333333333333333,
              "#9c179e"
             ],
             [
              0.4444444444444444,
              "#bd3786"
             ],
             [
              0.5555555555555556,
              "#d8576b"
             ],
             [
              0.6666666666666666,
              "#ed7953"
             ],
             [
              0.7777777777777778,
              "#fb9f3a"
             ],
             [
              0.8888888888888888,
              "#fdca26"
             ],
             [
              1,
              "#f0f921"
             ]
            ],
            "type": "surface"
           }
          ],
          "table": [
           {
            "cells": {
             "fill": {
              "color": "#EBF0F8"
             },
             "line": {
              "color": "white"
             }
            },
            "header": {
             "fill": {
              "color": "#C8D4E3"
             },
             "line": {
              "color": "white"
             }
            },
            "type": "table"
           }
          ]
         },
         "layout": {
          "annotationdefaults": {
           "arrowcolor": "#2a3f5f",
           "arrowhead": 0,
           "arrowwidth": 1
          },
          "autotypenumbers": "strict",
          "coloraxis": {
           "colorbar": {
            "outlinewidth": 0,
            "ticks": ""
           }
          },
          "colorscale": {
           "diverging": [
            [
             0,
             "#8e0152"
            ],
            [
             0.1,
             "#c51b7d"
            ],
            [
             0.2,
             "#de77ae"
            ],
            [
             0.3,
             "#f1b6da"
            ],
            [
             0.4,
             "#fde0ef"
            ],
            [
             0.5,
             "#f7f7f7"
            ],
            [
             0.6,
             "#e6f5d0"
            ],
            [
             0.7,
             "#b8e186"
            ],
            [
             0.8,
             "#7fbc41"
            ],
            [
             0.9,
             "#4d9221"
            ],
            [
             1,
             "#276419"
            ]
           ],
           "sequential": [
            [
             0,
             "#0d0887"
            ],
            [
             0.1111111111111111,
             "#46039f"
            ],
            [
             0.2222222222222222,
             "#7201a8"
            ],
            [
             0.3333333333333333,
             "#9c179e"
            ],
            [
             0.4444444444444444,
             "#bd3786"
            ],
            [
             0.5555555555555556,
             "#d8576b"
            ],
            [
             0.6666666666666666,
             "#ed7953"
            ],
            [
             0.7777777777777778,
             "#fb9f3a"
            ],
            [
             0.8888888888888888,
             "#fdca26"
            ],
            [
             1,
             "#f0f921"
            ]
           ],
           "sequentialminus": [
            [
             0,
             "#0d0887"
            ],
            [
             0.1111111111111111,
             "#46039f"
            ],
            [
             0.2222222222222222,
             "#7201a8"
            ],
            [
             0.3333333333333333,
             "#9c179e"
            ],
            [
             0.4444444444444444,
             "#bd3786"
            ],
            [
             0.5555555555555556,
             "#d8576b"
            ],
            [
             0.6666666666666666,
             "#ed7953"
            ],
            [
             0.7777777777777778,
             "#fb9f3a"
            ],
            [
             0.8888888888888888,
             "#fdca26"
            ],
            [
             1,
             "#f0f921"
            ]
           ]
          },
          "colorway": [
           "#636efa",
           "#EF553B",
           "#00cc96",
           "#ab63fa",
           "#FFA15A",
           "#19d3f3",
           "#FF6692",
           "#B6E880",
           "#FF97FF",
           "#FECB52"
          ],
          "font": {
           "color": "#2a3f5f"
          },
          "geo": {
           "bgcolor": "white",
           "lakecolor": "white",
           "landcolor": "#E5ECF6",
           "showlakes": true,
           "showland": true,
           "subunitcolor": "white"
          },
          "hoverlabel": {
           "align": "left"
          },
          "hovermode": "closest",
          "mapbox": {
           "style": "light"
          },
          "paper_bgcolor": "white",
          "plot_bgcolor": "#E5ECF6",
          "polar": {
           "angularaxis": {
            "gridcolor": "white",
            "linecolor": "white",
            "ticks": ""
           },
           "bgcolor": "#E5ECF6",
           "radialaxis": {
            "gridcolor": "white",
            "linecolor": "white",
            "ticks": ""
           }
          },
          "scene": {
           "xaxis": {
            "backgroundcolor": "#E5ECF6",
            "gridcolor": "white",
            "gridwidth": 2,
            "linecolor": "white",
            "showbackground": true,
            "ticks": "",
            "zerolinecolor": "white"
           },
           "yaxis": {
            "backgroundcolor": "#E5ECF6",
            "gridcolor": "white",
            "gridwidth": 2,
            "linecolor": "white",
            "showbackground": true,
            "ticks": "",
            "zerolinecolor": "white"
           },
           "zaxis": {
            "backgroundcolor": "#E5ECF6",
            "gridcolor": "white",
            "gridwidth": 2,
            "linecolor": "white",
            "showbackground": true,
            "ticks": "",
            "zerolinecolor": "white"
           }
          },
          "shapedefaults": {
           "line": {
            "color": "#2a3f5f"
           }
          },
          "ternary": {
           "aaxis": {
            "gridcolor": "white",
            "linecolor": "white",
            "ticks": ""
           },
           "baxis": {
            "gridcolor": "white",
            "linecolor": "white",
            "ticks": ""
           },
           "bgcolor": "#E5ECF6",
           "caxis": {
            "gridcolor": "white",
            "linecolor": "white",
            "ticks": ""
           }
          },
          "title": {
           "x": 0.05
          },
          "xaxis": {
           "automargin": true,
           "gridcolor": "white",
           "linecolor": "white",
           "ticks": "",
           "title": {
            "standoff": 15
           },
           "zerolinecolor": "white",
           "zerolinewidth": 2
          },
          "yaxis": {
           "automargin": true,
           "gridcolor": "white",
           "linecolor": "white",
           "ticks": "",
           "title": {
            "standoff": 15
           },
           "zerolinecolor": "white",
           "zerolinewidth": 2
          }
         }
        },
        "title": {
         "text": "Happiness Ranking Wolrd Map"
        }
       }
      }
     },
     "metadata": {},
     "output_type": "display_data"
    }
   ],
   "source": [
    "# lets create a map where we can visualize what we saw on the sunburn\n",
    "\n",
    "happy_world_map = px.choropleth(happy_region_df, locations=\"iso_alpha\",\n",
    "                color = \"rank\", scope=\"world\", title=\"Happiness Ranking Wolrd Map\",\n",
    "                color_continuous_scale=\"rdylgn_r\", hover_name=\"country\")\n",
    "\n",
    "happy_world_map.show()"
   ]
  },
  {
   "cell_type": "code",
   "execution_count": 42,
   "metadata": {},
   "outputs": [
    {
     "data": {
      "application/vnd.plotly.v1+json": {
       "config": {
        "plotlyServerURL": "https://plot.ly"
       },
       "data": [
        {
         "coloraxis": "coloraxis",
         "geo": "geo",
         "hovertemplate": "<b>%{hovertext}</b><br><br>iso_alpha=%{location}<br>gdp_per_capita=%{z}<extra></extra>",
         "hovertext": [
          "Finland",
          "Denmark",
          "Iceland",
          "Israel",
          "Netherlands",
          "Sweden",
          "Norway",
          "Switzerland",
          "Luxembourg",
          "New Zealand",
          "Austria",
          "Australia",
          "Canada",
          "Ireland",
          "United States",
          "Germany",
          "Belgium",
          "Czechia",
          "United Kingdom",
          "Lithuania",
          "France",
          "Slovenia",
          "Costa Rica",
          "Romania",
          "Singapore",
          "United Arab Emirates",
          "Taiwan Province of China",
          "Uruguay",
          "Slovakia",
          "Saudi Arabia",
          "Estonia",
          "Spain",
          "Italy",
          "Kosovo",
          "Chile",
          "Mexico",
          "Malta",
          "Panama",
          "Poland",
          "Nicaragua",
          "Latvia",
          "Bahrain",
          "Guatemala",
          "Kazakhstan",
          "Serbia",
          "Cyprus",
          "Japan",
          "Croatia",
          "Brazil",
          "El Salvador",
          "Hungary",
          "Argentina",
          "Honduras",
          "Uzbekistan",
          "Malaysia",
          "Portugal",
          "South Korea",
          "Greece",
          "Mauritius",
          "Thailand",
          "Mongolia",
          "Kyrgyzstan",
          "Moldova",
          "China",
          "Vietnam",
          "Paraguay",
          "Montenegro",
          "Jamaica",
          "Bolivia",
          "Russia",
          "Bosnia and Herzegovina",
          "Colombia",
          "Dominican Republic",
          "Ecuador",
          "Peru",
          "Philippines",
          "Bulgaria",
          "Nepal",
          "Armenia",
          "Tajikistan",
          "Algeria",
          "Hong Kong S.A.R. of China",
          "Albania",
          "Indonesia",
          "South Africa",
          "Congo (Brazzaville)",
          "North Macedonia",
          "Venezuela",
          "Laos",
          "Georgia",
          "Guinea",
          "Ukraine",
          "Ivory Coast",
          "Gabon",
          "Nigeria",
          "Cameroon",
          "Mozambique",
          "Iraq",
          "State of Palestine",
          "Morocco",
          "Iran",
          "Senegal",
          "Mauritania",
          "Burkina Faso",
          "Namibia",
          "Turkiye",
          "Ghana",
          "Pakistan",
          "Niger",
          "Tunisia",
          "Kenya",
          "Sri Lanka",
          "Uganda",
          "Chad",
          "Cambodia",
          "Benin",
          "Myanmar",
          "Bangladesh",
          "Gambia",
          "Mali",
          "Egypt",
          "Togo",
          "Jordan",
          "Ethiopia",
          "Liberia",
          "India",
          "Madagascar",
          "Zambia",
          "Tanzania",
          "Comoros",
          "Malawi",
          "Botswana",
          "Congo (Kinshasa)",
          "Zimbabwe",
          "Sierra Leone",
          "Lebanon",
          "Afghanistan"
         ],
         "locations": [
          "FIN",
          "DNK",
          "ISL",
          "ISR",
          "NLD",
          "SWE",
          "NOR",
          "CHE",
          "LUX",
          "NZL",
          "AUT",
          "AUS",
          "CAN",
          "IRL",
          "USA",
          "DEU",
          "BEL",
          "CZE",
          "GBR",
          "LTU",
          "FRA",
          "SVN",
          "CRI",
          "ROU",
          "SGP",
          "ARE",
          "TWN",
          "URY",
          "SVK",
          "SAU",
          "EST",
          "ESP",
          "ITA",
          "XXK",
          "CHL",
          "MEX",
          "MLT",
          "PAN",
          "POL",
          "NIC",
          "LVA",
          "BHR",
          "GTM",
          "KAZ",
          "SRB",
          "CYP",
          "JPN",
          "HRV",
          "BRA",
          "SLV",
          "HUN",
          "ARG",
          "HND",
          "UZB",
          "MYS",
          "PRT",
          "PRK",
          "GRC",
          "MUS",
          "THA",
          "MNG",
          "KGZ",
          "MDA",
          "CHN",
          "VNM",
          "PRY",
          "MNE",
          "JAM",
          "BOL",
          "RUS",
          "BIH",
          "COL",
          "DOM",
          "ECU",
          "PER",
          "PHL",
          "BGR",
          "NPL",
          "ARM",
          "TJK",
          "DZA",
          "HKG",
          "ALB",
          "IDN",
          "ZAF",
          "COG",
          "MKD",
          "VEN",
          "LAO",
          "GEO",
          "GIN",
          "UKR",
          "CIV",
          "GAB",
          "NGA",
          "CMR",
          "MOZ",
          "IRQ",
          "PSE",
          "MAR",
          "IRN",
          "SEN",
          "MRT",
          "BFA",
          "NAM",
          "TUR",
          "GHA",
          "PAK",
          "NER",
          "TUN",
          "KEN",
          "LKA",
          "UGA",
          "TCD",
          "KHM",
          "BEN",
          "MMR",
          "BGD",
          "GMB",
          "MLI",
          "EGY",
          "TGO",
          "JOR",
          "ETH",
          "LBR",
          "IND",
          "MDG",
          "ZMB",
          "TZA",
          "COM",
          "MWI",
          "BWA",
          "COD",
          "ZWE",
          "SLE",
          "LBN",
          "AFG"
         ],
         "name": "",
         "type": "choropleth",
         "z": [
          10.792,
          10.962,
          10.896,
          10.639,
          10.942,
          10.883,
          11.088,
          11.164,
          11.66,
          10.662,
          10.899,
          10.821,
          10.773,
          11.527,
          11.048,
          10.879,
          10.844,
          10.611,
          10.704,
          10.568,
          10.701,
          10.588,
          9.952,
          10.339,
          11.571,
          11.145,
          10.797,
          10.037,
          10.353,
          10.715,
          10.541,
          10.54,
          10.634,
          9.359,
          10.114,
          9.85,
          10.661,
          10.305,
          10.453,
          8.618,
          10.37,
          10.776,
          9.116,
          10.166,
          9.854,
          10.611,
          10.616,
          10.341,
          9.582,
          9.089,
          10.419,
          9.959,
          8.635,
          8.948,
          10.169,
          10.429,
          10.693,
          10.288,
          9.957,
          9.751,
          9.372,
          8.486,
          9.499,
          9.738,
          9.287,
          9.51,
          9.813,
          9.165,
          8.985,
          10.21,
          9.616,
          9.584,
          9.811,
          9.27,
          9.402,
          8.979,
          10.087,
          8.256,
          9.615,
          8.237,
          9.3,
          10.966,
          9.567,
          9.385,
          9.478,
          8.095,
          9.703,
          5.527,
          8.962,
          9.646,
          7.88,
          9.314,
          8.576,
          9.537,
          8.496,
          8.217,
          7.116,
          9.098,
          8.716,
          8.973,
          9.61,
          8.155,
          8.591,
          7.667,
          9.121,
          10.307,
          8.596,
          8.54,
          7.091,
          9.244,
          8.458,
          9.491,
          7.716,
          7.261,
          8.385,
          8.103,
          8.404,
          8.685,
          7.648,
          7.655,
          9.367,
          7.673,
          9.13,
          7.739,
          7.277,
          8.759,
          7.29,
          8.074,
          7.857,
          8.075,
          7.302,
          9.629,
          7.007,
          7.641,
          7.394,
          9.478,
          7.324
         ]
        }
       ],
       "layout": {
        "coloraxis": {
         "colorbar": {
          "title": {
           "text": "gdp_per_capita"
          }
         },
         "colorscale": [
          [
           0,
           "rgb(165,0,38)"
          ],
          [
           0.1,
           "rgb(215,48,39)"
          ],
          [
           0.2,
           "rgb(244,109,67)"
          ],
          [
           0.3,
           "rgb(253,174,97)"
          ],
          [
           0.4,
           "rgb(254,224,139)"
          ],
          [
           0.5,
           "rgb(255,255,191)"
          ],
          [
           0.6,
           "rgb(217,239,139)"
          ],
          [
           0.7,
           "rgb(166,217,106)"
          ],
          [
           0.8,
           "rgb(102,189,99)"
          ],
          [
           0.9,
           "rgb(26,152,80)"
          ],
          [
           1,
           "rgb(0,104,55)"
          ]
         ]
        },
        "geo": {
         "center": {},
         "domain": {
          "x": [
           0,
           1
          ],
          "y": [
           0,
           1
          ]
         },
         "scope": "world"
        },
        "legend": {
         "tracegroupgap": 0
        },
        "template": {
         "data": {
          "bar": [
           {
            "error_x": {
             "color": "#2a3f5f"
            },
            "error_y": {
             "color": "#2a3f5f"
            },
            "marker": {
             "line": {
              "color": "#E5ECF6",
              "width": 0.5
             },
             "pattern": {
              "fillmode": "overlay",
              "size": 10,
              "solidity": 0.2
             }
            },
            "type": "bar"
           }
          ],
          "barpolar": [
           {
            "marker": {
             "line": {
              "color": "#E5ECF6",
              "width": 0.5
             },
             "pattern": {
              "fillmode": "overlay",
              "size": 10,
              "solidity": 0.2
             }
            },
            "type": "barpolar"
           }
          ],
          "carpet": [
           {
            "aaxis": {
             "endlinecolor": "#2a3f5f",
             "gridcolor": "white",
             "linecolor": "white",
             "minorgridcolor": "white",
             "startlinecolor": "#2a3f5f"
            },
            "baxis": {
             "endlinecolor": "#2a3f5f",
             "gridcolor": "white",
             "linecolor": "white",
             "minorgridcolor": "white",
             "startlinecolor": "#2a3f5f"
            },
            "type": "carpet"
           }
          ],
          "choropleth": [
           {
            "colorbar": {
             "outlinewidth": 0,
             "ticks": ""
            },
            "type": "choropleth"
           }
          ],
          "contour": [
           {
            "colorbar": {
             "outlinewidth": 0,
             "ticks": ""
            },
            "colorscale": [
             [
              0,
              "#0d0887"
             ],
             [
              0.1111111111111111,
              "#46039f"
             ],
             [
              0.2222222222222222,
              "#7201a8"
             ],
             [
              0.3333333333333333,
              "#9c179e"
             ],
             [
              0.4444444444444444,
              "#bd3786"
             ],
             [
              0.5555555555555556,
              "#d8576b"
             ],
             [
              0.6666666666666666,
              "#ed7953"
             ],
             [
              0.7777777777777778,
              "#fb9f3a"
             ],
             [
              0.8888888888888888,
              "#fdca26"
             ],
             [
              1,
              "#f0f921"
             ]
            ],
            "type": "contour"
           }
          ],
          "contourcarpet": [
           {
            "colorbar": {
             "outlinewidth": 0,
             "ticks": ""
            },
            "type": "contourcarpet"
           }
          ],
          "heatmap": [
           {
            "colorbar": {
             "outlinewidth": 0,
             "ticks": ""
            },
            "colorscale": [
             [
              0,
              "#0d0887"
             ],
             [
              0.1111111111111111,
              "#46039f"
             ],
             [
              0.2222222222222222,
              "#7201a8"
             ],
             [
              0.3333333333333333,
              "#9c179e"
             ],
             [
              0.4444444444444444,
              "#bd3786"
             ],
             [
              0.5555555555555556,
              "#d8576b"
             ],
             [
              0.6666666666666666,
              "#ed7953"
             ],
             [
              0.7777777777777778,
              "#fb9f3a"
             ],
             [
              0.8888888888888888,
              "#fdca26"
             ],
             [
              1,
              "#f0f921"
             ]
            ],
            "type": "heatmap"
           }
          ],
          "heatmapgl": [
           {
            "colorbar": {
             "outlinewidth": 0,
             "ticks": ""
            },
            "colorscale": [
             [
              0,
              "#0d0887"
             ],
             [
              0.1111111111111111,
              "#46039f"
             ],
             [
              0.2222222222222222,
              "#7201a8"
             ],
             [
              0.3333333333333333,
              "#9c179e"
             ],
             [
              0.4444444444444444,
              "#bd3786"
             ],
             [
              0.5555555555555556,
              "#d8576b"
             ],
             [
              0.6666666666666666,
              "#ed7953"
             ],
             [
              0.7777777777777778,
              "#fb9f3a"
             ],
             [
              0.8888888888888888,
              "#fdca26"
             ],
             [
              1,
              "#f0f921"
             ]
            ],
            "type": "heatmapgl"
           }
          ],
          "histogram": [
           {
            "marker": {
             "pattern": {
              "fillmode": "overlay",
              "size": 10,
              "solidity": 0.2
             }
            },
            "type": "histogram"
           }
          ],
          "histogram2d": [
           {
            "colorbar": {
             "outlinewidth": 0,
             "ticks": ""
            },
            "colorscale": [
             [
              0,
              "#0d0887"
             ],
             [
              0.1111111111111111,
              "#46039f"
             ],
             [
              0.2222222222222222,
              "#7201a8"
             ],
             [
              0.3333333333333333,
              "#9c179e"
             ],
             [
              0.4444444444444444,
              "#bd3786"
             ],
             [
              0.5555555555555556,
              "#d8576b"
             ],
             [
              0.6666666666666666,
              "#ed7953"
             ],
             [
              0.7777777777777778,
              "#fb9f3a"
             ],
             [
              0.8888888888888888,
              "#fdca26"
             ],
             [
              1,
              "#f0f921"
             ]
            ],
            "type": "histogram2d"
           }
          ],
          "histogram2dcontour": [
           {
            "colorbar": {
             "outlinewidth": 0,
             "ticks": ""
            },
            "colorscale": [
             [
              0,
              "#0d0887"
             ],
             [
              0.1111111111111111,
              "#46039f"
             ],
             [
              0.2222222222222222,
              "#7201a8"
             ],
             [
              0.3333333333333333,
              "#9c179e"
             ],
             [
              0.4444444444444444,
              "#bd3786"
             ],
             [
              0.5555555555555556,
              "#d8576b"
             ],
             [
              0.6666666666666666,
              "#ed7953"
             ],
             [
              0.7777777777777778,
              "#fb9f3a"
             ],
             [
              0.8888888888888888,
              "#fdca26"
             ],
             [
              1,
              "#f0f921"
             ]
            ],
            "type": "histogram2dcontour"
           }
          ],
          "mesh3d": [
           {
            "colorbar": {
             "outlinewidth": 0,
             "ticks": ""
            },
            "type": "mesh3d"
           }
          ],
          "parcoords": [
           {
            "line": {
             "colorbar": {
              "outlinewidth": 0,
              "ticks": ""
             }
            },
            "type": "parcoords"
           }
          ],
          "pie": [
           {
            "automargin": true,
            "type": "pie"
           }
          ],
          "scatter": [
           {
            "fillpattern": {
             "fillmode": "overlay",
             "size": 10,
             "solidity": 0.2
            },
            "type": "scatter"
           }
          ],
          "scatter3d": [
           {
            "line": {
             "colorbar": {
              "outlinewidth": 0,
              "ticks": ""
             }
            },
            "marker": {
             "colorbar": {
              "outlinewidth": 0,
              "ticks": ""
             }
            },
            "type": "scatter3d"
           }
          ],
          "scattercarpet": [
           {
            "marker": {
             "colorbar": {
              "outlinewidth": 0,
              "ticks": ""
             }
            },
            "type": "scattercarpet"
           }
          ],
          "scattergeo": [
           {
            "marker": {
             "colorbar": {
              "outlinewidth": 0,
              "ticks": ""
             }
            },
            "type": "scattergeo"
           }
          ],
          "scattergl": [
           {
            "marker": {
             "colorbar": {
              "outlinewidth": 0,
              "ticks": ""
             }
            },
            "type": "scattergl"
           }
          ],
          "scattermapbox": [
           {
            "marker": {
             "colorbar": {
              "outlinewidth": 0,
              "ticks": ""
             }
            },
            "type": "scattermapbox"
           }
          ],
          "scatterpolar": [
           {
            "marker": {
             "colorbar": {
              "outlinewidth": 0,
              "ticks": ""
             }
            },
            "type": "scatterpolar"
           }
          ],
          "scatterpolargl": [
           {
            "marker": {
             "colorbar": {
              "outlinewidth": 0,
              "ticks": ""
             }
            },
            "type": "scatterpolargl"
           }
          ],
          "scatterternary": [
           {
            "marker": {
             "colorbar": {
              "outlinewidth": 0,
              "ticks": ""
             }
            },
            "type": "scatterternary"
           }
          ],
          "surface": [
           {
            "colorbar": {
             "outlinewidth": 0,
             "ticks": ""
            },
            "colorscale": [
             [
              0,
              "#0d0887"
             ],
             [
              0.1111111111111111,
              "#46039f"
             ],
             [
              0.2222222222222222,
              "#7201a8"
             ],
             [
              0.3333333333333333,
              "#9c179e"
             ],
             [
              0.4444444444444444,
              "#bd3786"
             ],
             [
              0.5555555555555556,
              "#d8576b"
             ],
             [
              0.6666666666666666,
              "#ed7953"
             ],
             [
              0.7777777777777778,
              "#fb9f3a"
             ],
             [
              0.8888888888888888,
              "#fdca26"
             ],
             [
              1,
              "#f0f921"
             ]
            ],
            "type": "surface"
           }
          ],
          "table": [
           {
            "cells": {
             "fill": {
              "color": "#EBF0F8"
             },
             "line": {
              "color": "white"
             }
            },
            "header": {
             "fill": {
              "color": "#C8D4E3"
             },
             "line": {
              "color": "white"
             }
            },
            "type": "table"
           }
          ]
         },
         "layout": {
          "annotationdefaults": {
           "arrowcolor": "#2a3f5f",
           "arrowhead": 0,
           "arrowwidth": 1
          },
          "autotypenumbers": "strict",
          "coloraxis": {
           "colorbar": {
            "outlinewidth": 0,
            "ticks": ""
           }
          },
          "colorscale": {
           "diverging": [
            [
             0,
             "#8e0152"
            ],
            [
             0.1,
             "#c51b7d"
            ],
            [
             0.2,
             "#de77ae"
            ],
            [
             0.3,
             "#f1b6da"
            ],
            [
             0.4,
             "#fde0ef"
            ],
            [
             0.5,
             "#f7f7f7"
            ],
            [
             0.6,
             "#e6f5d0"
            ],
            [
             0.7,
             "#b8e186"
            ],
            [
             0.8,
             "#7fbc41"
            ],
            [
             0.9,
             "#4d9221"
            ],
            [
             1,
             "#276419"
            ]
           ],
           "sequential": [
            [
             0,
             "#0d0887"
            ],
            [
             0.1111111111111111,
             "#46039f"
            ],
            [
             0.2222222222222222,
             "#7201a8"
            ],
            [
             0.3333333333333333,
             "#9c179e"
            ],
            [
             0.4444444444444444,
             "#bd3786"
            ],
            [
             0.5555555555555556,
             "#d8576b"
            ],
            [
             0.6666666666666666,
             "#ed7953"
            ],
            [
             0.7777777777777778,
             "#fb9f3a"
            ],
            [
             0.8888888888888888,
             "#fdca26"
            ],
            [
             1,
             "#f0f921"
            ]
           ],
           "sequentialminus": [
            [
             0,
             "#0d0887"
            ],
            [
             0.1111111111111111,
             "#46039f"
            ],
            [
             0.2222222222222222,
             "#7201a8"
            ],
            [
             0.3333333333333333,
             "#9c179e"
            ],
            [
             0.4444444444444444,
             "#bd3786"
            ],
            [
             0.5555555555555556,
             "#d8576b"
            ],
            [
             0.6666666666666666,
             "#ed7953"
            ],
            [
             0.7777777777777778,
             "#fb9f3a"
            ],
            [
             0.8888888888888888,
             "#fdca26"
            ],
            [
             1,
             "#f0f921"
            ]
           ]
          },
          "colorway": [
           "#636efa",
           "#EF553B",
           "#00cc96",
           "#ab63fa",
           "#FFA15A",
           "#19d3f3",
           "#FF6692",
           "#B6E880",
           "#FF97FF",
           "#FECB52"
          ],
          "font": {
           "color": "#2a3f5f"
          },
          "geo": {
           "bgcolor": "white",
           "lakecolor": "white",
           "landcolor": "#E5ECF6",
           "showlakes": true,
           "showland": true,
           "subunitcolor": "white"
          },
          "hoverlabel": {
           "align": "left"
          },
          "hovermode": "closest",
          "mapbox": {
           "style": "light"
          },
          "paper_bgcolor": "white",
          "plot_bgcolor": "#E5ECF6",
          "polar": {
           "angularaxis": {
            "gridcolor": "white",
            "linecolor": "white",
            "ticks": ""
           },
           "bgcolor": "#E5ECF6",
           "radialaxis": {
            "gridcolor": "white",
            "linecolor": "white",
            "ticks": ""
           }
          },
          "scene": {
           "xaxis": {
            "backgroundcolor": "#E5ECF6",
            "gridcolor": "white",
            "gridwidth": 2,
            "linecolor": "white",
            "showbackground": true,
            "ticks": "",
            "zerolinecolor": "white"
           },
           "yaxis": {
            "backgroundcolor": "#E5ECF6",
            "gridcolor": "white",
            "gridwidth": 2,
            "linecolor": "white",
            "showbackground": true,
            "ticks": "",
            "zerolinecolor": "white"
           },
           "zaxis": {
            "backgroundcolor": "#E5ECF6",
            "gridcolor": "white",
            "gridwidth": 2,
            "linecolor": "white",
            "showbackground": true,
            "ticks": "",
            "zerolinecolor": "white"
           }
          },
          "shapedefaults": {
           "line": {
            "color": "#2a3f5f"
           }
          },
          "ternary": {
           "aaxis": {
            "gridcolor": "white",
            "linecolor": "white",
            "ticks": ""
           },
           "baxis": {
            "gridcolor": "white",
            "linecolor": "white",
            "ticks": ""
           },
           "bgcolor": "#E5ECF6",
           "caxis": {
            "gridcolor": "white",
            "linecolor": "white",
            "ticks": ""
           }
          },
          "title": {
           "x": 0.05
          },
          "xaxis": {
           "automargin": true,
           "gridcolor": "white",
           "linecolor": "white",
           "ticks": "",
           "title": {
            "standoff": 15
           },
           "zerolinecolor": "white",
           "zerolinewidth": 2
          },
          "yaxis": {
           "automargin": true,
           "gridcolor": "white",
           "linecolor": "white",
           "ticks": "",
           "title": {
            "standoff": 15
           },
           "zerolinecolor": "white",
           "zerolinewidth": 2
          }
         }
        },
        "title": {
         "text": "GDP Ranking World Map"
        }
       }
      }
     },
     "metadata": {},
     "output_type": "display_data"
    }
   ],
   "source": [
    "# lets create a chart on GDP per capita on a global scale\n",
    "\n",
    "\n",
    "gdp_world_map = px.choropleth(happy_region_df, locations = \"iso_alpha\", \n",
    "              color = \"gdp_per_capita\", scope = 'world', title = \"GDP Ranking World Map\", \n",
    "              color_continuous_scale= \"rdylgn\", hover_name=\"country\")\n",
    "\n",
    "gdp_world_map.show()"
   ]
  },
  {
   "cell_type": "code",
   "execution_count": 43,
   "metadata": {},
   "outputs": [
    {
     "data": {
      "application/vnd.plotly.v1+json": {
       "config": {
        "plotlyServerURL": "https://plot.ly"
       },
       "data": [
        {
         "coloraxis": "coloraxis",
         "geo": "geo",
         "hovertemplate": "<b>%{hovertext}</b><br><br>iso_alpha=%{location}<br>generosity=%{z}<extra></extra>",
         "hovertext": [
          "Finland",
          "Denmark",
          "Iceland",
          "Israel",
          "Netherlands",
          "Sweden",
          "Norway",
          "Switzerland",
          "Luxembourg",
          "New Zealand",
          "Austria",
          "Australia",
          "Canada",
          "Ireland",
          "United States",
          "Germany",
          "Belgium",
          "Czechia",
          "United Kingdom",
          "Lithuania",
          "France",
          "Slovenia",
          "Costa Rica",
          "Romania",
          "Singapore",
          "United Arab Emirates",
          "Taiwan Province of China",
          "Uruguay",
          "Slovakia",
          "Saudi Arabia",
          "Estonia",
          "Spain",
          "Italy",
          "Kosovo",
          "Chile",
          "Mexico",
          "Malta",
          "Panama",
          "Poland",
          "Nicaragua",
          "Latvia",
          "Bahrain",
          "Guatemala",
          "Kazakhstan",
          "Serbia",
          "Cyprus",
          "Japan",
          "Croatia",
          "Brazil",
          "El Salvador",
          "Hungary",
          "Argentina",
          "Honduras",
          "Uzbekistan",
          "Malaysia",
          "Portugal",
          "South Korea",
          "Greece",
          "Mauritius",
          "Thailand",
          "Mongolia",
          "Kyrgyzstan",
          "Moldova",
          "China",
          "Vietnam",
          "Paraguay",
          "Montenegro",
          "Jamaica",
          "Bolivia",
          "Russia",
          "Bosnia and Herzegovina",
          "Colombia",
          "Dominican Republic",
          "Ecuador",
          "Peru",
          "Philippines",
          "Bulgaria",
          "Nepal",
          "Armenia",
          "Tajikistan",
          "Algeria",
          "Hong Kong S.A.R. of China",
          "Albania",
          "Indonesia",
          "South Africa",
          "Congo (Brazzaville)",
          "North Macedonia",
          "Venezuela",
          "Laos",
          "Georgia",
          "Guinea",
          "Ukraine",
          "Ivory Coast",
          "Gabon",
          "Nigeria",
          "Cameroon",
          "Mozambique",
          "Iraq",
          "State of Palestine",
          "Morocco",
          "Iran",
          "Senegal",
          "Mauritania",
          "Burkina Faso",
          "Namibia",
          "Turkiye",
          "Ghana",
          "Pakistan",
          "Niger",
          "Tunisia",
          "Kenya",
          "Sri Lanka",
          "Uganda",
          "Chad",
          "Cambodia",
          "Benin",
          "Myanmar",
          "Bangladesh",
          "Gambia",
          "Mali",
          "Egypt",
          "Togo",
          "Jordan",
          "Ethiopia",
          "Liberia",
          "India",
          "Madagascar",
          "Zambia",
          "Tanzania",
          "Comoros",
          "Malawi",
          "Botswana",
          "Congo (Kinshasa)",
          "Zimbabwe",
          "Sierra Leone",
          "Lebanon",
          "Afghanistan"
         ],
         "locations": [
          "FIN",
          "DNK",
          "ISL",
          "ISR",
          "NLD",
          "SWE",
          "NOR",
          "CHE",
          "LUX",
          "NZL",
          "AUT",
          "AUS",
          "CAN",
          "IRL",
          "USA",
          "DEU",
          "BEL",
          "CZE",
          "GBR",
          "LTU",
          "FRA",
          "SVN",
          "CRI",
          "ROU",
          "SGP",
          "ARE",
          "TWN",
          "URY",
          "SVK",
          "SAU",
          "EST",
          "ESP",
          "ITA",
          "XXK",
          "CHL",
          "MEX",
          "MLT",
          "PAN",
          "POL",
          "NIC",
          "LVA",
          "BHR",
          "GTM",
          "KAZ",
          "SRB",
          "CYP",
          "JPN",
          "HRV",
          "BRA",
          "SLV",
          "HUN",
          "ARG",
          "HND",
          "UZB",
          "MYS",
          "PRT",
          "PRK",
          "GRC",
          "MUS",
          "THA",
          "MNG",
          "KGZ",
          "MDA",
          "CHN",
          "VNM",
          "PRY",
          "MNE",
          "JAM",
          "BOL",
          "RUS",
          "BIH",
          "COL",
          "DOM",
          "ECU",
          "PER",
          "PHL",
          "BGR",
          "NPL",
          "ARM",
          "TJK",
          "DZA",
          "HKG",
          "ALB",
          "IDN",
          "ZAF",
          "COG",
          "MKD",
          "VEN",
          "LAO",
          "GEO",
          "GIN",
          "UKR",
          "CIV",
          "GAB",
          "NGA",
          "CMR",
          "MOZ",
          "IRQ",
          "PSE",
          "MAR",
          "IRN",
          "SEN",
          "MRT",
          "BFA",
          "NAM",
          "TUR",
          "GHA",
          "PAK",
          "NER",
          "TUN",
          "KEN",
          "LKA",
          "UGA",
          "TCD",
          "KHM",
          "BEN",
          "MMR",
          "BGD",
          "GMB",
          "MLI",
          "EGY",
          "TGO",
          "JOR",
          "ETH",
          "LBR",
          "IND",
          "MDG",
          "ZMB",
          "TZA",
          "COM",
          "MWI",
          "BWA",
          "COD",
          "ZWE",
          "SLE",
          "LBN",
          "AFG"
         ],
         "name": "",
         "type": "choropleth",
         "z": [
          -0.019,
          0.134,
          0.211,
          -0.023,
          0.213,
          0.165,
          0.141,
          0.027,
          0.024,
          0.175,
          0.102,
          0.198,
          0.153,
          0.092,
          0.137,
          0.03,
          0.001,
          0.04,
          0.253,
          -0.145,
          -0.1,
          0.014,
          -0.07,
          -0.172,
          0.063,
          0.096,
          -0.129,
          -0.065,
          -0.016,
          -0.081,
          0.032,
          -0.066,
          -0.074,
          0.259,
          -0.011,
          -0.094,
          0.119,
          -0.133,
          -0.031,
          0.021,
          -0.056,
          0.117,
          -0.057,
          0,
          0.204,
          -0.06,
          -0.237,
          -0.093,
          -0.009,
          -0.108,
          -0.059,
          -0.089,
          0.097,
          0.23,
          0.16,
          -0.196,
          -0.046,
          -0.24,
          -0.028,
          0.289,
          0.19,
          0.181,
          -0.08,
          -0.041,
          -0.004,
          0.021,
          0.063,
          -0.106,
          -0.063,
          -0.03,
          0.206,
          -0.104,
          -0.099,
          -0.108,
          -0.119,
          -0.06,
          -0.057,
          0.146,
          -0.155,
          -0.06,
          -0.117,
          -0.026,
          -0.007,
          0.531,
          -0.087,
          -0.004,
          0.131,
          0.128,
          0.091,
          -0.254,
          0.125,
          0.24,
          0.003,
          -0.187,
          0.073,
          0.015,
          0.047,
          -0.005,
          -0.132,
          -0.231,
          0.173,
          0.011,
          -0.013,
          0.095,
          -0.126,
          -0.077,
          0.139,
          0.008,
          0.032,
          -0.213,
          0.288,
          -0.03,
          0.114,
          0.221,
          0.073,
          -0.043,
          0.491,
          0.005,
          0.364,
          -0.028,
          -0.183,
          0.024,
          -0.15,
          0.273,
          0.154,
          0.072,
          0.075,
          0.098,
          0.182,
          -0.014,
          0.005,
          -0.215,
          0.086,
          -0.046,
          0.105,
          -0.141,
          -0.081
         ]
        }
       ],
       "layout": {
        "coloraxis": {
         "colorbar": {
          "title": {
           "text": "generosity"
          }
         },
         "colorscale": [
          [
           0,
           "rgb(165,0,38)"
          ],
          [
           0.1,
           "rgb(215,48,39)"
          ],
          [
           0.2,
           "rgb(244,109,67)"
          ],
          [
           0.3,
           "rgb(253,174,97)"
          ],
          [
           0.4,
           "rgb(254,224,139)"
          ],
          [
           0.5,
           "rgb(255,255,191)"
          ],
          [
           0.6,
           "rgb(217,239,139)"
          ],
          [
           0.7,
           "rgb(166,217,106)"
          ],
          [
           0.8,
           "rgb(102,189,99)"
          ],
          [
           0.9,
           "rgb(26,152,80)"
          ],
          [
           1,
           "rgb(0,104,55)"
          ]
         ]
        },
        "geo": {
         "center": {},
         "domain": {
          "x": [
           0,
           1
          ],
          "y": [
           0,
           1
          ]
         },
         "scope": "world"
        },
        "legend": {
         "tracegroupgap": 0
        },
        "template": {
         "data": {
          "bar": [
           {
            "error_x": {
             "color": "#2a3f5f"
            },
            "error_y": {
             "color": "#2a3f5f"
            },
            "marker": {
             "line": {
              "color": "#E5ECF6",
              "width": 0.5
             },
             "pattern": {
              "fillmode": "overlay",
              "size": 10,
              "solidity": 0.2
             }
            },
            "type": "bar"
           }
          ],
          "barpolar": [
           {
            "marker": {
             "line": {
              "color": "#E5ECF6",
              "width": 0.5
             },
             "pattern": {
              "fillmode": "overlay",
              "size": 10,
              "solidity": 0.2
             }
            },
            "type": "barpolar"
           }
          ],
          "carpet": [
           {
            "aaxis": {
             "endlinecolor": "#2a3f5f",
             "gridcolor": "white",
             "linecolor": "white",
             "minorgridcolor": "white",
             "startlinecolor": "#2a3f5f"
            },
            "baxis": {
             "endlinecolor": "#2a3f5f",
             "gridcolor": "white",
             "linecolor": "white",
             "minorgridcolor": "white",
             "startlinecolor": "#2a3f5f"
            },
            "type": "carpet"
           }
          ],
          "choropleth": [
           {
            "colorbar": {
             "outlinewidth": 0,
             "ticks": ""
            },
            "type": "choropleth"
           }
          ],
          "contour": [
           {
            "colorbar": {
             "outlinewidth": 0,
             "ticks": ""
            },
            "colorscale": [
             [
              0,
              "#0d0887"
             ],
             [
              0.1111111111111111,
              "#46039f"
             ],
             [
              0.2222222222222222,
              "#7201a8"
             ],
             [
              0.3333333333333333,
              "#9c179e"
             ],
             [
              0.4444444444444444,
              "#bd3786"
             ],
             [
              0.5555555555555556,
              "#d8576b"
             ],
             [
              0.6666666666666666,
              "#ed7953"
             ],
             [
              0.7777777777777778,
              "#fb9f3a"
             ],
             [
              0.8888888888888888,
              "#fdca26"
             ],
             [
              1,
              "#f0f921"
             ]
            ],
            "type": "contour"
           }
          ],
          "contourcarpet": [
           {
            "colorbar": {
             "outlinewidth": 0,
             "ticks": ""
            },
            "type": "contourcarpet"
           }
          ],
          "heatmap": [
           {
            "colorbar": {
             "outlinewidth": 0,
             "ticks": ""
            },
            "colorscale": [
             [
              0,
              "#0d0887"
             ],
             [
              0.1111111111111111,
              "#46039f"
             ],
             [
              0.2222222222222222,
              "#7201a8"
             ],
             [
              0.3333333333333333,
              "#9c179e"
             ],
             [
              0.4444444444444444,
              "#bd3786"
             ],
             [
              0.5555555555555556,
              "#d8576b"
             ],
             [
              0.6666666666666666,
              "#ed7953"
             ],
             [
              0.7777777777777778,
              "#fb9f3a"
             ],
             [
              0.8888888888888888,
              "#fdca26"
             ],
             [
              1,
              "#f0f921"
             ]
            ],
            "type": "heatmap"
           }
          ],
          "heatmapgl": [
           {
            "colorbar": {
             "outlinewidth": 0,
             "ticks": ""
            },
            "colorscale": [
             [
              0,
              "#0d0887"
             ],
             [
              0.1111111111111111,
              "#46039f"
             ],
             [
              0.2222222222222222,
              "#7201a8"
             ],
             [
              0.3333333333333333,
              "#9c179e"
             ],
             [
              0.4444444444444444,
              "#bd3786"
             ],
             [
              0.5555555555555556,
              "#d8576b"
             ],
             [
              0.6666666666666666,
              "#ed7953"
             ],
             [
              0.7777777777777778,
              "#fb9f3a"
             ],
             [
              0.8888888888888888,
              "#fdca26"
             ],
             [
              1,
              "#f0f921"
             ]
            ],
            "type": "heatmapgl"
           }
          ],
          "histogram": [
           {
            "marker": {
             "pattern": {
              "fillmode": "overlay",
              "size": 10,
              "solidity": 0.2
             }
            },
            "type": "histogram"
           }
          ],
          "histogram2d": [
           {
            "colorbar": {
             "outlinewidth": 0,
             "ticks": ""
            },
            "colorscale": [
             [
              0,
              "#0d0887"
             ],
             [
              0.1111111111111111,
              "#46039f"
             ],
             [
              0.2222222222222222,
              "#7201a8"
             ],
             [
              0.3333333333333333,
              "#9c179e"
             ],
             [
              0.4444444444444444,
              "#bd3786"
             ],
             [
              0.5555555555555556,
              "#d8576b"
             ],
             [
              0.6666666666666666,
              "#ed7953"
             ],
             [
              0.7777777777777778,
              "#fb9f3a"
             ],
             [
              0.8888888888888888,
              "#fdca26"
             ],
             [
              1,
              "#f0f921"
             ]
            ],
            "type": "histogram2d"
           }
          ],
          "histogram2dcontour": [
           {
            "colorbar": {
             "outlinewidth": 0,
             "ticks": ""
            },
            "colorscale": [
             [
              0,
              "#0d0887"
             ],
             [
              0.1111111111111111,
              "#46039f"
             ],
             [
              0.2222222222222222,
              "#7201a8"
             ],
             [
              0.3333333333333333,
              "#9c179e"
             ],
             [
              0.4444444444444444,
              "#bd3786"
             ],
             [
              0.5555555555555556,
              "#d8576b"
             ],
             [
              0.6666666666666666,
              "#ed7953"
             ],
             [
              0.7777777777777778,
              "#fb9f3a"
             ],
             [
              0.8888888888888888,
              "#fdca26"
             ],
             [
              1,
              "#f0f921"
             ]
            ],
            "type": "histogram2dcontour"
           }
          ],
          "mesh3d": [
           {
            "colorbar": {
             "outlinewidth": 0,
             "ticks": ""
            },
            "type": "mesh3d"
           }
          ],
          "parcoords": [
           {
            "line": {
             "colorbar": {
              "outlinewidth": 0,
              "ticks": ""
             }
            },
            "type": "parcoords"
           }
          ],
          "pie": [
           {
            "automargin": true,
            "type": "pie"
           }
          ],
          "scatter": [
           {
            "fillpattern": {
             "fillmode": "overlay",
             "size": 10,
             "solidity": 0.2
            },
            "type": "scatter"
           }
          ],
          "scatter3d": [
           {
            "line": {
             "colorbar": {
              "outlinewidth": 0,
              "ticks": ""
             }
            },
            "marker": {
             "colorbar": {
              "outlinewidth": 0,
              "ticks": ""
             }
            },
            "type": "scatter3d"
           }
          ],
          "scattercarpet": [
           {
            "marker": {
             "colorbar": {
              "outlinewidth": 0,
              "ticks": ""
             }
            },
            "type": "scattercarpet"
           }
          ],
          "scattergeo": [
           {
            "marker": {
             "colorbar": {
              "outlinewidth": 0,
              "ticks": ""
             }
            },
            "type": "scattergeo"
           }
          ],
          "scattergl": [
           {
            "marker": {
             "colorbar": {
              "outlinewidth": 0,
              "ticks": ""
             }
            },
            "type": "scattergl"
           }
          ],
          "scattermapbox": [
           {
            "marker": {
             "colorbar": {
              "outlinewidth": 0,
              "ticks": ""
             }
            },
            "type": "scattermapbox"
           }
          ],
          "scatterpolar": [
           {
            "marker": {
             "colorbar": {
              "outlinewidth": 0,
              "ticks": ""
             }
            },
            "type": "scatterpolar"
           }
          ],
          "scatterpolargl": [
           {
            "marker": {
             "colorbar": {
              "outlinewidth": 0,
              "ticks": ""
             }
            },
            "type": "scatterpolargl"
           }
          ],
          "scatterternary": [
           {
            "marker": {
             "colorbar": {
              "outlinewidth": 0,
              "ticks": ""
             }
            },
            "type": "scatterternary"
           }
          ],
          "surface": [
           {
            "colorbar": {
             "outlinewidth": 0,
             "ticks": ""
            },
            "colorscale": [
             [
              0,
              "#0d0887"
             ],
             [
              0.1111111111111111,
              "#46039f"
             ],
             [
              0.2222222222222222,
              "#7201a8"
             ],
             [
              0.3333333333333333,
              "#9c179e"
             ],
             [
              0.4444444444444444,
              "#bd3786"
             ],
             [
              0.5555555555555556,
              "#d8576b"
             ],
             [
              0.6666666666666666,
              "#ed7953"
             ],
             [
              0.7777777777777778,
              "#fb9f3a"
             ],
             [
              0.8888888888888888,
              "#fdca26"
             ],
             [
              1,
              "#f0f921"
             ]
            ],
            "type": "surface"
           }
          ],
          "table": [
           {
            "cells": {
             "fill": {
              "color": "#EBF0F8"
             },
             "line": {
              "color": "white"
             }
            },
            "header": {
             "fill": {
              "color": "#C8D4E3"
             },
             "line": {
              "color": "white"
             }
            },
            "type": "table"
           }
          ]
         },
         "layout": {
          "annotationdefaults": {
           "arrowcolor": "#2a3f5f",
           "arrowhead": 0,
           "arrowwidth": 1
          },
          "autotypenumbers": "strict",
          "coloraxis": {
           "colorbar": {
            "outlinewidth": 0,
            "ticks": ""
           }
          },
          "colorscale": {
           "diverging": [
            [
             0,
             "#8e0152"
            ],
            [
             0.1,
             "#c51b7d"
            ],
            [
             0.2,
             "#de77ae"
            ],
            [
             0.3,
             "#f1b6da"
            ],
            [
             0.4,
             "#fde0ef"
            ],
            [
             0.5,
             "#f7f7f7"
            ],
            [
             0.6,
             "#e6f5d0"
            ],
            [
             0.7,
             "#b8e186"
            ],
            [
             0.8,
             "#7fbc41"
            ],
            [
             0.9,
             "#4d9221"
            ],
            [
             1,
             "#276419"
            ]
           ],
           "sequential": [
            [
             0,
             "#0d0887"
            ],
            [
             0.1111111111111111,
             "#46039f"
            ],
            [
             0.2222222222222222,
             "#7201a8"
            ],
            [
             0.3333333333333333,
             "#9c179e"
            ],
            [
             0.4444444444444444,
             "#bd3786"
            ],
            [
             0.5555555555555556,
             "#d8576b"
            ],
            [
             0.6666666666666666,
             "#ed7953"
            ],
            [
             0.7777777777777778,
             "#fb9f3a"
            ],
            [
             0.8888888888888888,
             "#fdca26"
            ],
            [
             1,
             "#f0f921"
            ]
           ],
           "sequentialminus": [
            [
             0,
             "#0d0887"
            ],
            [
             0.1111111111111111,
             "#46039f"
            ],
            [
             0.2222222222222222,
             "#7201a8"
            ],
            [
             0.3333333333333333,
             "#9c179e"
            ],
            [
             0.4444444444444444,
             "#bd3786"
            ],
            [
             0.5555555555555556,
             "#d8576b"
            ],
            [
             0.6666666666666666,
             "#ed7953"
            ],
            [
             0.7777777777777778,
             "#fb9f3a"
            ],
            [
             0.8888888888888888,
             "#fdca26"
            ],
            [
             1,
             "#f0f921"
            ]
           ]
          },
          "colorway": [
           "#636efa",
           "#EF553B",
           "#00cc96",
           "#ab63fa",
           "#FFA15A",
           "#19d3f3",
           "#FF6692",
           "#B6E880",
           "#FF97FF",
           "#FECB52"
          ],
          "font": {
           "color": "#2a3f5f"
          },
          "geo": {
           "bgcolor": "white",
           "lakecolor": "white",
           "landcolor": "#E5ECF6",
           "showlakes": true,
           "showland": true,
           "subunitcolor": "white"
          },
          "hoverlabel": {
           "align": "left"
          },
          "hovermode": "closest",
          "mapbox": {
           "style": "light"
          },
          "paper_bgcolor": "white",
          "plot_bgcolor": "#E5ECF6",
          "polar": {
           "angularaxis": {
            "gridcolor": "white",
            "linecolor": "white",
            "ticks": ""
           },
           "bgcolor": "#E5ECF6",
           "radialaxis": {
            "gridcolor": "white",
            "linecolor": "white",
            "ticks": ""
           }
          },
          "scene": {
           "xaxis": {
            "backgroundcolor": "#E5ECF6",
            "gridcolor": "white",
            "gridwidth": 2,
            "linecolor": "white",
            "showbackground": true,
            "ticks": "",
            "zerolinecolor": "white"
           },
           "yaxis": {
            "backgroundcolor": "#E5ECF6",
            "gridcolor": "white",
            "gridwidth": 2,
            "linecolor": "white",
            "showbackground": true,
            "ticks": "",
            "zerolinecolor": "white"
           },
           "zaxis": {
            "backgroundcolor": "#E5ECF6",
            "gridcolor": "white",
            "gridwidth": 2,
            "linecolor": "white",
            "showbackground": true,
            "ticks": "",
            "zerolinecolor": "white"
           }
          },
          "shapedefaults": {
           "line": {
            "color": "#2a3f5f"
           }
          },
          "ternary": {
           "aaxis": {
            "gridcolor": "white",
            "linecolor": "white",
            "ticks": ""
           },
           "baxis": {
            "gridcolor": "white",
            "linecolor": "white",
            "ticks": ""
           },
           "bgcolor": "#E5ECF6",
           "caxis": {
            "gridcolor": "white",
            "linecolor": "white",
            "ticks": ""
           }
          },
          "title": {
           "x": 0.05
          },
          "xaxis": {
           "automargin": true,
           "gridcolor": "white",
           "linecolor": "white",
           "ticks": "",
           "title": {
            "standoff": 15
           },
           "zerolinecolor": "white",
           "zerolinewidth": 2
          },
          "yaxis": {
           "automargin": true,
           "gridcolor": "white",
           "linecolor": "white",
           "ticks": "",
           "title": {
            "standoff": 15
           },
           "zerolinecolor": "white",
           "zerolinewidth": 2
          }
         }
        },
        "title": {
         "text": "Generosity World Map"
        }
       }
      }
     },
     "metadata": {},
     "output_type": "display_data"
    }
   ],
   "source": [
    "# lets do another map for generosity\n",
    "\n",
    "generosity_world_map = px.choropleth(happy_region_df, locations = \"iso_alpha\", \n",
    "              color = \"generosity\", scope = 'world', title = \"Generosity World Map\", \n",
    "              color_continuous_scale= \"rdylgn\", hover_name=\"country\")\n",
    "\n",
    "generosity_world_map.show()"
   ]
  },
  {
   "cell_type": "code",
   "execution_count": 45,
   "metadata": {},
   "outputs": [
    {
     "data": {
      "application/vnd.plotly.v1+json": {
       "config": {
        "plotlyServerURL": "https://plot.ly"
       },
       "data": [
        {
         "coloraxis": "coloraxis",
         "geo": "geo",
         "hovertemplate": "<b>%{hovertext}</b><br><br>iso_alpha=%{location}<br>perceptions_of_corruption=%{z}<extra></extra>",
         "hovertext": [
          "Finland",
          "Denmark",
          "Iceland",
          "Israel",
          "Netherlands",
          "Sweden",
          "Norway",
          "Switzerland",
          "Luxembourg",
          "New Zealand",
          "Austria",
          "Australia",
          "Canada",
          "Ireland",
          "United States",
          "Germany",
          "Belgium",
          "Czechia",
          "United Kingdom",
          "Lithuania",
          "France",
          "Slovenia",
          "Costa Rica",
          "Romania",
          "Singapore",
          "United Arab Emirates",
          "Taiwan Province of China",
          "Uruguay",
          "Slovakia",
          "Saudi Arabia",
          "Estonia",
          "Spain",
          "Italy",
          "Kosovo",
          "Chile",
          "Mexico",
          "Malta",
          "Panama",
          "Poland",
          "Nicaragua",
          "Latvia",
          "Bahrain",
          "Guatemala",
          "Kazakhstan",
          "Serbia",
          "Cyprus",
          "Japan",
          "Croatia",
          "Brazil",
          "El Salvador",
          "Hungary",
          "Argentina",
          "Honduras",
          "Uzbekistan",
          "Malaysia",
          "Portugal",
          "South Korea",
          "Greece",
          "Mauritius",
          "Thailand",
          "Mongolia",
          "Kyrgyzstan",
          "Moldova",
          "China",
          "Vietnam",
          "Paraguay",
          "Montenegro",
          "Jamaica",
          "Bolivia",
          "Russia",
          "Bosnia and Herzegovina",
          "Colombia",
          "Dominican Republic",
          "Ecuador",
          "Peru",
          "Philippines",
          "Bulgaria",
          "Nepal",
          "Armenia",
          "Tajikistan",
          "Algeria",
          "Hong Kong S.A.R. of China",
          "Albania",
          "Indonesia",
          "South Africa",
          "Congo (Brazzaville)",
          "North Macedonia",
          "Venezuela",
          "Laos",
          "Georgia",
          "Guinea",
          "Ukraine",
          "Ivory Coast",
          "Gabon",
          "Nigeria",
          "Cameroon",
          "Mozambique",
          "Iraq",
          "State of Palestine",
          "Morocco",
          "Iran",
          "Senegal",
          "Mauritania",
          "Burkina Faso",
          "Namibia",
          "Turkiye",
          "Ghana",
          "Pakistan",
          "Niger",
          "Tunisia",
          "Kenya",
          "Sri Lanka",
          "Uganda",
          "Chad",
          "Cambodia",
          "Benin",
          "Myanmar",
          "Bangladesh",
          "Gambia",
          "Mali",
          "Egypt",
          "Togo",
          "Jordan",
          "Ethiopia",
          "Liberia",
          "India",
          "Madagascar",
          "Zambia",
          "Tanzania",
          "Comoros",
          "Malawi",
          "Botswana",
          "Congo (Kinshasa)",
          "Zimbabwe",
          "Sierra Leone",
          "Lebanon",
          "Afghanistan"
         ],
         "locations": [
          "FIN",
          "DNK",
          "ISL",
          "ISR",
          "NLD",
          "SWE",
          "NOR",
          "CHE",
          "LUX",
          "NZL",
          "AUT",
          "AUS",
          "CAN",
          "IRL",
          "USA",
          "DEU",
          "BEL",
          "CZE",
          "GBR",
          "LTU",
          "FRA",
          "SVN",
          "CRI",
          "ROU",
          "SGP",
          "ARE",
          "TWN",
          "URY",
          "SVK",
          "SAU",
          "EST",
          "ESP",
          "ITA",
          "XXK",
          "CHL",
          "MEX",
          "MLT",
          "PAN",
          "POL",
          "NIC",
          "LVA",
          "BHR",
          "GTM",
          "KAZ",
          "SRB",
          "CYP",
          "JPN",
          "HRV",
          "BRA",
          "SLV",
          "HUN",
          "ARG",
          "HND",
          "UZB",
          "MYS",
          "PRT",
          "PRK",
          "GRC",
          "MUS",
          "THA",
          "MNG",
          "KGZ",
          "MDA",
          "CHN",
          "VNM",
          "PRY",
          "MNE",
          "JAM",
          "BOL",
          "RUS",
          "BIH",
          "COL",
          "DOM",
          "ECU",
          "PER",
          "PHL",
          "BGR",
          "NPL",
          "ARM",
          "TJK",
          "DZA",
          "HKG",
          "ALB",
          "IDN",
          "ZAF",
          "COG",
          "MKD",
          "VEN",
          "LAO",
          "GEO",
          "GIN",
          "UKR",
          "CIV",
          "GAB",
          "NGA",
          "CMR",
          "MOZ",
          "IRQ",
          "PSE",
          "MAR",
          "IRN",
          "SEN",
          "MRT",
          "BFA",
          "NAM",
          "TUR",
          "GHA",
          "PAK",
          "NER",
          "TUN",
          "KEN",
          "LKA",
          "UGA",
          "TCD",
          "KHM",
          "BEN",
          "MMR",
          "BGD",
          "GMB",
          "MLI",
          "EGY",
          "TGO",
          "JOR",
          "ETH",
          "LBR",
          "IND",
          "MDG",
          "ZMB",
          "TZA",
          "COM",
          "MWI",
          "BWA",
          "COD",
          "ZWE",
          "SLE",
          "LBN",
          "AFG"
         ],
         "name": "",
         "type": "choropleth",
         "z": [
          0.182,
          0.196,
          0.668,
          0.708,
          0.379,
          0.202,
          0.283,
          0.266,
          0.345,
          0.271,
          0.497,
          0.496,
          0.42,
          0.358,
          0.689,
          0.42,
          0.549,
          0.859,
          0.454,
          0.805,
          0.553,
          0.771,
          0.768,
          0.929,
          0.146,
          0.584,
          0.681,
          0.575,
          0.898,
          0.691,
          0.409,
          0.711,
          0.842,
          0.866,
          0.823,
          0.768,
          0.729,
          0.878,
          0.736,
          0.625,
          0.83,
          0.737,
          0.837,
          0.721,
          0.816,
          0.86,
          0.64,
          0.925,
          0.738,
          0.62,
          0.839,
          0.814,
          0.843,
          0.638,
          0.758,
          0.878,
          0.701,
          0.793,
          0.775,
          0.91,
          0.849,
          0.904,
          0.901,
          0.727,
          0.759,
          0.843,
          0.844,
          0.875,
          0.846,
          0.801,
          0.918,
          0.834,
          0.657,
          0.833,
          0.892,
          0.732,
          0.911,
          0.783,
          0.705,
          0.522,
          0.717,
          0.385,
          0.878,
          0.876,
          0.902,
          0.739,
          0.902,
          0.811,
          0.703,
          0.649,
          0.787,
          0.907,
          0.746,
          0.786,
          0.911,
          0.846,
          0.66,
          0.876,
          0.836,
          0.811,
          0.747,
          0.846,
          0.657,
          0.771,
          0.83,
          0.795,
          0.881,
          0.787,
          0.734,
          0.907,
          0.852,
          0.808,
          0.857,
          0.807,
          0.857,
          0.576,
          0.658,
          0.698,
          0.883,
          0.846,
          0.58,
          0.74,
          0.687,
          0.789,
          0.83,
          0.774,
          0.742,
          0.818,
          0.554,
          0.727,
          0.749,
          0.83,
          0.834,
          0.766,
          0.858,
          0.891,
          0.847
         ]
        }
       ],
       "layout": {
        "coloraxis": {
         "colorbar": {
          "title": {
           "text": "perceptions_of_corruption"
          }
         },
         "colorscale": [
          [
           0,
           "rgb(0,104,55)"
          ],
          [
           0.1,
           "rgb(26,152,80)"
          ],
          [
           0.2,
           "rgb(102,189,99)"
          ],
          [
           0.3,
           "rgb(166,217,106)"
          ],
          [
           0.4,
           "rgb(217,239,139)"
          ],
          [
           0.5,
           "rgb(255,255,191)"
          ],
          [
           0.6,
           "rgb(254,224,139)"
          ],
          [
           0.7,
           "rgb(253,174,97)"
          ],
          [
           0.8,
           "rgb(244,109,67)"
          ],
          [
           0.9,
           "rgb(215,48,39)"
          ],
          [
           1,
           "rgb(165,0,38)"
          ]
         ]
        },
        "geo": {
         "center": {},
         "domain": {
          "x": [
           0,
           1
          ],
          "y": [
           0,
           1
          ]
         },
         "scope": "world"
        },
        "legend": {
         "tracegroupgap": 0
        },
        "template": {
         "data": {
          "bar": [
           {
            "error_x": {
             "color": "#2a3f5f"
            },
            "error_y": {
             "color": "#2a3f5f"
            },
            "marker": {
             "line": {
              "color": "#E5ECF6",
              "width": 0.5
             },
             "pattern": {
              "fillmode": "overlay",
              "size": 10,
              "solidity": 0.2
             }
            },
            "type": "bar"
           }
          ],
          "barpolar": [
           {
            "marker": {
             "line": {
              "color": "#E5ECF6",
              "width": 0.5
             },
             "pattern": {
              "fillmode": "overlay",
              "size": 10,
              "solidity": 0.2
             }
            },
            "type": "barpolar"
           }
          ],
          "carpet": [
           {
            "aaxis": {
             "endlinecolor": "#2a3f5f",
             "gridcolor": "white",
             "linecolor": "white",
             "minorgridcolor": "white",
             "startlinecolor": "#2a3f5f"
            },
            "baxis": {
             "endlinecolor": "#2a3f5f",
             "gridcolor": "white",
             "linecolor": "white",
             "minorgridcolor": "white",
             "startlinecolor": "#2a3f5f"
            },
            "type": "carpet"
           }
          ],
          "choropleth": [
           {
            "colorbar": {
             "outlinewidth": 0,
             "ticks": ""
            },
            "type": "choropleth"
           }
          ],
          "contour": [
           {
            "colorbar": {
             "outlinewidth": 0,
             "ticks": ""
            },
            "colorscale": [
             [
              0,
              "#0d0887"
             ],
             [
              0.1111111111111111,
              "#46039f"
             ],
             [
              0.2222222222222222,
              "#7201a8"
             ],
             [
              0.3333333333333333,
              "#9c179e"
             ],
             [
              0.4444444444444444,
              "#bd3786"
             ],
             [
              0.5555555555555556,
              "#d8576b"
             ],
             [
              0.6666666666666666,
              "#ed7953"
             ],
             [
              0.7777777777777778,
              "#fb9f3a"
             ],
             [
              0.8888888888888888,
              "#fdca26"
             ],
             [
              1,
              "#f0f921"
             ]
            ],
            "type": "contour"
           }
          ],
          "contourcarpet": [
           {
            "colorbar": {
             "outlinewidth": 0,
             "ticks": ""
            },
            "type": "contourcarpet"
           }
          ],
          "heatmap": [
           {
            "colorbar": {
             "outlinewidth": 0,
             "ticks": ""
            },
            "colorscale": [
             [
              0,
              "#0d0887"
             ],
             [
              0.1111111111111111,
              "#46039f"
             ],
             [
              0.2222222222222222,
              "#7201a8"
             ],
             [
              0.3333333333333333,
              "#9c179e"
             ],
             [
              0.4444444444444444,
              "#bd3786"
             ],
             [
              0.5555555555555556,
              "#d8576b"
             ],
             [
              0.6666666666666666,
              "#ed7953"
             ],
             [
              0.7777777777777778,
              "#fb9f3a"
             ],
             [
              0.8888888888888888,
              "#fdca26"
             ],
             [
              1,
              "#f0f921"
             ]
            ],
            "type": "heatmap"
           }
          ],
          "heatmapgl": [
           {
            "colorbar": {
             "outlinewidth": 0,
             "ticks": ""
            },
            "colorscale": [
             [
              0,
              "#0d0887"
             ],
             [
              0.1111111111111111,
              "#46039f"
             ],
             [
              0.2222222222222222,
              "#7201a8"
             ],
             [
              0.3333333333333333,
              "#9c179e"
             ],
             [
              0.4444444444444444,
              "#bd3786"
             ],
             [
              0.5555555555555556,
              "#d8576b"
             ],
             [
              0.6666666666666666,
              "#ed7953"
             ],
             [
              0.7777777777777778,
              "#fb9f3a"
             ],
             [
              0.8888888888888888,
              "#fdca26"
             ],
             [
              1,
              "#f0f921"
             ]
            ],
            "type": "heatmapgl"
           }
          ],
          "histogram": [
           {
            "marker": {
             "pattern": {
              "fillmode": "overlay",
              "size": 10,
              "solidity": 0.2
             }
            },
            "type": "histogram"
           }
          ],
          "histogram2d": [
           {
            "colorbar": {
             "outlinewidth": 0,
             "ticks": ""
            },
            "colorscale": [
             [
              0,
              "#0d0887"
             ],
             [
              0.1111111111111111,
              "#46039f"
             ],
             [
              0.2222222222222222,
              "#7201a8"
             ],
             [
              0.3333333333333333,
              "#9c179e"
             ],
             [
              0.4444444444444444,
              "#bd3786"
             ],
             [
              0.5555555555555556,
              "#d8576b"
             ],
             [
              0.6666666666666666,
              "#ed7953"
             ],
             [
              0.7777777777777778,
              "#fb9f3a"
             ],
             [
              0.8888888888888888,
              "#fdca26"
             ],
             [
              1,
              "#f0f921"
             ]
            ],
            "type": "histogram2d"
           }
          ],
          "histogram2dcontour": [
           {
            "colorbar": {
             "outlinewidth": 0,
             "ticks": ""
            },
            "colorscale": [
             [
              0,
              "#0d0887"
             ],
             [
              0.1111111111111111,
              "#46039f"
             ],
             [
              0.2222222222222222,
              "#7201a8"
             ],
             [
              0.3333333333333333,
              "#9c179e"
             ],
             [
              0.4444444444444444,
              "#bd3786"
             ],
             [
              0.5555555555555556,
              "#d8576b"
             ],
             [
              0.6666666666666666,
              "#ed7953"
             ],
             [
              0.7777777777777778,
              "#fb9f3a"
             ],
             [
              0.8888888888888888,
              "#fdca26"
             ],
             [
              1,
              "#f0f921"
             ]
            ],
            "type": "histogram2dcontour"
           }
          ],
          "mesh3d": [
           {
            "colorbar": {
             "outlinewidth": 0,
             "ticks": ""
            },
            "type": "mesh3d"
           }
          ],
          "parcoords": [
           {
            "line": {
             "colorbar": {
              "outlinewidth": 0,
              "ticks": ""
             }
            },
            "type": "parcoords"
           }
          ],
          "pie": [
           {
            "automargin": true,
            "type": "pie"
           }
          ],
          "scatter": [
           {
            "fillpattern": {
             "fillmode": "overlay",
             "size": 10,
             "solidity": 0.2
            },
            "type": "scatter"
           }
          ],
          "scatter3d": [
           {
            "line": {
             "colorbar": {
              "outlinewidth": 0,
              "ticks": ""
             }
            },
            "marker": {
             "colorbar": {
              "outlinewidth": 0,
              "ticks": ""
             }
            },
            "type": "scatter3d"
           }
          ],
          "scattercarpet": [
           {
            "marker": {
             "colorbar": {
              "outlinewidth": 0,
              "ticks": ""
             }
            },
            "type": "scattercarpet"
           }
          ],
          "scattergeo": [
           {
            "marker": {
             "colorbar": {
              "outlinewidth": 0,
              "ticks": ""
             }
            },
            "type": "scattergeo"
           }
          ],
          "scattergl": [
           {
            "marker": {
             "colorbar": {
              "outlinewidth": 0,
              "ticks": ""
             }
            },
            "type": "scattergl"
           }
          ],
          "scattermapbox": [
           {
            "marker": {
             "colorbar": {
              "outlinewidth": 0,
              "ticks": ""
             }
            },
            "type": "scattermapbox"
           }
          ],
          "scatterpolar": [
           {
            "marker": {
             "colorbar": {
              "outlinewidth": 0,
              "ticks": ""
             }
            },
            "type": "scatterpolar"
           }
          ],
          "scatterpolargl": [
           {
            "marker": {
             "colorbar": {
              "outlinewidth": 0,
              "ticks": ""
             }
            },
            "type": "scatterpolargl"
           }
          ],
          "scatterternary": [
           {
            "marker": {
             "colorbar": {
              "outlinewidth": 0,
              "ticks": ""
             }
            },
            "type": "scatterternary"
           }
          ],
          "surface": [
           {
            "colorbar": {
             "outlinewidth": 0,
             "ticks": ""
            },
            "colorscale": [
             [
              0,
              "#0d0887"
             ],
             [
              0.1111111111111111,
              "#46039f"
             ],
             [
              0.2222222222222222,
              "#7201a8"
             ],
             [
              0.3333333333333333,
              "#9c179e"
             ],
             [
              0.4444444444444444,
              "#bd3786"
             ],
             [
              0.5555555555555556,
              "#d8576b"
             ],
             [
              0.6666666666666666,
              "#ed7953"
             ],
             [
              0.7777777777777778,
              "#fb9f3a"
             ],
             [
              0.8888888888888888,
              "#fdca26"
             ],
             [
              1,
              "#f0f921"
             ]
            ],
            "type": "surface"
           }
          ],
          "table": [
           {
            "cells": {
             "fill": {
              "color": "#EBF0F8"
             },
             "line": {
              "color": "white"
             }
            },
            "header": {
             "fill": {
              "color": "#C8D4E3"
             },
             "line": {
              "color": "white"
             }
            },
            "type": "table"
           }
          ]
         },
         "layout": {
          "annotationdefaults": {
           "arrowcolor": "#2a3f5f",
           "arrowhead": 0,
           "arrowwidth": 1
          },
          "autotypenumbers": "strict",
          "coloraxis": {
           "colorbar": {
            "outlinewidth": 0,
            "ticks": ""
           }
          },
          "colorscale": {
           "diverging": [
            [
             0,
             "#8e0152"
            ],
            [
             0.1,
             "#c51b7d"
            ],
            [
             0.2,
             "#de77ae"
            ],
            [
             0.3,
             "#f1b6da"
            ],
            [
             0.4,
             "#fde0ef"
            ],
            [
             0.5,
             "#f7f7f7"
            ],
            [
             0.6,
             "#e6f5d0"
            ],
            [
             0.7,
             "#b8e186"
            ],
            [
             0.8,
             "#7fbc41"
            ],
            [
             0.9,
             "#4d9221"
            ],
            [
             1,
             "#276419"
            ]
           ],
           "sequential": [
            [
             0,
             "#0d0887"
            ],
            [
             0.1111111111111111,
             "#46039f"
            ],
            [
             0.2222222222222222,
             "#7201a8"
            ],
            [
             0.3333333333333333,
             "#9c179e"
            ],
            [
             0.4444444444444444,
             "#bd3786"
            ],
            [
             0.5555555555555556,
             "#d8576b"
            ],
            [
             0.6666666666666666,
             "#ed7953"
            ],
            [
             0.7777777777777778,
             "#fb9f3a"
            ],
            [
             0.8888888888888888,
             "#fdca26"
            ],
            [
             1,
             "#f0f921"
            ]
           ],
           "sequentialminus": [
            [
             0,
             "#0d0887"
            ],
            [
             0.1111111111111111,
             "#46039f"
            ],
            [
             0.2222222222222222,
             "#7201a8"
            ],
            [
             0.3333333333333333,
             "#9c179e"
            ],
            [
             0.4444444444444444,
             "#bd3786"
            ],
            [
             0.5555555555555556,
             "#d8576b"
            ],
            [
             0.6666666666666666,
             "#ed7953"
            ],
            [
             0.7777777777777778,
             "#fb9f3a"
            ],
            [
             0.8888888888888888,
             "#fdca26"
            ],
            [
             1,
             "#f0f921"
            ]
           ]
          },
          "colorway": [
           "#636efa",
           "#EF553B",
           "#00cc96",
           "#ab63fa",
           "#FFA15A",
           "#19d3f3",
           "#FF6692",
           "#B6E880",
           "#FF97FF",
           "#FECB52"
          ],
          "font": {
           "color": "#2a3f5f"
          },
          "geo": {
           "bgcolor": "white",
           "lakecolor": "white",
           "landcolor": "#E5ECF6",
           "showlakes": true,
           "showland": true,
           "subunitcolor": "white"
          },
          "hoverlabel": {
           "align": "left"
          },
          "hovermode": "closest",
          "mapbox": {
           "style": "light"
          },
          "paper_bgcolor": "white",
          "plot_bgcolor": "#E5ECF6",
          "polar": {
           "angularaxis": {
            "gridcolor": "white",
            "linecolor": "white",
            "ticks": ""
           },
           "bgcolor": "#E5ECF6",
           "radialaxis": {
            "gridcolor": "white",
            "linecolor": "white",
            "ticks": ""
           }
          },
          "scene": {
           "xaxis": {
            "backgroundcolor": "#E5ECF6",
            "gridcolor": "white",
            "gridwidth": 2,
            "linecolor": "white",
            "showbackground": true,
            "ticks": "",
            "zerolinecolor": "white"
           },
           "yaxis": {
            "backgroundcolor": "#E5ECF6",
            "gridcolor": "white",
            "gridwidth": 2,
            "linecolor": "white",
            "showbackground": true,
            "ticks": "",
            "zerolinecolor": "white"
           },
           "zaxis": {
            "backgroundcolor": "#E5ECF6",
            "gridcolor": "white",
            "gridwidth": 2,
            "linecolor": "white",
            "showbackground": true,
            "ticks": "",
            "zerolinecolor": "white"
           }
          },
          "shapedefaults": {
           "line": {
            "color": "#2a3f5f"
           }
          },
          "ternary": {
           "aaxis": {
            "gridcolor": "white",
            "linecolor": "white",
            "ticks": ""
           },
           "baxis": {
            "gridcolor": "white",
            "linecolor": "white",
            "ticks": ""
           },
           "bgcolor": "#E5ECF6",
           "caxis": {
            "gridcolor": "white",
            "linecolor": "white",
            "ticks": ""
           }
          },
          "title": {
           "x": 0.05
          },
          "xaxis": {
           "automargin": true,
           "gridcolor": "white",
           "linecolor": "white",
           "ticks": "",
           "title": {
            "standoff": 15
           },
           "zerolinecolor": "white",
           "zerolinewidth": 2
          },
          "yaxis": {
           "automargin": true,
           "gridcolor": "white",
           "linecolor": "white",
           "ticks": "",
           "title": {
            "standoff": 15
           },
           "zerolinecolor": "white",
           "zerolinewidth": 2
          }
         }
        },
        "title": {
         "text": "Perceptions of Corruption World Map"
        }
       }
      }
     },
     "metadata": {},
     "output_type": "display_data"
    }
   ],
   "source": [
    "#Visualise Perception of corruption scores on a global scale\n",
    "\n",
    "corruption_world_map = px.choropleth(happy_region_df, locations = \"iso_alpha\", \n",
    "              color = \"perceptions_of_corruption\", scope = 'world', title = \"Perceptions of Corruption World Map\", \n",
    "              color_continuous_scale= \"rdylgn_r\", hover_name=\"country\")\n",
    "\n",
    "corruption_world_map.show()"
   ]
  },
  {
   "cell_type": "markdown",
   "metadata": {},
   "source": [
    "The citizens of Finland are the happiest in the world, whilst Afghanistans citizens are the least happy. Oceania is the happiest region when evaluating the mean happiness scores of its (two) countries. Europe, on average is the next happiest region, whilst Africa is the least happy region. The happiness scores in Asia are very dispersed, which is seen also in the sub-regions of Western Asia, Eastern Asia and Southern Asia. Northern Europe is the happiest sub-region when looking at the mean happiness scores of its countries, whilst Sub-Saharan Africa and Southern Asia score the lowest for mean happiness scores."
   ]
  },
  {
   "cell_type": "markdown",
   "metadata": {},
   "source": []
  }
 ],
 "metadata": {
  "kernelspec": {
   "display_name": "Python 3.11.0 64-bit",
   "language": "python",
   "name": "python3"
  },
  "language_info": {
   "codemirror_mode": {
    "name": "ipython",
    "version": 3
   },
   "file_extension": ".py",
   "mimetype": "text/x-python",
   "name": "python",
   "nbconvert_exporter": "python",
   "pygments_lexer": "ipython3",
   "version": "3.11.0"
  },
  "orig_nbformat": 4,
  "vscode": {
   "interpreter": {
    "hash": "c261aea317cc0286b3b3261fbba9abdec21eaa57589985bb7a274bf54d6cc0a7"
   }
  }
 },
 "nbformat": 4,
 "nbformat_minor": 2
}
